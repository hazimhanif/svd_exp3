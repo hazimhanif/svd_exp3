{
 "cells": [
  {
   "cell_type": "markdown",
   "metadata": {},
   "source": [
    "# Exploration of the Data Provided by Zhang et. al (2019)"
   ]
  },
  {
   "cell_type": "markdown",
   "metadata": {},
   "source": [
    "## Clone Data"
   ]
  },
  {
   "cell_type": "markdown",
   "metadata": {},
   "source": [
    "#### C Data  (Open Judge dataset)"
   ]
  },
  {
   "cell_type": "code",
   "execution_count": 3,
   "metadata": {},
   "outputs": [],
   "source": [
    "import pandas as pd\n",
    "import matplotlib.pyplot as plt"
   ]
  },
  {
   "cell_type": "code",
   "execution_count": 2,
   "metadata": {},
   "outputs": [],
   "source": [
    "## Read data\n",
    "\n",
    "mydf = pd.read_pickle('astnn/clone/data/c/oj_clone_ids.pkl')"
   ]
  },
  {
   "cell_type": "code",
   "execution_count": 3,
   "metadata": {},
   "outputs": [
    {
     "data": {
      "text/html": [
       "<div>\n",
       "<style scoped>\n",
       "    .dataframe tbody tr th:only-of-type {\n",
       "        vertical-align: middle;\n",
       "    }\n",
       "\n",
       "    .dataframe tbody tr th {\n",
       "        vertical-align: top;\n",
       "    }\n",
       "\n",
       "    .dataframe thead th {\n",
       "        text-align: right;\n",
       "    }\n",
       "</style>\n",
       "<table border=\"1\" class=\"dataframe\">\n",
       "  <thead>\n",
       "    <tr style=\"text-align: right;\">\n",
       "      <th></th>\n",
       "      <th>id1</th>\n",
       "      <th>id2</th>\n",
       "      <th>label</th>\n",
       "    </tr>\n",
       "  </thead>\n",
       "  <tbody>\n",
       "    <tr>\n",
       "      <th>0</th>\n",
       "      <td>9557</td>\n",
       "      <td>26409</td>\n",
       "      <td>0</td>\n",
       "    </tr>\n",
       "    <tr>\n",
       "      <th>1</th>\n",
       "      <td>9200</td>\n",
       "      <td>26262</td>\n",
       "      <td>0</td>\n",
       "    </tr>\n",
       "    <tr>\n",
       "      <th>2</th>\n",
       "      <td>9160</td>\n",
       "      <td>27271</td>\n",
       "      <td>0</td>\n",
       "    </tr>\n",
       "    <tr>\n",
       "      <th>3</th>\n",
       "      <td>26188</td>\n",
       "      <td>8381</td>\n",
       "      <td>0</td>\n",
       "    </tr>\n",
       "    <tr>\n",
       "      <th>4</th>\n",
       "      <td>8368</td>\n",
       "      <td>26346</td>\n",
       "      <td>0</td>\n",
       "    </tr>\n",
       "    <tr>\n",
       "      <th>...</th>\n",
       "      <td>...</td>\n",
       "      <td>...</td>\n",
       "      <td>...</td>\n",
       "    </tr>\n",
       "    <tr>\n",
       "      <th>49995</th>\n",
       "      <td>9248</td>\n",
       "      <td>12711</td>\n",
       "      <td>0</td>\n",
       "    </tr>\n",
       "    <tr>\n",
       "      <th>49996</th>\n",
       "      <td>9885</td>\n",
       "      <td>28985</td>\n",
       "      <td>0</td>\n",
       "    </tr>\n",
       "    <tr>\n",
       "      <th>49997</th>\n",
       "      <td>45450</td>\n",
       "      <td>27027</td>\n",
       "      <td>0</td>\n",
       "    </tr>\n",
       "    <tr>\n",
       "      <th>49998</th>\n",
       "      <td>29545</td>\n",
       "      <td>27189</td>\n",
       "      <td>0</td>\n",
       "    </tr>\n",
       "    <tr>\n",
       "      <th>49999</th>\n",
       "      <td>16567</td>\n",
       "      <td>38662</td>\n",
       "      <td>0</td>\n",
       "    </tr>\n",
       "  </tbody>\n",
       "</table>\n",
       "<p>50000 rows × 3 columns</p>\n",
       "</div>"
      ],
      "text/plain": [
       "         id1    id2 label\n",
       "0       9557  26409     0\n",
       "1       9200  26262     0\n",
       "2       9160  27271     0\n",
       "3      26188   8381     0\n",
       "4       8368  26346     0\n",
       "...      ...    ...   ...\n",
       "49995   9248  12711     0\n",
       "49996   9885  28985     0\n",
       "49997  45450  27027     0\n",
       "49998  29545  27189     0\n",
       "49999  16567  38662     0\n",
       "\n",
       "[50000 rows x 3 columns]"
      ]
     },
     "execution_count": 3,
     "metadata": {},
     "output_type": "execute_result"
    }
   ],
   "source": [
    "mydf"
   ]
  },
  {
   "cell_type": "code",
   "execution_count": 15,
   "metadata": {},
   "outputs": [
    {
     "data": {
      "text/plain": [
       "0    46714\n",
       "1     3286\n",
       "Name: label, dtype: int64"
      ]
     },
     "execution_count": 15,
     "metadata": {},
     "output_type": "execute_result"
    }
   ],
   "source": [
    "mydf.iloc[:,2].value_counts()"
   ]
  },
  {
   "cell_type": "code",
   "execution_count": 9,
   "metadata": {},
   "outputs": [
    {
     "data": {
      "text/html": [
       "<div>\n",
       "<style scoped>\n",
       "    .dataframe tbody tr th:only-of-type {\n",
       "        vertical-align: middle;\n",
       "    }\n",
       "\n",
       "    .dataframe tbody tr th {\n",
       "        vertical-align: top;\n",
       "    }\n",
       "\n",
       "    .dataframe thead th {\n",
       "        text-align: right;\n",
       "    }\n",
       "</style>\n",
       "<table border=\"1\" class=\"dataframe\">\n",
       "  <thead>\n",
       "    <tr style=\"text-align: right;\">\n",
       "      <th></th>\n",
       "      <th>id1</th>\n",
       "      <th>id2</th>\n",
       "      <th>label</th>\n",
       "    </tr>\n",
       "  </thead>\n",
       "  <tbody>\n",
       "    <tr>\n",
       "      <th>2</th>\n",
       "      <td>9160</td>\n",
       "      <td>27271</td>\n",
       "      <td>0</td>\n",
       "    </tr>\n",
       "    <tr>\n",
       "      <th>10370</th>\n",
       "      <td>9160</td>\n",
       "      <td>29540</td>\n",
       "      <td>0</td>\n",
       "    </tr>\n",
       "    <tr>\n",
       "      <th>12102</th>\n",
       "      <td>9160</td>\n",
       "      <td>45349</td>\n",
       "      <td>0</td>\n",
       "    </tr>\n",
       "    <tr>\n",
       "      <th>15514</th>\n",
       "      <td>9160</td>\n",
       "      <td>29538</td>\n",
       "      <td>0</td>\n",
       "    </tr>\n",
       "    <tr>\n",
       "      <th>15841</th>\n",
       "      <td>9160</td>\n",
       "      <td>8252</td>\n",
       "      <td>0</td>\n",
       "    </tr>\n",
       "    <tr>\n",
       "      <th>24450</th>\n",
       "      <td>9160</td>\n",
       "      <td>34817</td>\n",
       "      <td>0</td>\n",
       "    </tr>\n",
       "    <tr>\n",
       "      <th>38589</th>\n",
       "      <td>9160</td>\n",
       "      <td>16798</td>\n",
       "      <td>0</td>\n",
       "    </tr>\n",
       "  </tbody>\n",
       "</table>\n",
       "</div>"
      ],
      "text/plain": [
       "        id1    id2 label\n",
       "2      9160  27271     0\n",
       "10370  9160  29540     0\n",
       "12102  9160  45349     0\n",
       "15514  9160  29538     0\n",
       "15841  9160   8252     0\n",
       "24450  9160  34817     0\n",
       "38589  9160  16798     0"
      ]
     },
     "execution_count": 9,
     "metadata": {},
     "output_type": "execute_result"
    }
   ],
   "source": [
    "## Check for id 9160\n",
    "\n",
    "mydf[mydf.id1==9160]"
   ]
  },
  {
   "cell_type": "code",
   "execution_count": 14,
   "metadata": {},
   "outputs": [
    {
     "data": {
      "text/html": [
       "<div>\n",
       "<style scoped>\n",
       "    .dataframe tbody tr th:only-of-type {\n",
       "        vertical-align: middle;\n",
       "    }\n",
       "\n",
       "    .dataframe tbody tr th {\n",
       "        vertical-align: top;\n",
       "    }\n",
       "\n",
       "    .dataframe thead th {\n",
       "        text-align: right;\n",
       "    }\n",
       "</style>\n",
       "<table border=\"1\" class=\"dataframe\">\n",
       "  <thead>\n",
       "    <tr style=\"text-align: right;\">\n",
       "      <th></th>\n",
       "      <th>id1</th>\n",
       "      <th>id2</th>\n",
       "      <th>label</th>\n",
       "    </tr>\n",
       "  </thead>\n",
       "  <tbody>\n",
       "    <tr>\n",
       "      <th>15863</th>\n",
       "      <td>38660</td>\n",
       "      <td>9160</td>\n",
       "      <td>0</td>\n",
       "    </tr>\n",
       "    <tr>\n",
       "      <th>32549</th>\n",
       "      <td>3656</td>\n",
       "      <td>9160</td>\n",
       "      <td>0</td>\n",
       "    </tr>\n",
       "    <tr>\n",
       "      <th>45267</th>\n",
       "      <td>3535</td>\n",
       "      <td>9160</td>\n",
       "      <td>0</td>\n",
       "    </tr>\n",
       "    <tr>\n",
       "      <th>48023</th>\n",
       "      <td>27219</td>\n",
       "      <td>9160</td>\n",
       "      <td>0</td>\n",
       "    </tr>\n",
       "  </tbody>\n",
       "</table>\n",
       "</div>"
      ],
      "text/plain": [
       "         id1   id2 label\n",
       "15863  38660  9160     0\n",
       "32549   3656  9160     0\n",
       "45267   3535  9160     0\n",
       "48023  27219  9160     0"
      ]
     },
     "execution_count": 14,
     "metadata": {},
     "output_type": "execute_result"
    }
   ],
   "source": [
    "## Check for id 9160\n",
    "\n",
    "mydf[mydf.id2==9160]"
   ]
  },
  {
   "cell_type": "code",
   "execution_count": 24,
   "metadata": {},
   "outputs": [
    {
     "data": {
      "text/html": [
       "<div>\n",
       "<style scoped>\n",
       "    .dataframe tbody tr th:only-of-type {\n",
       "        vertical-align: middle;\n",
       "    }\n",
       "\n",
       "    .dataframe tbody tr th {\n",
       "        vertical-align: top;\n",
       "    }\n",
       "\n",
       "    .dataframe thead th {\n",
       "        text-align: right;\n",
       "    }\n",
       "</style>\n",
       "<table border=\"1\" class=\"dataframe\">\n",
       "  <thead>\n",
       "    <tr style=\"text-align: right;\">\n",
       "      <th></th>\n",
       "      <th>id1</th>\n",
       "      <th>id2</th>\n",
       "      <th>label</th>\n",
       "    </tr>\n",
       "  </thead>\n",
       "  <tbody>\n",
       "  </tbody>\n",
       "</table>\n",
       "</div>"
      ],
      "text/plain": [
       "Empty DataFrame\n",
       "Columns: [id1, id2, label]\n",
       "Index: []"
      ]
     },
     "execution_count": 24,
     "metadata": {},
     "output_type": "execute_result"
    }
   ],
   "source": [
    "mydf[mydf.id1 == mydf.id2]"
   ]
  },
  {
   "cell_type": "markdown",
   "metadata": {},
   "source": [
    "##### So, there's no same id occurance between the 2 columns"
   ]
  },
  {
   "cell_type": "code",
   "execution_count": 12,
   "metadata": {},
   "outputs": [
    {
     "data": {
      "text/plain": [
       "'struct information\\n{\\n\\tint a;\\n\\tchar s[26];\\n\\tint len;\\n}xinxi[1000];\\n\\n\\nvoid main()\\n{\\n\\tint n,i,c[26]={0},max,t,j;\\n\\n\\tscanf(\"%d\",&n);\\n\\tfor(i=0;i<n;i++)\\n\\t{\\n\\t\\tscanf(\"%d %s\",&xinxi[i].a,xinxi[i].s);\\n        xinxi[i].len=strlen(xinxi[i].s) ;\\n\\t}\\n\\tfor(i=0;i<n;i++)\\n      for(j=0;j<xinxi[i].len;j++)\\n\\t  {\\n\\t\\t  if(xinxi[i].s[j]==\\'A\\')  c[1]++;\\n\\t\\t  if(xinxi[i].s[j]==\\'B\\')  c[2]++;\\n\\t\\t  if(xinxi[i].s[j]==\\'C\\')  c[3]++;\\n\\t\\t  if(xinxi[i].s[j]==\\'D\\')  c[4]++;\\n\\t\\t  if(xinxi[i].s[j]==\\'E\\')  c[5]++;\\n\\t\\t  if(xinxi[i].s[j]==\\'F\\')  c[6]++;\\n\\t\\t  if(xinxi[i].s[j]==\\'G\\')  c[7]++;\\n\\t\\t  if(xinxi[i].s[j]==\\'H\\')  c[8]++;\\n\\t\\t  if(xinxi[i].s[j]==\\'I\\')  c[9]++;\\n\\t\\t  if(xinxi[i].s[j]==\\'J\\')  c[10]++;\\n\\t\\t  if(xinxi[i].s[j]==\\'K\\')  c[11]++;\\n\\t\\t  if(xinxi[i].s[j]==\\'L\\')  c[12]++;\\n\\t\\t  if(xinxi[i].s[j]==\\'M\\')  c[13]++;\\n\\t\\t  if(xinxi[i].s[j]==\\'N\\')  c[14]++;\\n\\t\\t  if(xinxi[i].s[j]==\\'O\\')  c[15]++;\\n\\t\\t  if(xinxi[i].s[j]==\\'P\\')  c[16]++;\\n\\t\\t  if(xinxi[i].s[j]==\\'Q\\')  c[17]++;\\n\\t\\t  if(xinxi[i].s[j]==\\'R\\')  c[18]++;\\n\\t\\t  if(xinxi[i].s[j]==\\'S\\')  c[19]++;\\n\\t\\t  if(xinxi[i].s[j]==\\'T\\')  c[20]++;\\n\\t\\t  if(xinxi[i].s[j]==\\'U\\')  c[21]++;\\n\\t\\t  if(xinxi[i].s[j]==\\'V\\')  c[22]++;\\n\\t\\t  if(xinxi[i].s[j]==\\'W\\')  c[23]++;\\n\\t\\t  if(xinxi[i].s[j]==\\'X\\')  c[24]++;\\n\\t\\t  if(xinxi[i].s[j]==\\'Y\\')  c[25]++;\\n\\t\\t  if(xinxi[i].s[j]==\\'Z\\')  c[26]++;\\n\\t  }\\n\\t  max=c[0];\\n\\t  t=0;\\n    for(i=1;i<26;i++)\\n\\t{\\n\\t\\tif(c[i]>max)\\n\\t\\t{\\n\\t\\t\\tmax=c[i];\\n\\t\\t\\tt=i;\\n\\t\\t}\\n\\t}\\n\\tprintf(\"%c\\\\n\",64+t);\\n\\tprintf(\"%d\\\\n\",c[t]);\\n\\tfor(i=0;i<n;i++)\\n\\t\\tfor(j=0;j<xinxi[i].len;j++)\\n\\t\\t\\tif(xinxi[i].s[j]==64+t)\\n\\t\\t\\t\\tprintf(\"%d\\\\n\",xinxi[i].a);\\n}\\n'"
      ]
     },
     "execution_count": 12,
     "metadata": {},
     "output_type": "execute_result"
    }
   ],
   "source": [
    "mydf2.iloc[9160,1]"
   ]
  },
  {
   "cell_type": "code",
   "execution_count": 16,
   "metadata": {},
   "outputs": [
    {
     "data": {
      "text/plain": [
       "'\\n\\n\\n\\nvoid out( int,int );\\n\\nint t = 1;\\n\\n\\nint main()\\n{\\n\\tint n = 0;\\n\\tint i = 0;\\n\\tdouble sum = 0;\\n\\tcin >> n;\\n\\n\\tfor( i = 1;i <= n;i++ )\\n\\t{\\n\\t\\tcin >> sum;\\n\\t\\tout(sum,2.0);\\n\\t\\tcout << t << endl;\\n\\t\\tt = 1;\\n\\t}\\n\\n\\tcin >> i;\\n\\n\\treturn 0;\\n}\\n\\nvoid out(int sum,int q )\\n{\\n\\t\\tint num = 0;\\n\\t\\tdouble m = sum;\\n\\t\\tnum = sqrt(m);\\n\\t\\tif( sum % q == 0 && q <= num )\\n\\t\\t{\\n\\t\\t\\tt++;\\n\\t\\t\\tout( sum / q,q );\\n\\t\\t\\tout( sum,q + 1 );\\n\\t\\t}\\n\\t\\tif( sum % q != 0 && q <= num )\\n\\t\\t\\tout( sum,q + 1);\\n}\\n\\n\\n\\n\\n'"
      ]
     },
     "execution_count": 16,
     "metadata": {},
     "output_type": "execute_result"
    }
   ],
   "source": [
    "mydf2.iloc[45,1]"
   ]
  },
  {
   "cell_type": "code",
   "execution_count": 10,
   "metadata": {},
   "outputs": [],
   "source": [
    "mydf2 = pd.read_pickle('astnn/clone/data/c/programs.pkl')"
   ]
  },
  {
   "cell_type": "code",
   "execution_count": 11,
   "metadata": {},
   "outputs": [
    {
     "data": {
      "text/html": [
       "<div>\n",
       "<style scoped>\n",
       "    .dataframe tbody tr th:only-of-type {\n",
       "        vertical-align: middle;\n",
       "    }\n",
       "\n",
       "    .dataframe tbody tr th {\n",
       "        vertical-align: top;\n",
       "    }\n",
       "\n",
       "    .dataframe thead th {\n",
       "        text-align: right;\n",
       "    }\n",
       "</style>\n",
       "<table border=\"1\" class=\"dataframe\">\n",
       "  <thead>\n",
       "    <tr style=\"text-align: right;\">\n",
       "      <th></th>\n",
       "      <th>id</th>\n",
       "      <th>code</th>\n",
       "      <th>label</th>\n",
       "    </tr>\n",
       "  </thead>\n",
       "  <tbody>\n",
       "    <tr>\n",
       "      <th>0</th>\n",
       "      <td>0</td>\n",
       "      <td>int main()\\n{\\n\\tint a;\\n\\tint bai,wushi,ershi...</td>\n",
       "      <td>97</td>\n",
       "    </tr>\n",
       "    <tr>\n",
       "      <th>1</th>\n",
       "      <td>1</td>\n",
       "      <td>int main()\\n{\\n    int m,x100,x50,x20,x10,x5,x...</td>\n",
       "      <td>97</td>\n",
       "    </tr>\n",
       "    <tr>\n",
       "      <th>2</th>\n",
       "      <td>2</td>\n",
       "      <td>int main()\\n{\\n    int n,i,shuzu[111],count1=0...</td>\n",
       "      <td>97</td>\n",
       "    </tr>\n",
       "    <tr>\n",
       "      <th>3</th>\n",
       "      <td>3</td>\n",
       "      <td>int main()\\n{\\n\\tint n,a1=0,a2=0,a3=0,a4=0,a5=...</td>\n",
       "      <td>97</td>\n",
       "    </tr>\n",
       "    <tr>\n",
       "      <th>4</th>\n",
       "      <td>4</td>\n",
       "      <td>int main()\\n{\\n\\tint n,a,b,c,d,e,f;\\n\\ta=0;b=0...</td>\n",
       "      <td>97</td>\n",
       "    </tr>\n",
       "    <tr>\n",
       "      <th>...</th>\n",
       "      <td>...</td>\n",
       "      <td>...</td>\n",
       "      <td>...</td>\n",
       "    </tr>\n",
       "    <tr>\n",
       "      <th>51996</th>\n",
       "      <td>51996</td>\n",
       "      <td>int topjudge(int a[][20],int m,int n,int p,int...</td>\n",
       "      <td>72</td>\n",
       "    </tr>\n",
       "    <tr>\n",
       "      <th>51997</th>\n",
       "      <td>51997</td>\n",
       "      <td>int main()\\n{\\n    int m,n;\\n    cin&gt;&gt;m&gt;&gt;n;\\n ...</td>\n",
       "      <td>72</td>\n",
       "    </tr>\n",
       "    <tr>\n",
       "      <th>51998</th>\n",
       "      <td>51998</td>\n",
       "      <td>void sort (int *data,int n)\\n{\\n     int i,j,*...</td>\n",
       "      <td>72</td>\n",
       "    </tr>\n",
       "    <tr>\n",
       "      <th>51999</th>\n",
       "      <td>51999</td>\n",
       "      <td>void main()\\n{\\n\\tint m,n,i,j,a[20][20],b[20][...</td>\n",
       "      <td>72</td>\n",
       "    </tr>\n",
       "    <tr>\n",
       "      <th>52000</th>\n",
       "      <td>52000</td>\n",
       "      <td>int main()\\n{\\n\\tint s[100][100],m,n,i,j,k,l;\\...</td>\n",
       "      <td>72</td>\n",
       "    </tr>\n",
       "  </tbody>\n",
       "</table>\n",
       "<p>52001 rows × 3 columns</p>\n",
       "</div>"
      ],
      "text/plain": [
       "          id                                               code  label\n",
       "0          0  int main()\\n{\\n\\tint a;\\n\\tint bai,wushi,ershi...     97\n",
       "1          1  int main()\\n{\\n    int m,x100,x50,x20,x10,x5,x...     97\n",
       "2          2  int main()\\n{\\n    int n,i,shuzu[111],count1=0...     97\n",
       "3          3  int main()\\n{\\n\\tint n,a1=0,a2=0,a3=0,a4=0,a5=...     97\n",
       "4          4  int main()\\n{\\n\\tint n,a,b,c,d,e,f;\\n\\ta=0;b=0...     97\n",
       "...      ...                                                ...    ...\n",
       "51996  51996  int topjudge(int a[][20],int m,int n,int p,int...     72\n",
       "51997  51997  int main()\\n{\\n    int m,n;\\n    cin>>m>>n;\\n ...     72\n",
       "51998  51998  void sort (int *data,int n)\\n{\\n     int i,j,*...     72\n",
       "51999  51999  void main()\\n{\\n\\tint m,n,i,j,a[20][20],b[20][...     72\n",
       "52000  52000  int main()\\n{\\n\\tint s[100][100],m,n,i,j,k,l;\\...     72\n",
       "\n",
       "[52001 rows x 3 columns]"
      ]
     },
     "execution_count": 11,
     "metadata": {},
     "output_type": "execute_result"
    }
   ],
   "source": [
    "mydf2.columns = ['id','code','label']\n",
    "mydf2"
   ]
  },
  {
   "cell_type": "code",
   "execution_count": 7,
   "metadata": {},
   "outputs": [
    {
     "data": {
      "text/plain": [
       "'int main()\\n{\\n    int m,x100,x50,x20,x10,x5,x1;\\n    cin>>m;\\n    for(x100=1;m>=100;x100++)\\n    {\\n                    m=m-100;\\n    }\\n    \\n    for(x50=1;m>=50;x50++)\\n    {\\n                    m=m-50;\\n    }\\n    \\n    for(x20=1;m>=20;x20++)\\n    {\\n                    m=m-20;\\n    }\\n    \\n    for(x10=1;m>=10;x10++)\\n    {\\n                    m=m-10;\\n    }\\n    \\n    for(x5=1;m>=5;x5++)\\n    {\\n                    m=m-5;\\n    }\\n   \\n    x1=m;\\n    \\n    cout<<x100-1<<endl;\\n    cout<<x50-1<<endl<<x20-1<<endl<<x10-1<<endl<<x5-1<<endl<<x1;\\n                    \\n\\n   return 0;\\n}\\n'"
      ]
     },
     "execution_count": 7,
     "metadata": {},
     "output_type": "execute_result"
    }
   ],
   "source": [
    "mydf2.iloc[1,1]"
   ]
  },
  {
   "cell_type": "code",
   "execution_count": 8,
   "metadata": {},
   "outputs": [
    {
     "name": "stdout",
     "output_type": "stream",
     "text": [
      "Number of labels:\n"
     ]
    },
    {
     "data": {
      "text/plain": [
       "1     501\n",
       "95    500\n",
       "10    500\n",
       "39    500\n",
       "71    500\n",
       "     ... \n",
       "53    500\n",
       "85    500\n",
       "22    500\n",
       "54    500\n",
       "32    500\n",
       "Name: label, Length: 104, dtype: int64"
      ]
     },
     "execution_count": 8,
     "metadata": {},
     "output_type": "execute_result"
    }
   ],
   "source": [
    "print(\"Number of labels:\")\n",
    "mydf2.iloc[:,2].value_counts()"
   ]
  },
  {
   "cell_type": "code",
   "execution_count": 22,
   "metadata": {},
   "outputs": [
    {
     "data": {
      "text/html": [
       "<div>\n",
       "<style scoped>\n",
       "    .dataframe tbody tr th:only-of-type {\n",
       "        vertical-align: middle;\n",
       "    }\n",
       "\n",
       "    .dataframe tbody tr th {\n",
       "        vertical-align: top;\n",
       "    }\n",
       "\n",
       "    .dataframe thead th {\n",
       "        text-align: right;\n",
       "    }\n",
       "</style>\n",
       "<table border=\"1\" class=\"dataframe\">\n",
       "  <thead>\n",
       "    <tr style=\"text-align: right;\">\n",
       "      <th></th>\n",
       "      <th>id</th>\n",
       "      <th>code</th>\n",
       "      <th>label</th>\n",
       "    </tr>\n",
       "  </thead>\n",
       "  <tbody>\n",
       "    <tr>\n",
       "      <th>9000</th>\n",
       "      <td>9000</td>\n",
       "      <td>int main()\\n{\\n\\tint n;\\n\\tcin&gt;&gt;n;\\n\\tint book...</td>\n",
       "      <td>2</td>\n",
       "    </tr>\n",
       "    <tr>\n",
       "      <th>9001</th>\n",
       "      <td>9001</td>\n",
       "      <td>\\n struct book\\n   {\\n\\t   int num;\\n\\t   ...</td>\n",
       "      <td>2</td>\n",
       "    </tr>\n",
       "    <tr>\n",
       "      <th>9002</th>\n",
       "      <td>9002</td>\n",
       "      <td>\\n\\n\\nint main()\\n{\\n\\tint n,book[1000],i,j,co...</td>\n",
       "      <td>2</td>\n",
       "    </tr>\n",
       "    <tr>\n",
       "      <th>9003</th>\n",
       "      <td>9003</td>\n",
       "      <td>int max(int array[26])\\n{\\n\\tint i,max=0;\\n\\tf...</td>\n",
       "      <td>2</td>\n",
       "    </tr>\n",
       "    <tr>\n",
       "      <th>9004</th>\n",
       "      <td>9004</td>\n",
       "      <td>int main()\\n{\\n\\tint i,j,n,x[1000],a[26],b,c,n...</td>\n",
       "      <td>2</td>\n",
       "    </tr>\n",
       "    <tr>\n",
       "      <th>...</th>\n",
       "      <td>...</td>\n",
       "      <td>...</td>\n",
       "      <td>...</td>\n",
       "    </tr>\n",
       "    <tr>\n",
       "      <th>9495</th>\n",
       "      <td>9495</td>\n",
       "      <td>struct book\\n{int num;\\nchar w[26];\\n}b[999];\\...</td>\n",
       "      <td>2</td>\n",
       "    </tr>\n",
       "    <tr>\n",
       "      <th>9496</th>\n",
       "      <td>9496</td>\n",
       "      <td>\\n\\nint main()\\n{\\n    char ma='A';\\n    int c...</td>\n",
       "      <td>2</td>\n",
       "    </tr>\n",
       "    <tr>\n",
       "      <th>9497</th>\n",
       "      <td>9497</td>\n",
       "      <td>\\nint main()\\n{\\n\\tint bkn,m=1,n,i,j;\\n\\tchar ...</td>\n",
       "      <td>2</td>\n",
       "    </tr>\n",
       "    <tr>\n",
       "      <th>9498</th>\n",
       "      <td>9498</td>\n",
       "      <td>struct book\\n{\\n\\tint id;\\n\\tchar writer[26];\\...</td>\n",
       "      <td>2</td>\n",
       "    </tr>\n",
       "    <tr>\n",
       "      <th>9499</th>\n",
       "      <td>9499</td>\n",
       "      <td>struct worker\\n{\\n\\tint nm;\\n\\tchar name1[26];...</td>\n",
       "      <td>2</td>\n",
       "    </tr>\n",
       "  </tbody>\n",
       "</table>\n",
       "<p>500 rows × 3 columns</p>\n",
       "</div>"
      ],
      "text/plain": [
       "        id                                               code  label\n",
       "9000  9000  int main()\\n{\\n\\tint n;\\n\\tcin>>n;\\n\\tint book...      2\n",
       "9001  9001      \\n struct book\\n   {\\n\\t   int num;\\n\\t   ...      2\n",
       "9002  9002  \\n\\n\\nint main()\\n{\\n\\tint n,book[1000],i,j,co...      2\n",
       "9003  9003  int max(int array[26])\\n{\\n\\tint i,max=0;\\n\\tf...      2\n",
       "9004  9004  int main()\\n{\\n\\tint i,j,n,x[1000],a[26],b,c,n...      2\n",
       "...    ...                                                ...    ...\n",
       "9495  9495  struct book\\n{int num;\\nchar w[26];\\n}b[999];\\...      2\n",
       "9496  9496  \\n\\nint main()\\n{\\n    char ma='A';\\n    int c...      2\n",
       "9497  9497  \\nint main()\\n{\\n\\tint bkn,m=1,n,i,j;\\n\\tchar ...      2\n",
       "9498  9498  struct book\\n{\\n\\tint id;\\n\\tchar writer[26];\\...      2\n",
       "9499  9499  struct worker\\n{\\n\\tint nm;\\n\\tchar name1[26];...      2\n",
       "\n",
       "[500 rows x 3 columns]"
      ]
     },
     "execution_count": 22,
     "metadata": {},
     "output_type": "execute_result"
    }
   ],
   "source": [
    "mydf2[mydf2.label==2]"
   ]
  },
  {
   "cell_type": "markdown",
   "metadata": {},
   "source": [
    "#### Java data (Big Code Bench Dataset)"
   ]
  },
  {
   "cell_type": "code",
   "execution_count": 10,
   "metadata": {},
   "outputs": [],
   "source": [
    "jdf = pd.read_csv('astnn/clone/data/java/bcb_funcs_all.tsv',delimiter='\\t',header=None)"
   ]
  },
  {
   "cell_type": "code",
   "execution_count": 11,
   "metadata": {},
   "outputs": [
    {
     "data": {
      "text/html": [
       "<div>\n",
       "<style scoped>\n",
       "    .dataframe tbody tr th:only-of-type {\n",
       "        vertical-align: middle;\n",
       "    }\n",
       "\n",
       "    .dataframe tbody tr th {\n",
       "        vertical-align: top;\n",
       "    }\n",
       "\n",
       "    .dataframe thead th {\n",
       "        text-align: right;\n",
       "    }\n",
       "</style>\n",
       "<table border=\"1\" class=\"dataframe\">\n",
       "  <thead>\n",
       "    <tr style=\"text-align: right;\">\n",
       "      <th></th>\n",
       "      <th>0</th>\n",
       "      <th>1</th>\n",
       "    </tr>\n",
       "  </thead>\n",
       "  <tbody>\n",
       "    <tr>\n",
       "      <th>0</th>\n",
       "      <td>74</td>\n",
       "      <td>static void copy(String src, String dest) ...</td>\n",
       "    </tr>\n",
       "    <tr>\n",
       "      <th>1</th>\n",
       "      <td>661</td>\n",
       "      <td>public void convert(File src, File dest) t...</td>\n",
       "    </tr>\n",
       "    <tr>\n",
       "      <th>2</th>\n",
       "      <td>1362</td>\n",
       "      <td>public static int[] bubbleSort(int... a) {...</td>\n",
       "    </tr>\n",
       "    <tr>\n",
       "      <th>3</th>\n",
       "      <td>1363</td>\n",
       "      <td>public static int[] bubbleSortOtimizado(in...</td>\n",
       "    </tr>\n",
       "    <tr>\n",
       "      <th>4</th>\n",
       "      <td>2450</td>\n",
       "      <td>public void process(String dir) {\\n       ...</td>\n",
       "    </tr>\n",
       "    <tr>\n",
       "      <th>...</th>\n",
       "      <td>...</td>\n",
       "      <td>...</td>\n",
       "    </tr>\n",
       "    <tr>\n",
       "      <th>59613</th>\n",
       "      <td>23653940</td>\n",
       "      <td>JarAgletClassLoader(URL codebase, Certific...</td>\n",
       "    </tr>\n",
       "    <tr>\n",
       "      <th>59614</th>\n",
       "      <td>23655348</td>\n",
       "      <td>public boolean fileCompare(String from, St...</td>\n",
       "    </tr>\n",
       "    <tr>\n",
       "      <th>59615</th>\n",
       "      <td>23672349</td>\n",
       "      <td>public static byte[] calculateMD4(byte[] d...</td>\n",
       "    </tr>\n",
       "    <tr>\n",
       "      <th>59616</th>\n",
       "      <td>23672350</td>\n",
       "      <td>public static byte[] calculateMD5(byte[] d...</td>\n",
       "    </tr>\n",
       "    <tr>\n",
       "      <th>59617</th>\n",
       "      <td>23672354</td>\n",
       "      <td>public static byte[] calculateSHA1(byte[] ...</td>\n",
       "    </tr>\n",
       "  </tbody>\n",
       "</table>\n",
       "<p>59618 rows × 2 columns</p>\n",
       "</div>"
      ],
      "text/plain": [
       "              0                                                  1\n",
       "0            74      static void copy(String src, String dest) ...\n",
       "1           661      public void convert(File src, File dest) t...\n",
       "2          1362      public static int[] bubbleSort(int... a) {...\n",
       "3          1363      public static int[] bubbleSortOtimizado(in...\n",
       "4          2450      public void process(String dir) {\\n       ...\n",
       "...         ...                                                ...\n",
       "59613  23653940      JarAgletClassLoader(URL codebase, Certific...\n",
       "59614  23655348      public boolean fileCompare(String from, St...\n",
       "59615  23672349      public static byte[] calculateMD4(byte[] d...\n",
       "59616  23672350      public static byte[] calculateMD5(byte[] d...\n",
       "59617  23672354      public static byte[] calculateSHA1(byte[] ...\n",
       "\n",
       "[59618 rows x 2 columns]"
      ]
     },
     "execution_count": 11,
     "metadata": {},
     "output_type": "execute_result"
    }
   ],
   "source": [
    "jdf"
   ]
  },
  {
   "cell_type": "code",
   "execution_count": 12,
   "metadata": {},
   "outputs": [
    {
     "data": {
      "text/plain": [
       "'    public void convert(File src, File dest) throws IOException {\\n        InputStream in = new BufferedInputStream(new FileInputStream(src));\\n        DcmParser p = pfact.newDcmParser(in);\\n        Dataset ds = fact.newDataset();\\n        p.setDcmHandler(ds.getDcmHandler());\\n        try {\\n            FileFormat format = p.detectFileFormat();\\n            if (format != FileFormat.ACRNEMA_STREAM) {\\n                System.out.println(\"\\\\n\" + src + \": not an ACRNEMA stream!\");\\n                return;\\n            }\\n            p.parseDcmFile(format, Tags.PixelData);\\n            if (ds.contains(Tags.StudyInstanceUID) || ds.contains(Tags.SeriesInstanceUID) || ds.contains(Tags.SOPInstanceUID) || ds.contains(Tags.SOPClassUID)) {\\n                System.out.println(\"\\\\n\" + src + \": contains UIDs!\" + \" => probable already DICOM - do not convert\");\\n                return;\\n            }\\n            boolean hasPixelData = p.getReadTag() == Tags.PixelData;\\n            boolean inflate = hasPixelData && ds.getInt(Tags.BitsAllocated, 0) == 12;\\n            int pxlen = p.getReadLength();\\n            if (hasPixelData) {\\n                if (inflate) {\\n                    ds.putUS(Tags.BitsAllocated, 16);\\n                    pxlen = pxlen * 4 / 3;\\n                }\\n                if (pxlen != (ds.getInt(Tags.BitsAllocated, 0) >>> 3) * ds.getInt(Tags.Rows, 0) * ds.getInt(Tags.Columns, 0) * ds.getInt(Tags.NumberOfFrames, 1) * ds.getInt(Tags.NumberOfSamples, 1)) {\\n                    System.out.println(\"\\\\n\" + src + \": mismatch pixel data length!\" + \" => do not convert\");\\n                    return;\\n                }\\n            }\\n            ds.putUI(Tags.StudyInstanceUID, uid(studyUID));\\n            ds.putUI(Tags.SeriesInstanceUID, uid(seriesUID));\\n            ds.putUI(Tags.SOPInstanceUID, uid(instUID));\\n            ds.putUI(Tags.SOPClassUID, classUID);\\n            if (!ds.contains(Tags.NumberOfSamples)) {\\n                ds.putUS(Tags.NumberOfSamples, 1);\\n            }\\n            if (!ds.contains(Tags.PhotometricInterpretation)) {\\n                ds.putCS(Tags.PhotometricInterpretation, \"MONOCHROME2\");\\n            }\\n            if (fmi) {\\n                ds.setFileMetaInfo(fact.newFileMetaInfo(ds, UIDs.ImplicitVRLittleEndian));\\n            }\\n            OutputStream out = new BufferedOutputStream(new FileOutputStream(dest));\\n            try {\\n            } finally {\\n                ds.writeFile(out, encodeParam());\\n                if (hasPixelData) {\\n                    if (!skipGroupLen) {\\n                        out.write(PXDATA_GROUPLEN);\\n                        int grlen = pxlen + 8;\\n                        out.write((byte) grlen);\\n                        out.write((byte) (grlen >> 8));\\n                        out.write((byte) (grlen >> 16));\\n                        out.write((byte) (grlen >> 24));\\n                    }\\n                    out.write(PXDATA_TAG);\\n                    out.write((byte) pxlen);\\n                    out.write((byte) (pxlen >> 8));\\n                    out.write((byte) (pxlen >> 16));\\n                    out.write((byte) (pxlen >> 24));\\n                }\\n                if (inflate) {\\n                    int b2, b3;\\n                    for (; pxlen > 0; pxlen -= 3) {\\n                        out.write(in.read());\\n                        b2 = in.read();\\n                        b3 = in.read();\\n                        out.write(b2 & 0x0f);\\n                        out.write(b2 >> 4 | ((b3 & 0x0f) << 4));\\n                        out.write(b3 >> 4);\\n                    }\\n                } else {\\n                    for (; pxlen > 0; --pxlen) {\\n                        out.write(in.read());\\n                    }\\n                }\\n                out.close();\\n            }\\n            System.out.print(\\'.\\');\\n        } finally {\\n            in.close();\\n        }\\n    }\\n'"
      ]
     },
     "execution_count": 12,
     "metadata": {},
     "output_type": "execute_result"
    }
   ],
   "source": [
    "jdf.iloc[1,1]"
   ]
  },
  {
   "cell_type": "code",
   "execution_count": 13,
   "metadata": {},
   "outputs": [],
   "source": [
    "jdf2 = pd.read_pickle('astnn/clone/data/java/bcb_pair_ids.pkl')"
   ]
  },
  {
   "cell_type": "code",
   "execution_count": 14,
   "metadata": {},
   "outputs": [
    {
     "data": {
      "text/html": [
       "<div>\n",
       "<style scoped>\n",
       "    .dataframe tbody tr th:only-of-type {\n",
       "        vertical-align: middle;\n",
       "    }\n",
       "\n",
       "    .dataframe tbody tr th {\n",
       "        vertical-align: top;\n",
       "    }\n",
       "\n",
       "    .dataframe thead th {\n",
       "        text-align: right;\n",
       "    }\n",
       "</style>\n",
       "<table border=\"1\" class=\"dataframe\">\n",
       "  <thead>\n",
       "    <tr style=\"text-align: right;\">\n",
       "      <th></th>\n",
       "      <th>id1</th>\n",
       "      <th>id2</th>\n",
       "      <th>label</th>\n",
       "    </tr>\n",
       "  </thead>\n",
       "  <tbody>\n",
       "    <tr>\n",
       "      <th>0</th>\n",
       "      <td>3024986</td>\n",
       "      <td>3024993</td>\n",
       "      <td>2</td>\n",
       "    </tr>\n",
       "    <tr>\n",
       "      <th>1</th>\n",
       "      <td>308643</td>\n",
       "      <td>727183</td>\n",
       "      <td>1</td>\n",
       "    </tr>\n",
       "    <tr>\n",
       "      <th>2</th>\n",
       "      <td>308643</td>\n",
       "      <td>587124</td>\n",
       "      <td>1</td>\n",
       "    </tr>\n",
       "    <tr>\n",
       "      <th>3</th>\n",
       "      <td>308643</td>\n",
       "      <td>481939</td>\n",
       "      <td>1</td>\n",
       "    </tr>\n",
       "    <tr>\n",
       "      <th>4</th>\n",
       "      <td>210006</td>\n",
       "      <td>308643</td>\n",
       "      <td>1</td>\n",
       "    </tr>\n",
       "    <tr>\n",
       "      <th>...</th>\n",
       "      <td>...</td>\n",
       "      <td>...</td>\n",
       "      <td>...</td>\n",
       "    </tr>\n",
       "    <tr>\n",
       "      <th>97530</th>\n",
       "      <td>20502118</td>\n",
       "      <td>23677111</td>\n",
       "      <td>0</td>\n",
       "    </tr>\n",
       "    <tr>\n",
       "      <th>97531</th>\n",
       "      <td>1468160</td>\n",
       "      <td>23677115</td>\n",
       "      <td>0</td>\n",
       "    </tr>\n",
       "    <tr>\n",
       "      <th>97532</th>\n",
       "      <td>8232818</td>\n",
       "      <td>23677118</td>\n",
       "      <td>0</td>\n",
       "    </tr>\n",
       "    <tr>\n",
       "      <th>97533</th>\n",
       "      <td>98304</td>\n",
       "      <td>23677118</td>\n",
       "      <td>0</td>\n",
       "    </tr>\n",
       "    <tr>\n",
       "      <th>97534</th>\n",
       "      <td>22503546</td>\n",
       "      <td>23677112</td>\n",
       "      <td>0</td>\n",
       "    </tr>\n",
       "  </tbody>\n",
       "</table>\n",
       "<p>97535 rows × 3 columns</p>\n",
       "</div>"
      ],
      "text/plain": [
       "            id1       id2 label\n",
       "0       3024986   3024993     2\n",
       "1        308643    727183     1\n",
       "2        308643    587124     1\n",
       "3        308643    481939     1\n",
       "4        210006    308643     1\n",
       "...         ...       ...   ...\n",
       "97530  20502118  23677111     0\n",
       "97531   1468160  23677115     0\n",
       "97532   8232818  23677118     0\n",
       "97533     98304  23677118     0\n",
       "97534  22503546  23677112     0\n",
       "\n",
       "[97535 rows x 3 columns]"
      ]
     },
     "execution_count": 14,
     "metadata": {},
     "output_type": "execute_result"
    }
   ],
   "source": [
    "jdf2"
   ]
  },
  {
   "cell_type": "code",
   "execution_count": 15,
   "metadata": {},
   "outputs": [
    {
     "name": "stdout",
     "output_type": "stream",
     "text": [
      "Number of labels:\n"
     ]
    },
    {
     "data": {
      "text/plain": [
       "5    20000\n",
       "4    20000\n",
       "0    20000\n",
       "3    18317\n",
       "1    15555\n",
       "2     3663\n",
       "Name: label, dtype: int64"
      ]
     },
     "execution_count": 15,
     "metadata": {},
     "output_type": "execute_result"
    }
   ],
   "source": [
    "print(\"Number of labels:\")\n",
    "jdf2.iloc[:,2].value_counts()"
   ]
  },
  {
   "cell_type": "code",
   "execution_count": 16,
   "metadata": {},
   "outputs": [
    {
     "data": {
      "text/plain": [
       "<BarContainer object of 6 artists>"
      ]
     },
     "execution_count": 16,
     "metadata": {},
     "output_type": "execute_result"
    },
    {
     "data": {
      "image/png": "[encoded data removed]",
      "text/plain": [
       "<Figure size 432x288 with 1 Axes>"
      ]
     },
     "metadata": {
      "needs_background": "light"
     },
     "output_type": "display_data"
    }
   ],
   "source": [
    "plt.bar(jdf2.iloc[:,2].value_counts().index.values,jdf2.iloc[:,2].value_counts().values)"
   ]
  },
  {
   "cell_type": "markdown",
   "metadata": {},
   "source": [
    "## Create Dummy Data for Clone Detection in C (OJ Clone)"
   ]
  },
  {
   "cell_type": "code",
   "execution_count": 31,
   "metadata": {},
   "outputs": [
    {
     "data": {
      "text/html": [
       "<div>\n",
       "<style scoped>\n",
       "    .dataframe tbody tr th:only-of-type {\n",
       "        vertical-align: middle;\n",
       "    }\n",
       "\n",
       "    .dataframe tbody tr th {\n",
       "        vertical-align: top;\n",
       "    }\n",
       "\n",
       "    .dataframe thead th {\n",
       "        text-align: right;\n",
       "    }\n",
       "</style>\n",
       "<table border=\"1\" class=\"dataframe\">\n",
       "  <thead>\n",
       "    <tr style=\"text-align: right;\">\n",
       "      <th></th>\n",
       "      <th>0</th>\n",
       "      <th>1</th>\n",
       "      <th>2</th>\n",
       "    </tr>\n",
       "  </thead>\n",
       "  <tbody>\n",
       "    <tr>\n",
       "      <th>0</th>\n",
       "      <td>0</td>\n",
       "      <td>int main()\\n{\\n\\tint a;\\n\\tint bai,wushi,ershi...</td>\n",
       "      <td>97</td>\n",
       "    </tr>\n",
       "    <tr>\n",
       "      <th>1</th>\n",
       "      <td>1</td>\n",
       "      <td>int main()\\n{\\n    int m,x100,x50,x20,x10,x5,x...</td>\n",
       "      <td>97</td>\n",
       "    </tr>\n",
       "    <tr>\n",
       "      <th>2</th>\n",
       "      <td>2</td>\n",
       "      <td>int main()\\n{\\n    int n,i,shuzu[111],count1=0...</td>\n",
       "      <td>97</td>\n",
       "    </tr>\n",
       "    <tr>\n",
       "      <th>3</th>\n",
       "      <td>3</td>\n",
       "      <td>int main()\\n{\\n\\tint n,a1=0,a2=0,a3=0,a4=0,a5=...</td>\n",
       "      <td>97</td>\n",
       "    </tr>\n",
       "    <tr>\n",
       "      <th>4</th>\n",
       "      <td>4</td>\n",
       "      <td>int main()\\n{\\n\\tint n,a,b,c,d,e,f;\\n\\ta=0;b=0...</td>\n",
       "      <td>97</td>\n",
       "    </tr>\n",
       "    <tr>\n",
       "      <th>5</th>\n",
       "      <td>5</td>\n",
       "      <td>\\n\\nint main()\\n{\\n\\tint input,hundred,fifty,t...</td>\n",
       "      <td>97</td>\n",
       "    </tr>\n",
       "    <tr>\n",
       "      <th>6</th>\n",
       "      <td>6</td>\n",
       "      <td>\\n\\n\\n\\n\\n\\n\\n\\n\\nint main()                  ...</td>\n",
       "      <td>97</td>\n",
       "    </tr>\n",
       "    <tr>\n",
       "      <th>7</th>\n",
       "      <td>7</td>\n",
       "      <td>int main()\\n{\\n\\tint n,i,j=1,a[6];\\n\\t\\n\\tscan...</td>\n",
       "      <td>97</td>\n",
       "    </tr>\n",
       "    <tr>\n",
       "      <th>8</th>\n",
       "      <td>8</td>\n",
       "      <td>int main(){\\n   int n,x;\\n   scanf(\"%d\",&amp;n);...</td>\n",
       "      <td>97</td>\n",
       "    </tr>\n",
       "    <tr>\n",
       "      <th>9</th>\n",
       "      <td>9</td>\n",
       "      <td>\\nint main()\\n{\\n\\tint i,n;\\n\\tint a[10];\\n\\ti...</td>\n",
       "      <td>97</td>\n",
       "    </tr>\n",
       "    <tr>\n",
       "      <th>10</th>\n",
       "      <td>10</td>\n",
       "      <td>int main()\\n{\\n   int n,a,b,c,d,e,f,l,m;\\n   s...</td>\n",
       "      <td>97</td>\n",
       "    </tr>\n",
       "    <tr>\n",
       "      <th>11</th>\n",
       "      <td>11</td>\n",
       "      <td>\\n\\nint main()\\n{\\n    int money;\\n    cin&gt;&gt;mo...</td>\n",
       "      <td>97</td>\n",
       "    </tr>\n",
       "  </tbody>\n",
       "</table>\n",
       "</div>"
      ],
      "text/plain": [
       "     0                                                  1   2\n",
       "0    0  int main()\\n{\\n\\tint a;\\n\\tint bai,wushi,ershi...  97\n",
       "1    1  int main()\\n{\\n    int m,x100,x50,x20,x10,x5,x...  97\n",
       "2    2  int main()\\n{\\n    int n,i,shuzu[111],count1=0...  97\n",
       "3    3  int main()\\n{\\n\\tint n,a1=0,a2=0,a3=0,a4=0,a5=...  97\n",
       "4    4  int main()\\n{\\n\\tint n,a,b,c,d,e,f;\\n\\ta=0;b=0...  97\n",
       "5    5  \\n\\nint main()\\n{\\n\\tint input,hundred,fifty,t...  97\n",
       "6    6  \\n\\n\\n\\n\\n\\n\\n\\n\\nint main()                  ...  97\n",
       "7    7  int main()\\n{\\n\\tint n,i,j=1,a[6];\\n\\t\\n\\tscan...  97\n",
       "8    8    int main(){\\n   int n,x;\\n   scanf(\"%d\",&n);...  97\n",
       "9    9  \\nint main()\\n{\\n\\tint i,n;\\n\\tint a[10];\\n\\ti...  97\n",
       "10  10  int main()\\n{\\n   int n,a,b,c,d,e,f,l,m;\\n   s...  97\n",
       "11  11  \\n\\nint main()\\n{\\n    int money;\\n    cin>>mo...  97"
      ]
     },
     "execution_count": 31,
     "metadata": {},
     "output_type": "execute_result"
    }
   ],
   "source": [
    "## Read data\n",
    "import pandas as pd\n",
    "\n",
    "dummy_mydf = pd.read_pickle('astnn/clone/data/c/programs.pkl_backup')\n",
    "\n",
    "## Subset into 6 rows\n",
    "\n",
    "dummy_mydf = dummy_mydf.iloc[:12,]\n",
    "dummy_mydf"
   ]
  },
  {
   "cell_type": "code",
   "execution_count": 32,
   "metadata": {},
   "outputs": [
    {
     "data": {
      "text/html": [
       "<div>\n",
       "<style scoped>\n",
       "    .dataframe tbody tr th:only-of-type {\n",
       "        vertical-align: middle;\n",
       "    }\n",
       "\n",
       "    .dataframe tbody tr th {\n",
       "        vertical-align: top;\n",
       "    }\n",
       "\n",
       "    .dataframe thead th {\n",
       "        text-align: right;\n",
       "    }\n",
       "</style>\n",
       "<table border=\"1\" class=\"dataframe\">\n",
       "  <thead>\n",
       "    <tr style=\"text-align: right;\">\n",
       "      <th></th>\n",
       "      <th>0</th>\n",
       "      <th>1</th>\n",
       "      <th>2</th>\n",
       "    </tr>\n",
       "  </thead>\n",
       "  <tbody>\n",
       "    <tr>\n",
       "      <th>0</th>\n",
       "      <td>0</td>\n",
       "      <td>int main(){\\n\\t\\n\\tint x=5,i=0;\\n\\n\\tfor(i=0;i...</td>\n",
       "      <td>1</td>\n",
       "    </tr>\n",
       "    <tr>\n",
       "      <th>1</th>\n",
       "      <td>1</td>\n",
       "      <td>int main(){\\n\\n\\tint x=50;\\n\\n\\tx=x+(x*x);\\n\\t...</td>\n",
       "      <td>0</td>\n",
       "    </tr>\n",
       "    <tr>\n",
       "      <th>2</th>\n",
       "      <td>2</td>\n",
       "      <td>int main(){\\n\\t\\n\\tint x=22;\\n\\n\\tx=x+x;\\n\\tpr...</td>\n",
       "      <td>1</td>\n",
       "    </tr>\n",
       "    <tr>\n",
       "      <th>3</th>\n",
       "      <td>3</td>\n",
       "      <td>int main(){\\n\\t\\n\\tint x=4;\\n\\n\\tx=x+(x*x);\\n\\...</td>\n",
       "      <td>0</td>\n",
       "    </tr>\n",
       "    <tr>\n",
       "      <th>4</th>\n",
       "      <td>4</td>\n",
       "      <td>int main(){\\n\\t\\n\\tint x=2;\\n\\n\\tx=x+x;\\n\\tpri...</td>\n",
       "      <td>0</td>\n",
       "    </tr>\n",
       "    <tr>\n",
       "      <th>5</th>\n",
       "      <td>5</td>\n",
       "      <td>int main(){\\n\\t\\n\\tint x=61,i=0;\\n\\n\\tfor(i=0;...</td>\n",
       "      <td>1</td>\n",
       "    </tr>\n",
       "    <tr>\n",
       "      <th>6</th>\n",
       "      <td>6</td>\n",
       "      <td>int main(){\\n\\t\\n\\tint j=6,i=0;\\n\\n\\tfor(i=0;i...</td>\n",
       "      <td>1</td>\n",
       "    </tr>\n",
       "    <tr>\n",
       "      <th>7</th>\n",
       "      <td>7</td>\n",
       "      <td>int main(){\\n\\t\\n\\tint k=9,ii=0;\\n\\n\\tfor(ii=0...</td>\n",
       "      <td>0</td>\n",
       "    </tr>\n",
       "    <tr>\n",
       "      <th>8</th>\n",
       "      <td>8</td>\n",
       "      <td>int main(){\\n\\t\\n\\tint k=8,i=0,xx=100;\\n\\n\\tfo...</td>\n",
       "      <td>1</td>\n",
       "    </tr>\n",
       "    <tr>\n",
       "      <th>9</th>\n",
       "      <td>9</td>\n",
       "      <td>int main(){\\n\\t\\n\\tint k=7,i=0,jj=45;\\n\\n\\tfor...</td>\n",
       "      <td>0</td>\n",
       "    </tr>\n",
       "    <tr>\n",
       "      <th>10</th>\n",
       "      <td>10</td>\n",
       "      <td>int main(){\\n\\t\\n\\tint jj=62,i=0,g=23;\\n\\n\\tfo...</td>\n",
       "      <td>0</td>\n",
       "    </tr>\n",
       "    <tr>\n",
       "      <th>11</th>\n",
       "      <td>11</td>\n",
       "      <td>int main(){\\n\\t\\n\\tint jj=13,i=0,g=11;\\n\\n\\tfo...</td>\n",
       "      <td>1</td>\n",
       "    </tr>\n",
       "  </tbody>\n",
       "</table>\n",
       "</div>"
      ],
      "text/plain": [
       "     0                                                  1  2\n",
       "0    0  int main(){\\n\\t\\n\\tint x=5,i=0;\\n\\n\\tfor(i=0;i...  1\n",
       "1    1  int main(){\\n\\n\\tint x=50;\\n\\n\\tx=x+(x*x);\\n\\t...  0\n",
       "2    2  int main(){\\n\\t\\n\\tint x=22;\\n\\n\\tx=x+x;\\n\\tpr...  1\n",
       "3    3  int main(){\\n\\t\\n\\tint x=4;\\n\\n\\tx=x+(x*x);\\n\\...  0\n",
       "4    4  int main(){\\n\\t\\n\\tint x=2;\\n\\n\\tx=x+x;\\n\\tpri...  0\n",
       "5    5  int main(){\\n\\t\\n\\tint x=61,i=0;\\n\\n\\tfor(i=0;...  1\n",
       "6    6  int main(){\\n\\t\\n\\tint j=6,i=0;\\n\\n\\tfor(i=0;i...  1\n",
       "7    7  int main(){\\n\\t\\n\\tint k=9,ii=0;\\n\\n\\tfor(ii=0...  0\n",
       "8    8  int main(){\\n\\t\\n\\tint k=8,i=0,xx=100;\\n\\n\\tfo...  1\n",
       "9    9  int main(){\\n\\t\\n\\tint k=7,i=0,jj=45;\\n\\n\\tfor...  0\n",
       "10  10  int main(){\\n\\t\\n\\tint jj=62,i=0,g=23;\\n\\n\\tfo...  0\n",
       "11  11  int main(){\\n\\t\\n\\tint jj=13,i=0,g=11;\\n\\n\\tfo...  1"
      ]
     },
     "execution_count": 32,
     "metadata": {},
     "output_type": "execute_result"
    }
   ],
   "source": [
    "## Define dummy code\n",
    "\n",
    "dum_code = [0,0,0,0,0,0,0,0,0,0,0,0]\n",
    "dum_code[0] = 'int main(){\\n\\t\\n\\tint x=5,i=0;\\n\\n\\tfor(i=0;i<x;i++)\\n\\t\\tif(x!=0){\\n\\t\\t\\tprintf(\"%d\",x-i);\\n\\t\\t}else{\\n\\t\\t\\tx=i;\\n\\t\\t}\\n\\treturn 0;\\n}'\n",
    "dum_code[1] = 'int main(){\\n\\n\\tint x=50;\\n\\n\\tx=x+(x*x);\\n\\tprintf(\"%d\",x);\\n\\treturn 0;\\n}' \n",
    "dum_code[2] = 'int main(){\\n\\t\\n\\tint x=22;\\n\\n\\tx=x+x;\\n\\tprintf(\"%d\",x);\\n\\n\\treturn 0;\\n}'\n",
    "dum_code[3] = 'int main(){\\n\\t\\n\\tint x=4;\\n\\n\\tx=x+(x*x);\\n\\tprintf(\"%d\",x);\\n\\treturn 0;\\n}'\n",
    "dum_code[4] = 'int main(){\\n\\t\\n\\tint x=2;\\n\\n\\tx=x+x;\\n\\tprintf(\"%d\",x);\\n\\n\\treturn 0;\\n}'\n",
    "dum_code[5] = 'int main(){\\n\\t\\n\\tint x=61,i=0;\\n\\n\\tfor(i=0;i<x;i++)\\n\\t\\tif(x!=0){\\n\\t\\t\\tprintf(\"%d\",x-i);\\n\\t\\t}else{\\n\\t\\t\\tx=i;\\n\\t\\t}\\n\\n\\treturn 0;\\n}'\n",
    "dum_code[6] = 'int main(){\\n\\t\\n\\tint j=6,i=0;\\n\\n\\tfor(i=0;i<j;i++)\\n\\t\\tif(j!=0){\\n\\t\\t\\tprintf(\"%d\",j-i);\\n\\t\\t}else{\\n\\t\\t\\tj=i;\\n\\t\\t}\\n\\n\\treturn 0;\\n}'\n",
    "dum_code[7] = 'int main(){\\n\\t\\n\\tint k=9,ii=0;\\n\\n\\tfor(ii=0;ii<k;ii++)\\n\\t\\tif(k!=0){\\n\\t\\t\\tprintf(\"%d\",k-ii);\\n\\t\\t}else{\\n\\t\\t\\tk=ii;\\n\\t\\t}\\n\\n\\treturn 0;\\n}'\n",
    "dum_code[8] = 'int main(){\\n\\t\\n\\tint k=8,i=0,xx=100;\\n\\n\\tfor(i=0;i<k;i++)\\n\\t\\tif(k!=0){\\n\\t\\t\\tprintf(\"%d\",k-i+xx);\\n\\t\\t}else{\\n\\t\\t\\tk=i;\\n\\t\\t}\\n\\n\\treturn 0;\\n}'\n",
    "dum_code[9] = 'int main(){\\n\\t\\n\\tint k=7,i=0,jj=45;\\n\\n\\tfor(i=0;i<k;i++)\\n\\t\\tif(k!=0){\\n\\t\\t\\tprintf(\"%d\",k-i+jj);\\n\\t\\t}else{\\n\\t\\t\\tk=i;\\n\\t\\t}\\n\\n\\treturn 0;\\n}'\n",
    "dum_code[10] = 'int main(){\\n\\t\\n\\tint jj=62,i=0,g=23;\\n\\n\\tfor(i=0;i<jj;i++)\\n\\t\\tif(jj!=0){\\n\\t\\t\\tprintf(\"%d\",jj-i+g);\\n\\t\\t}else{\\n\\t\\t\\tjj=i+g;\\n\\t\\t}\\n\\n\\treturn 0;\\n}'\n",
    "dum_code[11] = 'int main(){\\n\\t\\n\\tint jj=13,i=0,g=11;\\n\\n\\tfor(i=0;i<jj;i++)\\n\\t\\tif(jj!=0){\\n\\t\\t\\tprintf(\"%d\",jj-i+jj);\\n\\t\\t}else{\\n\\t\\t\\tjj=i+g;\\n\\t\\t}\\n\\n\\treturn 0;\\n}'\n",
    " \n",
    "dum_lbl = [1,0,1,0,0,1,1,0,1,0,0,1]\n",
    "\n",
    "dummy_mydf.iloc[:,1] = dum_code\n",
    "dummy_mydf.iloc[:,2] = dum_lbl\n",
    "dummy_mydf"
   ]
  },
  {
   "cell_type": "code",
   "execution_count": 33,
   "metadata": {},
   "outputs": [
    {
     "data": {
      "text/html": [
       "<div>\n",
       "<style scoped>\n",
       "    .dataframe tbody tr th:only-of-type {\n",
       "        vertical-align: middle;\n",
       "    }\n",
       "\n",
       "    .dataframe tbody tr th {\n",
       "        vertical-align: top;\n",
       "    }\n",
       "\n",
       "    .dataframe thead th {\n",
       "        text-align: right;\n",
       "    }\n",
       "</style>\n",
       "<table border=\"1\" class=\"dataframe\">\n",
       "  <thead>\n",
       "    <tr style=\"text-align: right;\">\n",
       "      <th></th>\n",
       "      <th>id1</th>\n",
       "      <th>id2</th>\n",
       "      <th>label</th>\n",
       "    </tr>\n",
       "  </thead>\n",
       "  <tbody>\n",
       "    <tr>\n",
       "      <th>0</th>\n",
       "      <td>9557</td>\n",
       "      <td>26409</td>\n",
       "      <td>0</td>\n",
       "    </tr>\n",
       "    <tr>\n",
       "      <th>1</th>\n",
       "      <td>9200</td>\n",
       "      <td>26262</td>\n",
       "      <td>0</td>\n",
       "    </tr>\n",
       "    <tr>\n",
       "      <th>2</th>\n",
       "      <td>9160</td>\n",
       "      <td>27271</td>\n",
       "      <td>0</td>\n",
       "    </tr>\n",
       "    <tr>\n",
       "      <th>3</th>\n",
       "      <td>26188</td>\n",
       "      <td>8381</td>\n",
       "      <td>0</td>\n",
       "    </tr>\n",
       "    <tr>\n",
       "      <th>4</th>\n",
       "      <td>8368</td>\n",
       "      <td>26346</td>\n",
       "      <td>0</td>\n",
       "    </tr>\n",
       "    <tr>\n",
       "      <th>5</th>\n",
       "      <td>34885</td>\n",
       "      <td>9912</td>\n",
       "      <td>0</td>\n",
       "    </tr>\n",
       "  </tbody>\n",
       "</table>\n",
       "</div>"
      ],
      "text/plain": [
       "     id1    id2 label\n",
       "0   9557  26409     0\n",
       "1   9200  26262     0\n",
       "2   9160  27271     0\n",
       "3  26188   8381     0\n",
       "4   8368  26346     0\n",
       "5  34885   9912     0"
      ]
     },
     "execution_count": 33,
     "metadata": {},
     "output_type": "execute_result"
    }
   ],
   "source": [
    "## Create dummy data for clone pair\n",
    "\n",
    "dummy_mydf2 = pd.read_pickle('astnn/clone/data/c/oj_clone_ids.pkl_backup')\n",
    "\n",
    "## Subset to 6 rows\n",
    "dummy_mydf2 = dummy_mydf2.iloc[:6,]\n",
    "dummy_mydf2"
   ]
  },
  {
   "cell_type": "code",
   "execution_count": 34,
   "metadata": {},
   "outputs": [
    {
     "data": {
      "text/html": [
       "<div>\n",
       "<style scoped>\n",
       "    .dataframe tbody tr th:only-of-type {\n",
       "        vertical-align: middle;\n",
       "    }\n",
       "\n",
       "    .dataframe tbody tr th {\n",
       "        vertical-align: top;\n",
       "    }\n",
       "\n",
       "    .dataframe thead th {\n",
       "        text-align: right;\n",
       "    }\n",
       "</style>\n",
       "<table border=\"1\" class=\"dataframe\">\n",
       "  <thead>\n",
       "    <tr style=\"text-align: right;\">\n",
       "      <th></th>\n",
       "      <th>id1</th>\n",
       "      <th>id2</th>\n",
       "      <th>label</th>\n",
       "    </tr>\n",
       "  </thead>\n",
       "  <tbody>\n",
       "    <tr>\n",
       "      <th>0</th>\n",
       "      <td>0</td>\n",
       "      <td>2</td>\n",
       "      <td>1</td>\n",
       "    </tr>\n",
       "    <tr>\n",
       "      <th>1</th>\n",
       "      <td>1</td>\n",
       "      <td>3</td>\n",
       "      <td>1</td>\n",
       "    </tr>\n",
       "    <tr>\n",
       "      <th>2</th>\n",
       "      <td>5</td>\n",
       "      <td>4</td>\n",
       "      <td>0</td>\n",
       "    </tr>\n",
       "    <tr>\n",
       "      <th>3</th>\n",
       "      <td>6</td>\n",
       "      <td>8</td>\n",
       "      <td>1</td>\n",
       "    </tr>\n",
       "    <tr>\n",
       "      <th>4</th>\n",
       "      <td>7</td>\n",
       "      <td>9</td>\n",
       "      <td>1</td>\n",
       "    </tr>\n",
       "    <tr>\n",
       "      <th>5</th>\n",
       "      <td>11</td>\n",
       "      <td>10</td>\n",
       "      <td>0</td>\n",
       "    </tr>\n",
       "  </tbody>\n",
       "</table>\n",
       "</div>"
      ],
      "text/plain": [
       "   id1  id2  label\n",
       "0    0    2      1\n",
       "1    1    3      1\n",
       "2    5    4      0\n",
       "3    6    8      1\n",
       "4    7    9      1\n",
       "5   11   10      0"
      ]
     },
     "execution_count": 34,
     "metadata": {},
     "output_type": "execute_result"
    }
   ],
   "source": [
    "## Assign the clone pair per columns\n",
    "dummy_mydf2.iloc[:,0] = [0,1,5,6,7,11]\n",
    "dummy_mydf2.iloc[:,1] = [2,3,4,8,9,10]\n",
    "dummy_mydf2.iloc[:,2] = [1,1,0,1,1,0]\n",
    "dummy_mydf2"
   ]
  },
  {
   "cell_type": "code",
   "execution_count": 35,
   "metadata": {},
   "outputs": [],
   "source": [
    "## save both dataframe\n",
    "\n",
    "dummy_mydf.to_pickle('astnn/clone/data/c/programs.pkl')\n",
    "dummy_mydf2.to_pickle('astnn/clone/data/c/oj_clone_ids.pkl')"
   ]
  },
  {
   "cell_type": "markdown",
   "metadata": {},
   "source": [
    "### Checking the Dummy Data"
   ]
  },
  {
   "cell_type": "code",
   "execution_count": 36,
   "metadata": {},
   "outputs": [],
   "source": [
    "dummy_ast = pd.read_pickle('astnn/clone/data/c/ast.pkl')"
   ]
  },
  {
   "cell_type": "code",
   "execution_count": 37,
   "metadata": {},
   "outputs": [
    {
     "data": {
      "text/html": [
       "<div>\n",
       "<style scoped>\n",
       "    .dataframe tbody tr th:only-of-type {\n",
       "        vertical-align: middle;\n",
       "    }\n",
       "\n",
       "    .dataframe tbody tr th {\n",
       "        vertical-align: top;\n",
       "    }\n",
       "\n",
       "    .dataframe thead th {\n",
       "        text-align: right;\n",
       "    }\n",
       "</style>\n",
       "<table border=\"1\" class=\"dataframe\">\n",
       "  <thead>\n",
       "    <tr style=\"text-align: right;\">\n",
       "      <th></th>\n",
       "      <th>id</th>\n",
       "      <th>code</th>\n",
       "      <th>label</th>\n",
       "    </tr>\n",
       "  </thead>\n",
       "  <tbody>\n",
       "    <tr>\n",
       "      <th>0</th>\n",
       "      <td>0</td>\n",
       "      <td>FileAST(ext=[FuncDef(decl=Decl(name='main',\\n ...</td>\n",
       "      <td>1</td>\n",
       "    </tr>\n",
       "    <tr>\n",
       "      <th>1</th>\n",
       "      <td>1</td>\n",
       "      <td>FileAST(ext=[FuncDef(decl=Decl(name='main',\\n ...</td>\n",
       "      <td>0</td>\n",
       "    </tr>\n",
       "    <tr>\n",
       "      <th>2</th>\n",
       "      <td>2</td>\n",
       "      <td>FileAST(ext=[FuncDef(decl=Decl(name='main',\\n ...</td>\n",
       "      <td>1</td>\n",
       "    </tr>\n",
       "    <tr>\n",
       "      <th>3</th>\n",
       "      <td>3</td>\n",
       "      <td>FileAST(ext=[FuncDef(decl=Decl(name='main',\\n ...</td>\n",
       "      <td>0</td>\n",
       "    </tr>\n",
       "    <tr>\n",
       "      <th>4</th>\n",
       "      <td>4</td>\n",
       "      <td>FileAST(ext=[FuncDef(decl=Decl(name='main',\\n ...</td>\n",
       "      <td>0</td>\n",
       "    </tr>\n",
       "    <tr>\n",
       "      <th>5</th>\n",
       "      <td>5</td>\n",
       "      <td>FileAST(ext=[FuncDef(decl=Decl(name='main',\\n ...</td>\n",
       "      <td>1</td>\n",
       "    </tr>\n",
       "    <tr>\n",
       "      <th>6</th>\n",
       "      <td>6</td>\n",
       "      <td>FileAST(ext=[FuncDef(decl=Decl(name='main',\\n ...</td>\n",
       "      <td>1</td>\n",
       "    </tr>\n",
       "    <tr>\n",
       "      <th>7</th>\n",
       "      <td>7</td>\n",
       "      <td>FileAST(ext=[FuncDef(decl=Decl(name='main',\\n ...</td>\n",
       "      <td>0</td>\n",
       "    </tr>\n",
       "    <tr>\n",
       "      <th>8</th>\n",
       "      <td>8</td>\n",
       "      <td>FileAST(ext=[FuncDef(decl=Decl(name='main',\\n ...</td>\n",
       "      <td>1</td>\n",
       "    </tr>\n",
       "    <tr>\n",
       "      <th>9</th>\n",
       "      <td>9</td>\n",
       "      <td>FileAST(ext=[FuncDef(decl=Decl(name='main',\\n ...</td>\n",
       "      <td>0</td>\n",
       "    </tr>\n",
       "    <tr>\n",
       "      <th>10</th>\n",
       "      <td>10</td>\n",
       "      <td>FileAST(ext=[FuncDef(decl=Decl(name='main',\\n ...</td>\n",
       "      <td>0</td>\n",
       "    </tr>\n",
       "    <tr>\n",
       "      <th>11</th>\n",
       "      <td>11</td>\n",
       "      <td>FileAST(ext=[FuncDef(decl=Decl(name='main',\\n ...</td>\n",
       "      <td>1</td>\n",
       "    </tr>\n",
       "  </tbody>\n",
       "</table>\n",
       "</div>"
      ],
      "text/plain": [
       "    id                                               code  label\n",
       "0    0  FileAST(ext=[FuncDef(decl=Decl(name='main',\\n ...      1\n",
       "1    1  FileAST(ext=[FuncDef(decl=Decl(name='main',\\n ...      0\n",
       "2    2  FileAST(ext=[FuncDef(decl=Decl(name='main',\\n ...      1\n",
       "3    3  FileAST(ext=[FuncDef(decl=Decl(name='main',\\n ...      0\n",
       "4    4  FileAST(ext=[FuncDef(decl=Decl(name='main',\\n ...      0\n",
       "5    5  FileAST(ext=[FuncDef(decl=Decl(name='main',\\n ...      1\n",
       "6    6  FileAST(ext=[FuncDef(decl=Decl(name='main',\\n ...      1\n",
       "7    7  FileAST(ext=[FuncDef(decl=Decl(name='main',\\n ...      0\n",
       "8    8  FileAST(ext=[FuncDef(decl=Decl(name='main',\\n ...      1\n",
       "9    9  FileAST(ext=[FuncDef(decl=Decl(name='main',\\n ...      0\n",
       "10  10  FileAST(ext=[FuncDef(decl=Decl(name='main',\\n ...      0\n",
       "11  11  FileAST(ext=[FuncDef(decl=Decl(name='main',\\n ...      1"
      ]
     },
     "execution_count": 37,
     "metadata": {},
     "output_type": "execute_result"
    }
   ],
   "source": [
    "dummy_ast"
   ]
  },
  {
   "cell_type": "code",
   "execution_count": 10,
   "metadata": {},
   "outputs": [
    {
     "data": {
      "text/html": [
       "<div>\n",
       "<style scoped>\n",
       "    .dataframe tbody tr th:only-of-type {\n",
       "        vertical-align: middle;\n",
       "    }\n",
       "\n",
       "    .dataframe tbody tr th {\n",
       "        vertical-align: top;\n",
       "    }\n",
       "\n",
       "    .dataframe thead th {\n",
       "        text-align: right;\n",
       "    }\n",
       "</style>\n",
       "<table border=\"1\" class=\"dataframe\">\n",
       "  <thead>\n",
       "    <tr style=\"text-align: right;\">\n",
       "      <th></th>\n",
       "      <th>id1</th>\n",
       "      <th>id2</th>\n",
       "      <th>label</th>\n",
       "      <th>code_x</th>\n",
       "      <th>code_y</th>\n",
       "    </tr>\n",
       "  </thead>\n",
       "  <tbody>\n",
       "    <tr>\n",
       "      <th>0</th>\n",
       "      <td>6</td>\n",
       "      <td>8</td>\n",
       "      <td>1</td>\n",
       "      <td>[[10, [2, [11, [12, [3]]]]], [4], [2, [19, [3]...</td>\n",
       "      <td>[[10, [2, [11, [12, [3]]]]], [4], [2, [27, [3]...</td>\n",
       "    </tr>\n",
       "    <tr>\n",
       "      <th>1</th>\n",
       "      <td>0</td>\n",
       "      <td>2</td>\n",
       "      <td>1</td>\n",
       "      <td>[[10, [2, [11, [12, [3]]]]], [4], [2, [8, [3]]...</td>\n",
       "      <td>[[10, [2, [11, [12, [3]]]]], [4], [2, [8, [3]]...</td>\n",
       "    </tr>\n",
       "    <tr>\n",
       "      <th>2</th>\n",
       "      <td>11</td>\n",
       "      <td>10</td>\n",
       "      <td>0</td>\n",
       "      <td>[[10, [2, [11, [12, [3]]]]], [4], [2, [7, [3]]...</td>\n",
       "      <td>[[10, [2, [11, [12, [3]]]]], [4], [2, [7, [3]]...</td>\n",
       "    </tr>\n",
       "  </tbody>\n",
       "</table>\n",
       "</div>"
      ],
      "text/plain": [
       "   id1  id2  label                                             code_x  \\\n",
       "0    6    8      1  [[10, [2, [11, [12, [3]]]]], [4], [2, [19, [3]...   \n",
       "1    0    2      1  [[10, [2, [11, [12, [3]]]]], [4], [2, [8, [3]]...   \n",
       "2   11   10      0  [[10, [2, [11, [12, [3]]]]], [4], [2, [7, [3]]...   \n",
       "\n",
       "                                              code_y  \n",
       "0  [[10, [2, [11, [12, [3]]]]], [4], [2, [27, [3]...  \n",
       "1  [[10, [2, [11, [12, [3]]]]], [4], [2, [8, [3]]...  \n",
       "2  [[10, [2, [11, [12, [3]]]]], [4], [2, [7, [3]]...  "
      ]
     },
     "execution_count": 10,
     "metadata": {},
     "output_type": "execute_result"
    }
   ],
   "source": [
    "dummy_blocks = pd.read_pickle('data/c/train/blocks.pkl')\n",
    "dummy_blocks"
   ]
  },
  {
   "cell_type": "code",
   "execution_count": 55,
   "metadata": {},
   "outputs": [
    {
     "data": {
      "text/plain": [
       "[[10, [2, [11, [12, [3]]]]],\n",
       " [4],\n",
       " [2, [7, [3]], [28]],\n",
       " [2, [0, [3]], [1]],\n",
       " [2, [26, [3]], [28]],\n",
       " [20, [6, [0], [1]], [21, [0], [7]], [22, [0]]],\n",
       " [23, [24, [7], [1]]],\n",
       " [4],\n",
       " [13, [14], [15, [16], [18, [25, [7], [0]], [7]]]],\n",
       " [5],\n",
       " [4],\n",
       " [6, [7], [18, [0], [26]]],\n",
       " [5],\n",
       " [17, [1]],\n",
       " [5]]"
      ]
     },
     "execution_count": 55,
     "metadata": {},
     "output_type": "execute_result"
    }
   ],
   "source": [
    "dummy_blocks.code_x[2]"
   ]
  },
  {
   "cell_type": "code",
   "execution_count": 14,
   "metadata": {},
   "outputs": [
    {
     "data": {
      "text/plain": [
       "43"
      ]
     },
     "execution_count": 14,
     "metadata": {},
     "output_type": "execute_result"
    }
   ],
   "source": [
    "len(dummy_blocks.code_x[0]+dummy_blocks.code_x[1]+dummy_blocks.code_x[2])"
   ]
  },
  {
   "cell_type": "markdown",
   "metadata": {},
   "source": [
    "code_x index postion = 1,2,0       <----- whichever index position  \n",
    "code_y index postion = 1,2,0       <----- whichever index position"
   ]
  },
  {
   "cell_type": "code",
   "execution_count": 1,
   "metadata": {},
   "outputs": [
    {
     "name": "stdout",
     "output_type": "stream",
     "text": [
      "Train for  C\n",
      "EMBDDINGG DIM:  128\n",
      "   id1  id2  label                                             code_x  \\\n",
      "2   11   10      0  [[10, [2, [11, [12, [3]]]]], [4], [2, [7, [3]]...   \n",
      "0    6    8      1  [[10, [2, [11, [12, [3]]]]], [4], [2, [19, [3]...   \n",
      "1    0    2      1  [[10, [2, [11, [12, [3]]]]], [4], [2, [8, [3]]...   \n",
      "\n",
      "                                              code_y  \n",
      "2  [[10, [2, [11, [12, [3]]]]], [4], [2, [7, [3]]...  \n",
      "0  [[10, [2, [11, [12, [3]]]]], [4], [2, [27, [3]...  \n",
      "1  [[10, [2, [11, [12, [3]]]]], [4], [2, [8, [3]]...  \n",
      "Start training...\n",
      "The Xs:\n",
      "[[10, [2, [11, [12, [3]]]]], [4], [2, [7, [3]], [28]], [2, [0, [3]], [1]], [2, [26, [3]], [28]], [20, [6, [0], [1]], [21, [0], [7]], [22, [0]]], [23, [24, [7], [1]]], [4], [13, [14], [15, [16], [18, [25, [7], [0]], [7]]]], [5], [4], [6, [7], [18, [0], [26]]], [5], [17, [1]], [5], [10, [2, [11, [12, [3]]]]], [4], [2, [19, [3]], [28]], [2, [0, [3]], [1]], [20, [6, [0], [1]], [21, [0], [19]], [22, [0]]], [23, [24, [19], [1]]], [4], [13, [14], [15, [16], [25, [19], [0]]]], [5], [4], [6, [19], [0]], [5], [17, [1]], [5], [10, [2, [11, [12, [3]]]]], [4], [2, [8, [3]], [28]], [2, [0, [3]], [1]], [20, [6, [0], [1]], [21, [0], [8]], [22, [0]]], [23, [24, [8], [1]]], [4], [13, [14], [15, [16], [25, [8], [0]]]], [5], [4], [6, [8], [0]], [5], [17, [1]], [5]]\n",
      "The Xs:\n",
      "[[10, [2, [11, [12, [3]]]]], [4], [2, [7, [3]], [28]], [2, [0, [3]], [1]], [2, [26, [3]], [28]], [20, [6, [0], [1]], [21, [0], [7]], [22, [0]]], [23, [24, [7], [1]]], [4], [13, [14], [15, [16], [18, [25, [7], [0]], [26]]]], [5], [4], [6, [7], [18, [0], [26]]], [5], [17, [1]], [5], [10, [2, [11, [12, [3]]]]], [4], [2, [27, [3]], [28]], [2, [0, [3]], [1]], [2, [28, [3]], [28]], [20, [6, [0], [1]], [21, [0], [27]], [22, [0]]], [23, [24, [27], [1]]], [4], [13, [14], [15, [16], [18, [25, [27], [0]], [28]]]], [5], [4], [6, [27], [0]], [5], [17, [1]], [5], [10, [2, [11, [12, [3]]]]], [4], [2, [8, [3]], [28]], [6, [8], [18, [8], [8]]], [13, [14], [15, [16], [8]]], [17, [1]], [5]]\n",
      "Testing-1...\n"
     ]
    },
    {
     "ename": "SystemExit",
     "evalue": "",
     "output_type": "error",
     "traceback": [
      "An exception has occurred, use %tb to see the full traceback.\n",
      "\u001b[0;31mSystemExit\u001b[0m\n"
     ]
    }
   ],
   "source": [
    "from train import run\n",
    "run('c')"
   ]
  },
  {
   "cell_type": "code",
   "execution_count": 2,
   "metadata": {},
   "outputs": [],
   "source": [
    "import pandas as pd"
   ]
  },
  {
   "cell_type": "code",
   "execution_count": 3,
   "metadata": {},
   "outputs": [],
   "source": [
    "node_list = pd.read_pickle('node_list.pickle')"
   ]
  },
  {
   "cell_type": "code",
   "execution_count": 4,
   "metadata": {},
   "outputs": [
    {
     "data": {
      "text/plain": [
       "15"
      ]
     },
     "execution_count": 4,
     "metadata": {},
     "output_type": "execute_result"
    }
   ],
   "source": [
    "len(node_list)"
   ]
  },
  {
   "cell_type": "code",
   "execution_count": 5,
   "metadata": {},
   "outputs": [
    {
     "data": {
      "text/plain": [
       "37"
      ]
     },
     "execution_count": 5,
     "metadata": {},
     "output_type": "execute_result"
    }
   ],
   "source": [
    "len(node_list[0])"
   ]
  },
  {
   "cell_type": "code",
   "execution_count": 6,
   "metadata": {},
   "outputs": [
    {
     "data": {
      "text/plain": [
       "128"
      ]
     },
     "execution_count": 6,
     "metadata": {},
     "output_type": "execute_result"
    }
   ],
   "source": [
    "len(node_list[0][0])"
   ]
  },
  {
   "cell_type": "code",
   "execution_count": 15,
   "metadata": {},
   "outputs": [
    {
     "data": {
      "text/plain": [
       "37"
      ]
     },
     "execution_count": 15,
     "metadata": {},
     "output_type": "execute_result"
    }
   ],
   "source": [
    "## Concat all Xs statements into one array (this is X2, the clone pair)\n",
    "\n",
    "all_x = [[10, [2, [11, [12, [3]]]]], [4], [2, [7, [3]], [28]], [2, [0, [3]], [1]], [2, [26, [3]], [28]], [20, [6, [0], [1]], [21, [0], [7]], [22, [0]]], [23, [24, [7], [1]]], [4], [13, [14], [15, [16], [18, [25, [7], [0]], [26]]]], [5], [4], [6, [7], [18, [0], [26]]], [5], [17, [1]], [5], [10, [2, [11, [12, [3]]]]], [4], [2, [27, [3]], [28]], [2, [0, [3]], [1]], [2, [28, [3]], [28]], [20, [6, [0], [1]], [21, [0], [27]], [22, [0]]], [23, [24, [27], [1]]], [4], [13, [14], [15, [16], [18, [25, [27], [0]], [28]]]], [5], [4], [6, [27], [0]], [5], [17, [1]], [5], [10, [2, [11, [12, [3]]]]], [4], [2, [8, [3]], [28]], [6, [8], [18, [8], [8]]], [13, [14], [15, [16], [8]]], [17, [1]], [5]]\n",
    "len(all_x )"
   ]
  },
  {
   "cell_type": "code",
   "execution_count": 17,
   "metadata": {},
   "outputs": [
    {
     "name": "stdout",
     "output_type": "stream",
     "text": [
      "15\n"
     ]
    }
   ],
   "source": [
    "k2 = [[10, [2, [11, [12, [3]]]]], [4], [2, [27, [3]], [28]], [2, [0, [3]], [1]], [2, [28, [3]], [28]], [20, [6, [0], [1]], [21, [0], [27]], [22, [0]]], [23, [24, [27], [1]]], [4], [13, [14], [15, [16], [18, [25, [27], [0]], [28]]]], [5], [4], [6, [27], [0]], [5], [17, [1]], [5]]\n",
    "print(len(k2))"
   ]
  },
  {
   "cell_type": "code",
   "execution_count": 13,
   "metadata": {},
   "outputs": [
    {
     "name": "stdout",
     "output_type": "stream",
     "text": [
      "tensor([-0.0413, -0.0130, -0.1639, -0.0392, -0.0707, -0.0550, -0.1487,  0.0849,\n",
      "         0.0429,  0.1111,  0.1722,  0.0258,  0.1364,  0.1238, -0.1149, -0.1583,\n",
      "        -0.1468,  0.0605, -0.0946,  0.0154,  0.0217,  0.1282,  0.0194,  0.0122,\n",
      "         0.0414, -0.1195,  0.0828, -0.0830, -0.1661,  0.1649,  0.1532,  0.1037,\n",
      "         0.1255, -0.1205, -0.0734,  0.0508,  0.1467, -0.0130,  0.0455, -0.1321,\n",
      "        -0.0289,  0.1332,  0.1255,  0.1189,  0.1436, -0.0982, -0.0726,  0.0439,\n",
      "        -0.1474, -0.0631,  0.0354,  0.1413, -0.0357, -0.0640, -0.0461,  0.0864,\n",
      "        -0.0768,  0.0539,  0.1157,  0.1311, -0.0974,  0.0049,  0.1560,  0.0782,\n",
      "        -0.1213, -0.1544,  0.0180,  0.1763, -0.1432, -0.0637, -0.1689, -0.0232,\n",
      "         0.1117,  0.1038,  0.0193,  0.1372,  0.0682, -0.1742, -0.0421, -0.1339,\n",
      "        -0.1700,  0.1611, -0.0526,  0.0204,  0.1668, -0.1093,  0.1231,  0.1038,\n",
      "         0.1058,  0.1641,  0.1072, -0.1508, -0.0508,  0.1373, -0.1006,  0.0819,\n",
      "        -0.1793,  0.0656,  0.1703,  0.0134,  0.1039,  0.1505,  0.0417, -0.1417,\n",
      "         0.0617,  0.0804,  0.0459,  0.1090, -0.1089, -0.0807,  0.0355, -0.1519,\n",
      "         0.0472,  0.0164, -0.0162, -0.0876, -0.0769,  0.0765, -0.0581, -0.0785,\n",
      "         0.1606,  0.1583, -0.1135, -0.1663,  0.0908,  0.0645,  0.1254,  0.1225],\n",
      "       grad_fn=<SelectBackward>)\n",
      "tensor([0., 0., 0., 0., 0., 0., 0., 0., 0., 0., 0., 0., 0., 0., 0., 0., 0., 0., 0., 0., 0., 0., 0., 0.,\n",
      "        0., 0., 0., 0., 0., 0., 0., 0., 0., 0., 0., 0., 0., 0., 0., 0., 0., 0., 0., 0., 0., 0., 0., 0.,\n",
      "        0., 0., 0., 0., 0., 0., 0., 0., 0., 0., 0., 0., 0., 0., 0., 0., 0., 0., 0., 0., 0., 0., 0., 0.,\n",
      "        0., 0., 0., 0., 0., 0., 0., 0., 0., 0., 0., 0., 0., 0., 0., 0., 0., 0., 0., 0., 0., 0., 0., 0.,\n",
      "        0., 0., 0., 0., 0., 0., 0., 0., 0., 0., 0., 0., 0., 0., 0., 0., 0., 0., 0., 0., 0., 0., 0., 0.,\n",
      "        0., 0., 0., 0., 0., 0., 0., 0.], grad_fn=<SelectBackward>)\n",
      "tensor([0., 0., 0., 0., 0., 0., 0., 0., 0., 0., 0., 0., 0., 0., 0., 0., 0., 0., 0., 0., 0., 0., 0., 0.,\n",
      "        0., 0., 0., 0., 0., 0., 0., 0., 0., 0., 0., 0., 0., 0., 0., 0., 0., 0., 0., 0., 0., 0., 0., 0.,\n",
      "        0., 0., 0., 0., 0., 0., 0., 0., 0., 0., 0., 0., 0., 0., 0., 0., 0., 0., 0., 0., 0., 0., 0., 0.,\n",
      "        0., 0., 0., 0., 0., 0., 0., 0., 0., 0., 0., 0., 0., 0., 0., 0., 0., 0., 0., 0., 0., 0., 0., 0.,\n",
      "        0., 0., 0., 0., 0., 0., 0., 0., 0., 0., 0., 0., 0., 0., 0., 0., 0., 0., 0., 0., 0., 0., 0., 0.,\n",
      "        0., 0., 0., 0., 0., 0., 0., 0.], grad_fn=<SelectBackward>)\n",
      "tensor([0., 0., 0., 0., 0., 0., 0., 0., 0., 0., 0., 0., 0., 0., 0., 0., 0., 0., 0., 0., 0., 0., 0., 0.,\n",
      "        0., 0., 0., 0., 0., 0., 0., 0., 0., 0., 0., 0., 0., 0., 0., 0., 0., 0., 0., 0., 0., 0., 0., 0.,\n",
      "        0., 0., 0., 0., 0., 0., 0., 0., 0., 0., 0., 0., 0., 0., 0., 0., 0., 0., 0., 0., 0., 0., 0., 0.,\n",
      "        0., 0., 0., 0., 0., 0., 0., 0., 0., 0., 0., 0., 0., 0., 0., 0., 0., 0., 0., 0., 0., 0., 0., 0.,\n",
      "        0., 0., 0., 0., 0., 0., 0., 0., 0., 0., 0., 0., 0., 0., 0., 0., 0., 0., 0., 0., 0., 0., 0., 0.,\n",
      "        0., 0., 0., 0., 0., 0., 0., 0.], grad_fn=<SelectBackward>)\n",
      "tensor([0., 0., 0., 0., 0., 0., 0., 0., 0., 0., 0., 0., 0., 0., 0., 0., 0., 0., 0., 0., 0., 0., 0., 0.,\n",
      "        0., 0., 0., 0., 0., 0., 0., 0., 0., 0., 0., 0., 0., 0., 0., 0., 0., 0., 0., 0., 0., 0., 0., 0.,\n",
      "        0., 0., 0., 0., 0., 0., 0., 0., 0., 0., 0., 0., 0., 0., 0., 0., 0., 0., 0., 0., 0., 0., 0., 0.,\n",
      "        0., 0., 0., 0., 0., 0., 0., 0., 0., 0., 0., 0., 0., 0., 0., 0., 0., 0., 0., 0., 0., 0., 0., 0.,\n",
      "        0., 0., 0., 0., 0., 0., 0., 0., 0., 0., 0., 0., 0., 0., 0., 0., 0., 0., 0., 0., 0., 0., 0., 0.,\n",
      "        0., 0., 0., 0., 0., 0., 0., 0.], grad_fn=<SelectBackward>)\n",
      "tensor([0., 0., 0., 0., 0., 0., 0., 0., 0., 0., 0., 0., 0., 0., 0., 0., 0., 0., 0., 0., 0., 0., 0., 0.,\n",
      "        0., 0., 0., 0., 0., 0., 0., 0., 0., 0., 0., 0., 0., 0., 0., 0., 0., 0., 0., 0., 0., 0., 0., 0.,\n",
      "        0., 0., 0., 0., 0., 0., 0., 0., 0., 0., 0., 0., 0., 0., 0., 0., 0., 0., 0., 0., 0., 0., 0., 0.,\n",
      "        0., 0., 0., 0., 0., 0., 0., 0., 0., 0., 0., 0., 0., 0., 0., 0., 0., 0., 0., 0., 0., 0., 0., 0.,\n",
      "        0., 0., 0., 0., 0., 0., 0., 0., 0., 0., 0., 0., 0., 0., 0., 0., 0., 0., 0., 0., 0., 0., 0., 0.,\n",
      "        0., 0., 0., 0., 0., 0., 0., 0.], grad_fn=<SelectBackward>)\n",
      "tensor([0., 0., 0., 0., 0., 0., 0., 0., 0., 0., 0., 0., 0., 0., 0., 0., 0., 0., 0., 0., 0., 0., 0., 0.,\n",
      "        0., 0., 0., 0., 0., 0., 0., 0., 0., 0., 0., 0., 0., 0., 0., 0., 0., 0., 0., 0., 0., 0., 0., 0.,\n",
      "        0., 0., 0., 0., 0., 0., 0., 0., 0., 0., 0., 0., 0., 0., 0., 0., 0., 0., 0., 0., 0., 0., 0., 0.,\n",
      "        0., 0., 0., 0., 0., 0., 0., 0., 0., 0., 0., 0., 0., 0., 0., 0., 0., 0., 0., 0., 0., 0., 0., 0.,\n",
      "        0., 0., 0., 0., 0., 0., 0., 0., 0., 0., 0., 0., 0., 0., 0., 0., 0., 0., 0., 0., 0., 0., 0., 0.,\n",
      "        0., 0., 0., 0., 0., 0., 0., 0.], grad_fn=<SelectBackward>)\n",
      "tensor([0., 0., 0., 0., 0., 0., 0., 0., 0., 0., 0., 0., 0., 0., 0., 0., 0., 0., 0., 0., 0., 0., 0., 0.,\n",
      "        0., 0., 0., 0., 0., 0., 0., 0., 0., 0., 0., 0., 0., 0., 0., 0., 0., 0., 0., 0., 0., 0., 0., 0.,\n",
      "        0., 0., 0., 0., 0., 0., 0., 0., 0., 0., 0., 0., 0., 0., 0., 0., 0., 0., 0., 0., 0., 0., 0., 0.,\n",
      "        0., 0., 0., 0., 0., 0., 0., 0., 0., 0., 0., 0., 0., 0., 0., 0., 0., 0., 0., 0., 0., 0., 0., 0.,\n",
      "        0., 0., 0., 0., 0., 0., 0., 0., 0., 0., 0., 0., 0., 0., 0., 0., 0., 0., 0., 0., 0., 0., 0., 0.,\n",
      "        0., 0., 0., 0., 0., 0., 0., 0.], grad_fn=<SelectBackward>)\n",
      "tensor([0., 0., 0., 0., 0., 0., 0., 0., 0., 0., 0., 0., 0., 0., 0., 0., 0., 0., 0., 0., 0., 0., 0., 0.,\n",
      "        0., 0., 0., 0., 0., 0., 0., 0., 0., 0., 0., 0., 0., 0., 0., 0., 0., 0., 0., 0., 0., 0., 0., 0.,\n",
      "        0., 0., 0., 0., 0., 0., 0., 0., 0., 0., 0., 0., 0., 0., 0., 0., 0., 0., 0., 0., 0., 0., 0., 0.,\n",
      "        0., 0., 0., 0., 0., 0., 0., 0., 0., 0., 0., 0., 0., 0., 0., 0., 0., 0., 0., 0., 0., 0., 0., 0.,\n",
      "        0., 0., 0., 0., 0., 0., 0., 0., 0., 0., 0., 0., 0., 0., 0., 0., 0., 0., 0., 0., 0., 0., 0., 0.,\n",
      "        0., 0., 0., 0., 0., 0., 0., 0.], grad_fn=<SelectBackward>)\n",
      "tensor([0., 0., 0., 0., 0., 0., 0., 0., 0., 0., 0., 0., 0., 0., 0., 0., 0., 0., 0., 0., 0., 0., 0., 0.,\n",
      "        0., 0., 0., 0., 0., 0., 0., 0., 0., 0., 0., 0., 0., 0., 0., 0., 0., 0., 0., 0., 0., 0., 0., 0.,\n",
      "        0., 0., 0., 0., 0., 0., 0., 0., 0., 0., 0., 0., 0., 0., 0., 0., 0., 0., 0., 0., 0., 0., 0., 0.,\n",
      "        0., 0., 0., 0., 0., 0., 0., 0., 0., 0., 0., 0., 0., 0., 0., 0., 0., 0., 0., 0., 0., 0., 0., 0.,\n",
      "        0., 0., 0., 0., 0., 0., 0., 0., 0., 0., 0., 0., 0., 0., 0., 0., 0., 0., 0., 0., 0., 0., 0., 0.,\n",
      "        0., 0., 0., 0., 0., 0., 0., 0.], grad_fn=<SelectBackward>)\n",
      "tensor([0., 0., 0., 0., 0., 0., 0., 0., 0., 0., 0., 0., 0., 0., 0., 0., 0., 0., 0., 0., 0., 0., 0., 0.,\n",
      "        0., 0., 0., 0., 0., 0., 0., 0., 0., 0., 0., 0., 0., 0., 0., 0., 0., 0., 0., 0., 0., 0., 0., 0.,\n",
      "        0., 0., 0., 0., 0., 0., 0., 0., 0., 0., 0., 0., 0., 0., 0., 0., 0., 0., 0., 0., 0., 0., 0., 0.,\n",
      "        0., 0., 0., 0., 0., 0., 0., 0., 0., 0., 0., 0., 0., 0., 0., 0., 0., 0., 0., 0., 0., 0., 0., 0.,\n",
      "        0., 0., 0., 0., 0., 0., 0., 0., 0., 0., 0., 0., 0., 0., 0., 0., 0., 0., 0., 0., 0., 0., 0., 0.,\n",
      "        0., 0., 0., 0., 0., 0., 0., 0.], grad_fn=<SelectBackward>)\n",
      "tensor([0., 0., 0., 0., 0., 0., 0., 0., 0., 0., 0., 0., 0., 0., 0., 0., 0., 0., 0., 0., 0., 0., 0., 0.,\n",
      "        0., 0., 0., 0., 0., 0., 0., 0., 0., 0., 0., 0., 0., 0., 0., 0., 0., 0., 0., 0., 0., 0., 0., 0.,\n",
      "        0., 0., 0., 0., 0., 0., 0., 0., 0., 0., 0., 0., 0., 0., 0., 0., 0., 0., 0., 0., 0., 0., 0., 0.,\n",
      "        0., 0., 0., 0., 0., 0., 0., 0., 0., 0., 0., 0., 0., 0., 0., 0., 0., 0., 0., 0., 0., 0., 0., 0.,\n",
      "        0., 0., 0., 0., 0., 0., 0., 0., 0., 0., 0., 0., 0., 0., 0., 0., 0., 0., 0., 0., 0., 0., 0., 0.,\n",
      "        0., 0., 0., 0., 0., 0., 0., 0.], grad_fn=<SelectBackward>)\n",
      "tensor([0., 0., 0., 0., 0., 0., 0., 0., 0., 0., 0., 0., 0., 0., 0., 0., 0., 0., 0., 0., 0., 0., 0., 0.,\n",
      "        0., 0., 0., 0., 0., 0., 0., 0., 0., 0., 0., 0., 0., 0., 0., 0., 0., 0., 0., 0., 0., 0., 0., 0.,\n",
      "        0., 0., 0., 0., 0., 0., 0., 0., 0., 0., 0., 0., 0., 0., 0., 0., 0., 0., 0., 0., 0., 0., 0., 0.,\n",
      "        0., 0., 0., 0., 0., 0., 0., 0., 0., 0., 0., 0., 0., 0., 0., 0., 0., 0., 0., 0., 0., 0., 0., 0.,\n",
      "        0., 0., 0., 0., 0., 0., 0., 0., 0., 0., 0., 0., 0., 0., 0., 0., 0., 0., 0., 0., 0., 0., 0., 0.,\n",
      "        0., 0., 0., 0., 0., 0., 0., 0.], grad_fn=<SelectBackward>)\n",
      "tensor([0., 0., 0., 0., 0., 0., 0., 0., 0., 0., 0., 0., 0., 0., 0., 0., 0., 0., 0., 0., 0., 0., 0., 0.,\n",
      "        0., 0., 0., 0., 0., 0., 0., 0., 0., 0., 0., 0., 0., 0., 0., 0., 0., 0., 0., 0., 0., 0., 0., 0.,\n",
      "        0., 0., 0., 0., 0., 0., 0., 0., 0., 0., 0., 0., 0., 0., 0., 0., 0., 0., 0., 0., 0., 0., 0., 0.,\n",
      "        0., 0., 0., 0., 0., 0., 0., 0., 0., 0., 0., 0., 0., 0., 0., 0., 0., 0., 0., 0., 0., 0., 0., 0.,\n",
      "        0., 0., 0., 0., 0., 0., 0., 0., 0., 0., 0., 0., 0., 0., 0., 0., 0., 0., 0., 0., 0., 0., 0., 0.,\n",
      "        0., 0., 0., 0., 0., 0., 0., 0.], grad_fn=<SelectBackward>)\n",
      "tensor([0., 0., 0., 0., 0., 0., 0., 0., 0., 0., 0., 0., 0., 0., 0., 0., 0., 0., 0., 0., 0., 0., 0., 0.,\n",
      "        0., 0., 0., 0., 0., 0., 0., 0., 0., 0., 0., 0., 0., 0., 0., 0., 0., 0., 0., 0., 0., 0., 0., 0.,\n",
      "        0., 0., 0., 0., 0., 0., 0., 0., 0., 0., 0., 0., 0., 0., 0., 0., 0., 0., 0., 0., 0., 0., 0., 0.,\n",
      "        0., 0., 0., 0., 0., 0., 0., 0., 0., 0., 0., 0., 0., 0., 0., 0., 0., 0., 0., 0., 0., 0., 0., 0.,\n",
      "        0., 0., 0., 0., 0., 0., 0., 0., 0., 0., 0., 0., 0., 0., 0., 0., 0., 0., 0., 0., 0., 0., 0., 0.,\n",
      "        0., 0., 0., 0., 0., 0., 0., 0.], grad_fn=<SelectBackward>)\n",
      "tensor([-0.0413, -0.0130, -0.1639, -0.0392, -0.0707, -0.0550, -0.1487,  0.0849,\n",
      "         0.0429,  0.1111,  0.1722,  0.0258,  0.1364,  0.1238, -0.1149, -0.1583,\n",
      "        -0.1468,  0.0605, -0.0946,  0.0154,  0.0217,  0.1282,  0.0194,  0.0122,\n",
      "         0.0414, -0.1195,  0.0828, -0.0830, -0.1661,  0.1649,  0.1532,  0.1037,\n",
      "         0.1255, -0.1205, -0.0734,  0.0508,  0.1467, -0.0130,  0.0455, -0.1321,\n",
      "        -0.0289,  0.1332,  0.1255,  0.1189,  0.1436, -0.0982, -0.0726,  0.0439,\n",
      "        -0.1474, -0.0631,  0.0354,  0.1413, -0.0357, -0.0640, -0.0461,  0.0864,\n",
      "        -0.0768,  0.0539,  0.1157,  0.1311, -0.0974,  0.0049,  0.1560,  0.0782,\n",
      "        -0.1213, -0.1544,  0.0180,  0.1763, -0.1432, -0.0637, -0.1689, -0.0232,\n",
      "         0.1117,  0.1038,  0.0193,  0.1372,  0.0682, -0.1742, -0.0421, -0.1339,\n",
      "        -0.1700,  0.1611, -0.0526,  0.0204,  0.1668, -0.1093,  0.1231,  0.1038,\n",
      "         0.1058,  0.1641,  0.1072, -0.1508, -0.0508,  0.1373, -0.1006,  0.0819,\n",
      "        -0.1793,  0.0656,  0.1703,  0.0134,  0.1039,  0.1505,  0.0417, -0.1417,\n",
      "         0.0617,  0.0804,  0.0459,  0.1090, -0.1089, -0.0807,  0.0355, -0.1519,\n",
      "         0.0472,  0.0164, -0.0162, -0.0876, -0.0769,  0.0765, -0.0581, -0.0785,\n",
      "         0.1606,  0.1583, -0.1135, -0.1663,  0.0908,  0.0645,  0.1254,  0.1225],\n",
      "       grad_fn=<SelectBackward>)\n",
      "tensor([0., 0., 0., 0., 0., 0., 0., 0., 0., 0., 0., 0., 0., 0., 0., 0., 0., 0., 0., 0., 0., 0., 0., 0.,\n",
      "        0., 0., 0., 0., 0., 0., 0., 0., 0., 0., 0., 0., 0., 0., 0., 0., 0., 0., 0., 0., 0., 0., 0., 0.,\n",
      "        0., 0., 0., 0., 0., 0., 0., 0., 0., 0., 0., 0., 0., 0., 0., 0., 0., 0., 0., 0., 0., 0., 0., 0.,\n",
      "        0., 0., 0., 0., 0., 0., 0., 0., 0., 0., 0., 0., 0., 0., 0., 0., 0., 0., 0., 0., 0., 0., 0., 0.,\n",
      "        0., 0., 0., 0., 0., 0., 0., 0., 0., 0., 0., 0., 0., 0., 0., 0., 0., 0., 0., 0., 0., 0., 0., 0.,\n",
      "        0., 0., 0., 0., 0., 0., 0., 0.], grad_fn=<SelectBackward>)\n",
      "tensor([0., 0., 0., 0., 0., 0., 0., 0., 0., 0., 0., 0., 0., 0., 0., 0., 0., 0., 0., 0., 0., 0., 0., 0.,\n",
      "        0., 0., 0., 0., 0., 0., 0., 0., 0., 0., 0., 0., 0., 0., 0., 0., 0., 0., 0., 0., 0., 0., 0., 0.,\n",
      "        0., 0., 0., 0., 0., 0., 0., 0., 0., 0., 0., 0., 0., 0., 0., 0., 0., 0., 0., 0., 0., 0., 0., 0.,\n",
      "        0., 0., 0., 0., 0., 0., 0., 0., 0., 0., 0., 0., 0., 0., 0., 0., 0., 0., 0., 0., 0., 0., 0., 0.,\n",
      "        0., 0., 0., 0., 0., 0., 0., 0., 0., 0., 0., 0., 0., 0., 0., 0., 0., 0., 0., 0., 0., 0., 0., 0.,\n",
      "        0., 0., 0., 0., 0., 0., 0., 0.], grad_fn=<SelectBackward>)\n",
      "tensor([0., 0., 0., 0., 0., 0., 0., 0., 0., 0., 0., 0., 0., 0., 0., 0., 0., 0., 0., 0., 0., 0., 0., 0.,\n",
      "        0., 0., 0., 0., 0., 0., 0., 0., 0., 0., 0., 0., 0., 0., 0., 0., 0., 0., 0., 0., 0., 0., 0., 0.,\n",
      "        0., 0., 0., 0., 0., 0., 0., 0., 0., 0., 0., 0., 0., 0., 0., 0., 0., 0., 0., 0., 0., 0., 0., 0.,\n",
      "        0., 0., 0., 0., 0., 0., 0., 0., 0., 0., 0., 0., 0., 0., 0., 0., 0., 0., 0., 0., 0., 0., 0., 0.,\n",
      "        0., 0., 0., 0., 0., 0., 0., 0., 0., 0., 0., 0., 0., 0., 0., 0., 0., 0., 0., 0., 0., 0., 0., 0.,\n",
      "        0., 0., 0., 0., 0., 0., 0., 0.], grad_fn=<SelectBackward>)\n",
      "tensor([0., 0., 0., 0., 0., 0., 0., 0., 0., 0., 0., 0., 0., 0., 0., 0., 0., 0., 0., 0., 0., 0., 0., 0.,\n",
      "        0., 0., 0., 0., 0., 0., 0., 0., 0., 0., 0., 0., 0., 0., 0., 0., 0., 0., 0., 0., 0., 0., 0., 0.,\n",
      "        0., 0., 0., 0., 0., 0., 0., 0., 0., 0., 0., 0., 0., 0., 0., 0., 0., 0., 0., 0., 0., 0., 0., 0.,\n",
      "        0., 0., 0., 0., 0., 0., 0., 0., 0., 0., 0., 0., 0., 0., 0., 0., 0., 0., 0., 0., 0., 0., 0., 0.,\n",
      "        0., 0., 0., 0., 0., 0., 0., 0., 0., 0., 0., 0., 0., 0., 0., 0., 0., 0., 0., 0., 0., 0., 0., 0.,\n",
      "        0., 0., 0., 0., 0., 0., 0., 0.], grad_fn=<SelectBackward>)\n",
      "tensor([0., 0., 0., 0., 0., 0., 0., 0., 0., 0., 0., 0., 0., 0., 0., 0., 0., 0., 0., 0., 0., 0., 0., 0.,\n",
      "        0., 0., 0., 0., 0., 0., 0., 0., 0., 0., 0., 0., 0., 0., 0., 0., 0., 0., 0., 0., 0., 0., 0., 0.,\n",
      "        0., 0., 0., 0., 0., 0., 0., 0., 0., 0., 0., 0., 0., 0., 0., 0., 0., 0., 0., 0., 0., 0., 0., 0.,\n",
      "        0., 0., 0., 0., 0., 0., 0., 0., 0., 0., 0., 0., 0., 0., 0., 0., 0., 0., 0., 0., 0., 0., 0., 0.,\n",
      "        0., 0., 0., 0., 0., 0., 0., 0., 0., 0., 0., 0., 0., 0., 0., 0., 0., 0., 0., 0., 0., 0., 0., 0.,\n",
      "        0., 0., 0., 0., 0., 0., 0., 0.], grad_fn=<SelectBackward>)\n",
      "tensor([0., 0., 0., 0., 0., 0., 0., 0., 0., 0., 0., 0., 0., 0., 0., 0., 0., 0., 0., 0., 0., 0., 0., 0.,\n",
      "        0., 0., 0., 0., 0., 0., 0., 0., 0., 0., 0., 0., 0., 0., 0., 0., 0., 0., 0., 0., 0., 0., 0., 0.,\n",
      "        0., 0., 0., 0., 0., 0., 0., 0., 0., 0., 0., 0., 0., 0., 0., 0., 0., 0., 0., 0., 0., 0., 0., 0.,\n",
      "        0., 0., 0., 0., 0., 0., 0., 0., 0., 0., 0., 0., 0., 0., 0., 0., 0., 0., 0., 0., 0., 0., 0., 0.,\n",
      "        0., 0., 0., 0., 0., 0., 0., 0., 0., 0., 0., 0., 0., 0., 0., 0., 0., 0., 0., 0., 0., 0., 0., 0.,\n",
      "        0., 0., 0., 0., 0., 0., 0., 0.], grad_fn=<SelectBackward>)\n",
      "tensor([0., 0., 0., 0., 0., 0., 0., 0., 0., 0., 0., 0., 0., 0., 0., 0., 0., 0., 0., 0., 0., 0., 0., 0.,\n",
      "        0., 0., 0., 0., 0., 0., 0., 0., 0., 0., 0., 0., 0., 0., 0., 0., 0., 0., 0., 0., 0., 0., 0., 0.,\n",
      "        0., 0., 0., 0., 0., 0., 0., 0., 0., 0., 0., 0., 0., 0., 0., 0., 0., 0., 0., 0., 0., 0., 0., 0.,\n",
      "        0., 0., 0., 0., 0., 0., 0., 0., 0., 0., 0., 0., 0., 0., 0., 0., 0., 0., 0., 0., 0., 0., 0., 0.,\n",
      "        0., 0., 0., 0., 0., 0., 0., 0., 0., 0., 0., 0., 0., 0., 0., 0., 0., 0., 0., 0., 0., 0., 0., 0.,\n",
      "        0., 0., 0., 0., 0., 0., 0., 0.], grad_fn=<SelectBackward>)\n",
      "tensor([0., 0., 0., 0., 0., 0., 0., 0., 0., 0., 0., 0., 0., 0., 0., 0., 0., 0., 0., 0., 0., 0., 0., 0.,\n",
      "        0., 0., 0., 0., 0., 0., 0., 0., 0., 0., 0., 0., 0., 0., 0., 0., 0., 0., 0., 0., 0., 0., 0., 0.,\n",
      "        0., 0., 0., 0., 0., 0., 0., 0., 0., 0., 0., 0., 0., 0., 0., 0., 0., 0., 0., 0., 0., 0., 0., 0.,\n",
      "        0., 0., 0., 0., 0., 0., 0., 0., 0., 0., 0., 0., 0., 0., 0., 0., 0., 0., 0., 0., 0., 0., 0., 0.,\n",
      "        0., 0., 0., 0., 0., 0., 0., 0., 0., 0., 0., 0., 0., 0., 0., 0., 0., 0., 0., 0., 0., 0., 0., 0.,\n",
      "        0., 0., 0., 0., 0., 0., 0., 0.], grad_fn=<SelectBackward>)\n",
      "tensor([0., 0., 0., 0., 0., 0., 0., 0., 0., 0., 0., 0., 0., 0., 0., 0., 0., 0., 0., 0., 0., 0., 0., 0.,\n",
      "        0., 0., 0., 0., 0., 0., 0., 0., 0., 0., 0., 0., 0., 0., 0., 0., 0., 0., 0., 0., 0., 0., 0., 0.,\n",
      "        0., 0., 0., 0., 0., 0., 0., 0., 0., 0., 0., 0., 0., 0., 0., 0., 0., 0., 0., 0., 0., 0., 0., 0.,\n",
      "        0., 0., 0., 0., 0., 0., 0., 0., 0., 0., 0., 0., 0., 0., 0., 0., 0., 0., 0., 0., 0., 0., 0., 0.,\n",
      "        0., 0., 0., 0., 0., 0., 0., 0., 0., 0., 0., 0., 0., 0., 0., 0., 0., 0., 0., 0., 0., 0., 0., 0.,\n",
      "        0., 0., 0., 0., 0., 0., 0., 0.], grad_fn=<SelectBackward>)\n",
      "tensor([0., 0., 0., 0., 0., 0., 0., 0., 0., 0., 0., 0., 0., 0., 0., 0., 0., 0., 0., 0., 0., 0., 0., 0.,\n",
      "        0., 0., 0., 0., 0., 0., 0., 0., 0., 0., 0., 0., 0., 0., 0., 0., 0., 0., 0., 0., 0., 0., 0., 0.,\n",
      "        0., 0., 0., 0., 0., 0., 0., 0., 0., 0., 0., 0., 0., 0., 0., 0., 0., 0., 0., 0., 0., 0., 0., 0.,\n",
      "        0., 0., 0., 0., 0., 0., 0., 0., 0., 0., 0., 0., 0., 0., 0., 0., 0., 0., 0., 0., 0., 0., 0., 0.,\n",
      "        0., 0., 0., 0., 0., 0., 0., 0., 0., 0., 0., 0., 0., 0., 0., 0., 0., 0., 0., 0., 0., 0., 0., 0.,\n",
      "        0., 0., 0., 0., 0., 0., 0., 0.], grad_fn=<SelectBackward>)\n",
      "tensor([0., 0., 0., 0., 0., 0., 0., 0., 0., 0., 0., 0., 0., 0., 0., 0., 0., 0., 0., 0., 0., 0., 0., 0.,\n",
      "        0., 0., 0., 0., 0., 0., 0., 0., 0., 0., 0., 0., 0., 0., 0., 0., 0., 0., 0., 0., 0., 0., 0., 0.,\n",
      "        0., 0., 0., 0., 0., 0., 0., 0., 0., 0., 0., 0., 0., 0., 0., 0., 0., 0., 0., 0., 0., 0., 0., 0.,\n",
      "        0., 0., 0., 0., 0., 0., 0., 0., 0., 0., 0., 0., 0., 0., 0., 0., 0., 0., 0., 0., 0., 0., 0., 0.,\n",
      "        0., 0., 0., 0., 0., 0., 0., 0., 0., 0., 0., 0., 0., 0., 0., 0., 0., 0., 0., 0., 0., 0., 0., 0.,\n",
      "        0., 0., 0., 0., 0., 0., 0., 0.], grad_fn=<SelectBackward>)\n",
      "tensor([0., 0., 0., 0., 0., 0., 0., 0., 0., 0., 0., 0., 0., 0., 0., 0., 0., 0., 0., 0., 0., 0., 0., 0.,\n",
      "        0., 0., 0., 0., 0., 0., 0., 0., 0., 0., 0., 0., 0., 0., 0., 0., 0., 0., 0., 0., 0., 0., 0., 0.,\n",
      "        0., 0., 0., 0., 0., 0., 0., 0., 0., 0., 0., 0., 0., 0., 0., 0., 0., 0., 0., 0., 0., 0., 0., 0.,\n",
      "        0., 0., 0., 0., 0., 0., 0., 0., 0., 0., 0., 0., 0., 0., 0., 0., 0., 0., 0., 0., 0., 0., 0., 0.,\n",
      "        0., 0., 0., 0., 0., 0., 0., 0., 0., 0., 0., 0., 0., 0., 0., 0., 0., 0., 0., 0., 0., 0., 0., 0.,\n",
      "        0., 0., 0., 0., 0., 0., 0., 0.], grad_fn=<SelectBackward>)\n",
      "tensor([0., 0., 0., 0., 0., 0., 0., 0., 0., 0., 0., 0., 0., 0., 0., 0., 0., 0., 0., 0., 0., 0., 0., 0.,\n",
      "        0., 0., 0., 0., 0., 0., 0., 0., 0., 0., 0., 0., 0., 0., 0., 0., 0., 0., 0., 0., 0., 0., 0., 0.,\n",
      "        0., 0., 0., 0., 0., 0., 0., 0., 0., 0., 0., 0., 0., 0., 0., 0., 0., 0., 0., 0., 0., 0., 0., 0.,\n",
      "        0., 0., 0., 0., 0., 0., 0., 0., 0., 0., 0., 0., 0., 0., 0., 0., 0., 0., 0., 0., 0., 0., 0., 0.,\n",
      "        0., 0., 0., 0., 0., 0., 0., 0., 0., 0., 0., 0., 0., 0., 0., 0., 0., 0., 0., 0., 0., 0., 0., 0.,\n",
      "        0., 0., 0., 0., 0., 0., 0., 0.], grad_fn=<SelectBackward>)\n",
      "tensor([0., 0., 0., 0., 0., 0., 0., 0., 0., 0., 0., 0., 0., 0., 0., 0., 0., 0., 0., 0., 0., 0., 0., 0.,\n",
      "        0., 0., 0., 0., 0., 0., 0., 0., 0., 0., 0., 0., 0., 0., 0., 0., 0., 0., 0., 0., 0., 0., 0., 0.,\n",
      "        0., 0., 0., 0., 0., 0., 0., 0., 0., 0., 0., 0., 0., 0., 0., 0., 0., 0., 0., 0., 0., 0., 0., 0.,\n",
      "        0., 0., 0., 0., 0., 0., 0., 0., 0., 0., 0., 0., 0., 0., 0., 0., 0., 0., 0., 0., 0., 0., 0., 0.,\n",
      "        0., 0., 0., 0., 0., 0., 0., 0., 0., 0., 0., 0., 0., 0., 0., 0., 0., 0., 0., 0., 0., 0., 0., 0.,\n",
      "        0., 0., 0., 0., 0., 0., 0., 0.], grad_fn=<SelectBackward>)\n",
      "tensor([-0.0413, -0.0130, -0.1639, -0.0392, -0.0707, -0.0550, -0.1487,  0.0849,\n",
      "         0.0429,  0.1111,  0.1722,  0.0258,  0.1364,  0.1238, -0.1149, -0.1583,\n",
      "        -0.1468,  0.0605, -0.0946,  0.0154,  0.0217,  0.1282,  0.0194,  0.0122,\n",
      "         0.0414, -0.1195,  0.0828, -0.0830, -0.1661,  0.1649,  0.1532,  0.1037,\n",
      "         0.1255, -0.1205, -0.0734,  0.0508,  0.1467, -0.0130,  0.0455, -0.1321,\n",
      "        -0.0289,  0.1332,  0.1255,  0.1189,  0.1436, -0.0982, -0.0726,  0.0439,\n",
      "        -0.1474, -0.0631,  0.0354,  0.1413, -0.0357, -0.0640, -0.0461,  0.0864,\n",
      "        -0.0768,  0.0539,  0.1157,  0.1311, -0.0974,  0.0049,  0.1560,  0.0782,\n",
      "        -0.1213, -0.1544,  0.0180,  0.1763, -0.1432, -0.0637, -0.1689, -0.0232,\n",
      "         0.1117,  0.1038,  0.0193,  0.1372,  0.0682, -0.1742, -0.0421, -0.1339,\n",
      "        -0.1700,  0.1611, -0.0526,  0.0204,  0.1668, -0.1093,  0.1231,  0.1038,\n",
      "         0.1058,  0.1641,  0.1072, -0.1508, -0.0508,  0.1373, -0.1006,  0.0819,\n",
      "        -0.1793,  0.0656,  0.1703,  0.0134,  0.1039,  0.1505,  0.0417, -0.1417,\n",
      "         0.0617,  0.0804,  0.0459,  0.1090, -0.1089, -0.0807,  0.0355, -0.1519,\n",
      "         0.0472,  0.0164, -0.0162, -0.0876, -0.0769,  0.0765, -0.0581, -0.0785,\n",
      "         0.1606,  0.1583, -0.1135, -0.1663,  0.0908,  0.0645,  0.1254,  0.1225],\n",
      "       grad_fn=<SelectBackward>)\n",
      "tensor([0., 0., 0., 0., 0., 0., 0., 0., 0., 0., 0., 0., 0., 0., 0., 0., 0., 0., 0., 0., 0., 0., 0., 0.,\n",
      "        0., 0., 0., 0., 0., 0., 0., 0., 0., 0., 0., 0., 0., 0., 0., 0., 0., 0., 0., 0., 0., 0., 0., 0.,\n",
      "        0., 0., 0., 0., 0., 0., 0., 0., 0., 0., 0., 0., 0., 0., 0., 0., 0., 0., 0., 0., 0., 0., 0., 0.,\n",
      "        0., 0., 0., 0., 0., 0., 0., 0., 0., 0., 0., 0., 0., 0., 0., 0., 0., 0., 0., 0., 0., 0., 0., 0.,\n",
      "        0., 0., 0., 0., 0., 0., 0., 0., 0., 0., 0., 0., 0., 0., 0., 0., 0., 0., 0., 0., 0., 0., 0., 0.,\n",
      "        0., 0., 0., 0., 0., 0., 0., 0.], grad_fn=<SelectBackward>)\n",
      "tensor([0., 0., 0., 0., 0., 0., 0., 0., 0., 0., 0., 0., 0., 0., 0., 0., 0., 0., 0., 0., 0., 0., 0., 0.,\n",
      "        0., 0., 0., 0., 0., 0., 0., 0., 0., 0., 0., 0., 0., 0., 0., 0., 0., 0., 0., 0., 0., 0., 0., 0.,\n",
      "        0., 0., 0., 0., 0., 0., 0., 0., 0., 0., 0., 0., 0., 0., 0., 0., 0., 0., 0., 0., 0., 0., 0., 0.,\n",
      "        0., 0., 0., 0., 0., 0., 0., 0., 0., 0., 0., 0., 0., 0., 0., 0., 0., 0., 0., 0., 0., 0., 0., 0.,\n",
      "        0., 0., 0., 0., 0., 0., 0., 0., 0., 0., 0., 0., 0., 0., 0., 0., 0., 0., 0., 0., 0., 0., 0., 0.,\n",
      "        0., 0., 0., 0., 0., 0., 0., 0.], grad_fn=<SelectBackward>)\n",
      "tensor([0., 0., 0., 0., 0., 0., 0., 0., 0., 0., 0., 0., 0., 0., 0., 0., 0., 0., 0., 0., 0., 0., 0., 0.,\n",
      "        0., 0., 0., 0., 0., 0., 0., 0., 0., 0., 0., 0., 0., 0., 0., 0., 0., 0., 0., 0., 0., 0., 0., 0.,\n",
      "        0., 0., 0., 0., 0., 0., 0., 0., 0., 0., 0., 0., 0., 0., 0., 0., 0., 0., 0., 0., 0., 0., 0., 0.,\n",
      "        0., 0., 0., 0., 0., 0., 0., 0., 0., 0., 0., 0., 0., 0., 0., 0., 0., 0., 0., 0., 0., 0., 0., 0.,\n",
      "        0., 0., 0., 0., 0., 0., 0., 0., 0., 0., 0., 0., 0., 0., 0., 0., 0., 0., 0., 0., 0., 0., 0., 0.,\n",
      "        0., 0., 0., 0., 0., 0., 0., 0.], grad_fn=<SelectBackward>)\n",
      "tensor([0., 0., 0., 0., 0., 0., 0., 0., 0., 0., 0., 0., 0., 0., 0., 0., 0., 0., 0., 0., 0., 0., 0., 0.,\n",
      "        0., 0., 0., 0., 0., 0., 0., 0., 0., 0., 0., 0., 0., 0., 0., 0., 0., 0., 0., 0., 0., 0., 0., 0.,\n",
      "        0., 0., 0., 0., 0., 0., 0., 0., 0., 0., 0., 0., 0., 0., 0., 0., 0., 0., 0., 0., 0., 0., 0., 0.,\n",
      "        0., 0., 0., 0., 0., 0., 0., 0., 0., 0., 0., 0., 0., 0., 0., 0., 0., 0., 0., 0., 0., 0., 0., 0.,\n",
      "        0., 0., 0., 0., 0., 0., 0., 0., 0., 0., 0., 0., 0., 0., 0., 0., 0., 0., 0., 0., 0., 0., 0., 0.,\n",
      "        0., 0., 0., 0., 0., 0., 0., 0.], grad_fn=<SelectBackward>)\n",
      "tensor([0., 0., 0., 0., 0., 0., 0., 0., 0., 0., 0., 0., 0., 0., 0., 0., 0., 0., 0., 0., 0., 0., 0., 0.,\n",
      "        0., 0., 0., 0., 0., 0., 0., 0., 0., 0., 0., 0., 0., 0., 0., 0., 0., 0., 0., 0., 0., 0., 0., 0.,\n",
      "        0., 0., 0., 0., 0., 0., 0., 0., 0., 0., 0., 0., 0., 0., 0., 0., 0., 0., 0., 0., 0., 0., 0., 0.,\n",
      "        0., 0., 0., 0., 0., 0., 0., 0., 0., 0., 0., 0., 0., 0., 0., 0., 0., 0., 0., 0., 0., 0., 0., 0.,\n",
      "        0., 0., 0., 0., 0., 0., 0., 0., 0., 0., 0., 0., 0., 0., 0., 0., 0., 0., 0., 0., 0., 0., 0., 0.,\n",
      "        0., 0., 0., 0., 0., 0., 0., 0.], grad_fn=<SelectBackward>)\n",
      "tensor([0., 0., 0., 0., 0., 0., 0., 0., 0., 0., 0., 0., 0., 0., 0., 0., 0., 0., 0., 0., 0., 0., 0., 0.,\n",
      "        0., 0., 0., 0., 0., 0., 0., 0., 0., 0., 0., 0., 0., 0., 0., 0., 0., 0., 0., 0., 0., 0., 0., 0.,\n",
      "        0., 0., 0., 0., 0., 0., 0., 0., 0., 0., 0., 0., 0., 0., 0., 0., 0., 0., 0., 0., 0., 0., 0., 0.,\n",
      "        0., 0., 0., 0., 0., 0., 0., 0., 0., 0., 0., 0., 0., 0., 0., 0., 0., 0., 0., 0., 0., 0., 0., 0.,\n",
      "        0., 0., 0., 0., 0., 0., 0., 0., 0., 0., 0., 0., 0., 0., 0., 0., 0., 0., 0., 0., 0., 0., 0., 0.,\n",
      "        0., 0., 0., 0., 0., 0., 0., 0.], grad_fn=<SelectBackward>)\n"
     ]
    }
   ],
   "source": [
    "for x in range(len(node_list[1])): print(node_list[1][x])"
   ]
  },
  {
   "cell_type": "code",
   "execution_count": 10,
   "metadata": {},
   "outputs": [],
   "source": [
    "from gensim.models.word2vec import Word2Vec\n",
    "\n",
    "w2v = Word2Vec.load('data/c/train/embedding/node_w2v_128')"
   ]
  },
  {
   "cell_type": "code",
   "execution_count": 11,
   "metadata": {},
   "outputs": [
    {
     "data": {
      "text/plain": [
       "array([-4.4712177e-04,  3.8634639e-04, -2.9251440e-03, -9.9409244e-04,\n",
       "        3.9227400e-03, -2.0008062e-03, -3.9368332e-03, -2.7016976e-03,\n",
       "       -3.1853230e-03,  2.4385632e-03,  3.1921922e-03,  1.1294365e-03,\n",
       "        3.0680012e-03, -1.8769047e-03,  1.4741038e-03, -2.9291312e-04,\n",
       "       -3.8533329e-03, -3.9336793e-03,  5.0417049e-04, -1.9822840e-03,\n",
       "        3.6223377e-03,  2.7940387e-04, -7.6118822e-04,  1.5299083e-03,\n",
       "        2.4066012e-05,  2.2748695e-03,  2.9211794e-03,  7.3164166e-04,\n",
       "        3.5836396e-03,  2.0902304e-03,  2.8066521e-03, -2.6631998e-03,\n",
       "        3.6084726e-03, -1.0556557e-03, -5.1397301e-04,  2.8623682e-03,\n",
       "       -2.5518102e-04,  2.2767372e-03, -5.3860119e-04,  3.3289616e-03,\n",
       "       -2.4574499e-03,  1.7160118e-03,  2.7145036e-03, -3.2770182e-03,\n",
       "       -2.6811603e-03,  2.2138730e-03,  1.1508472e-03, -3.8016818e-03,\n",
       "        2.9390473e-03,  4.5791516e-04,  1.0512037e-03, -1.8929992e-03,\n",
       "        5.8888795e-04, -2.7558561e-03,  1.1662539e-03,  2.4728558e-03,\n",
       "        2.6546980e-03, -2.1395027e-03, -3.9976984e-03, -2.3153520e-03,\n",
       "       -2.7128500e-03,  3.6738717e-03,  2.3093731e-04,  3.6649392e-03,\n",
       "       -8.9298963e-04,  1.3059305e-03, -2.3015027e-04, -1.4309905e-03,\n",
       "       -1.8947046e-04,  1.3483415e-03, -3.2003557e-03,  2.0179972e-03,\n",
       "       -3.4198253e-03,  1.3533599e-03,  2.8064704e-05, -3.1019102e-03,\n",
       "       -3.6082021e-03,  2.4226378e-03, -1.1890336e-03, -3.4833204e-03,\n",
       "       -2.8123029e-03,  3.7994199e-03,  3.6719078e-03,  2.6752602e-03,\n",
       "        1.4468093e-03, -3.7150458e-03, -1.4599286e-03,  4.7487830e-04,\n",
       "       -1.5499112e-03,  2.6167028e-03, -1.0730124e-03, -3.7409428e-03,\n",
       "        3.8762086e-03,  3.5849179e-03, -1.4475660e-03,  5.8843760e-04,\n",
       "       -1.9167556e-03, -2.6460155e-03,  2.9377972e-03, -2.7550061e-03,\n",
       "       -2.8351869e-03, -2.1495665e-03, -3.3515198e-03,  2.9151409e-03,\n",
       "       -3.0456036e-03,  6.0017972e-04,  3.0000738e-03, -9.3175500e-04,\n",
       "        1.1064510e-03, -2.2244025e-03,  7.4726282e-05, -2.3071887e-03,\n",
       "       -2.6476888e-03, -2.7114833e-03, -3.5176973e-03, -2.3641209e-03,\n",
       "        9.0353402e-05, -3.6626623e-03, -1.0999375e-04,  2.7265519e-04,\n",
       "       -3.0067908e-03, -1.5359434e-03,  2.2085449e-03,  1.8081760e-03,\n",
       "        2.3340771e-03,  1.4955677e-04, -1.1604348e-03,  2.6534467e-03],\n",
       "      dtype=float32)"
      ]
     },
     "execution_count": 11,
     "metadata": {},
     "output_type": "execute_result"
    }
   ],
   "source": [
    "w2v.wv.get_vector('FuncDef')"
   ]
  },
  {
   "cell_type": "code",
   "execution_count": 48,
   "metadata": {},
   "outputs": [
    {
     "data": {
      "text/plain": [
       "'FuncDef'"
      ]
     },
     "execution_count": 48,
     "metadata": {},
     "output_type": "execute_result"
    }
   ],
   "source": [
    "w2v.wv.index2word[10]"
   ]
  },
  {
   "cell_type": "code",
   "execution_count": null,
   "metadata": {},
   "outputs": [],
   "source": []
  }
 ],
 "metadata": {
  "kernelspec": {
   "display_name": "Python 3",
   "language": "python",
   "name": "python3"
  },
  "language_info": {
   "codemirror_mode": {
    "name": "ipython",
    "version": 3
   },
   "file_extension": ".py",
   "mimetype": "text/x-python",
   "name": "python",
   "nbconvert_exporter": "python",
   "pygments_lexer": "ipython3",
   "version": "3.6.9"
  }
 },
 "nbformat": 4,
 "nbformat_minor": 4
}
