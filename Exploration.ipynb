{
 "cells": [
  {
   "cell_type": "markdown",
   "metadata": {},
   "source": [
    "# Exploration of the Data Provided by Zhang et. al (2019)"
   ]
  },
  {
   "cell_type": "markdown",
   "metadata": {},
   "source": [
    "## Clone Data"
   ]
  },
  {
   "cell_type": "markdown",
   "metadata": {},
   "source": [
    "#### C Data  (Open Judge dataset)"
   ]
  },
  {
   "cell_type": "code",
   "execution_count": 41,
   "metadata": {},
   "outputs": [],
   "source": [
    "import pandas as pd\n",
    "import matplotlib.pyplot as plt"
   ]
  },
  {
   "cell_type": "code",
   "execution_count": 13,
   "metadata": {},
   "outputs": [],
   "source": [
    "## Read data\n",
    "\n",
    "mydf = pd.read_pickle('astnn/clone/data/c/oj_clone_ids.pkl')"
   ]
  },
  {
   "cell_type": "code",
   "execution_count": 82,
   "metadata": {},
   "outputs": [
    {
     "data": {
      "text/html": [
       "<div>\n",
       "<style scoped>\n",
       "    .dataframe tbody tr th:only-of-type {\n",
       "        vertical-align: middle;\n",
       "    }\n",
       "\n",
       "    .dataframe tbody tr th {\n",
       "        vertical-align: top;\n",
       "    }\n",
       "\n",
       "    .dataframe thead th {\n",
       "        text-align: right;\n",
       "    }\n",
       "</style>\n",
       "<table border=\"1\" class=\"dataframe\">\n",
       "  <thead>\n",
       "    <tr style=\"text-align: right;\">\n",
       "      <th></th>\n",
       "      <th>id1</th>\n",
       "      <th>id2</th>\n",
       "      <th>label</th>\n",
       "    </tr>\n",
       "  </thead>\n",
       "  <tbody>\n",
       "    <tr>\n",
       "      <th>0</th>\n",
       "      <td>9557</td>\n",
       "      <td>26409</td>\n",
       "      <td>0</td>\n",
       "    </tr>\n",
       "    <tr>\n",
       "      <th>1</th>\n",
       "      <td>9200</td>\n",
       "      <td>26262</td>\n",
       "      <td>0</td>\n",
       "    </tr>\n",
       "    <tr>\n",
       "      <th>2</th>\n",
       "      <td>9160</td>\n",
       "      <td>27271</td>\n",
       "      <td>0</td>\n",
       "    </tr>\n",
       "    <tr>\n",
       "      <th>3</th>\n",
       "      <td>26188</td>\n",
       "      <td>8381</td>\n",
       "      <td>0</td>\n",
       "    </tr>\n",
       "    <tr>\n",
       "      <th>4</th>\n",
       "      <td>8368</td>\n",
       "      <td>26346</td>\n",
       "      <td>0</td>\n",
       "    </tr>\n",
       "    <tr>\n",
       "      <th>...</th>\n",
       "      <td>...</td>\n",
       "      <td>...</td>\n",
       "      <td>...</td>\n",
       "    </tr>\n",
       "    <tr>\n",
       "      <th>49995</th>\n",
       "      <td>9248</td>\n",
       "      <td>12711</td>\n",
       "      <td>0</td>\n",
       "    </tr>\n",
       "    <tr>\n",
       "      <th>49996</th>\n",
       "      <td>9885</td>\n",
       "      <td>28985</td>\n",
       "      <td>0</td>\n",
       "    </tr>\n",
       "    <tr>\n",
       "      <th>49997</th>\n",
       "      <td>45450</td>\n",
       "      <td>27027</td>\n",
       "      <td>0</td>\n",
       "    </tr>\n",
       "    <tr>\n",
       "      <th>49998</th>\n",
       "      <td>29545</td>\n",
       "      <td>27189</td>\n",
       "      <td>0</td>\n",
       "    </tr>\n",
       "    <tr>\n",
       "      <th>49999</th>\n",
       "      <td>16567</td>\n",
       "      <td>38662</td>\n",
       "      <td>0</td>\n",
       "    </tr>\n",
       "  </tbody>\n",
       "</table>\n",
       "<p>50000 rows × 3 columns</p>\n",
       "</div>"
      ],
      "text/plain": [
       "         id1    id2 label\n",
       "0       9557  26409     0\n",
       "1       9200  26262     0\n",
       "2       9160  27271     0\n",
       "3      26188   8381     0\n",
       "4       8368  26346     0\n",
       "...      ...    ...   ...\n",
       "49995   9248  12711     0\n",
       "49996   9885  28985     0\n",
       "49997  45450  27027     0\n",
       "49998  29545  27189     0\n",
       "49999  16567  38662     0\n",
       "\n",
       "[50000 rows x 3 columns]"
      ]
     },
     "execution_count": 82,
     "metadata": {},
     "output_type": "execute_result"
    }
   ],
   "source": [
    "mydf"
   ]
  },
  {
   "cell_type": "code",
   "execution_count": 7,
   "metadata": {},
   "outputs": [],
   "source": [
    "mydf2 = pd.read_pickle('astnn/clone/data/c/programs.pkl')"
   ]
  },
  {
   "cell_type": "code",
   "execution_count": 16,
   "metadata": {},
   "outputs": [
    {
     "data": {
      "text/html": [
       "<div>\n",
       "<style scoped>\n",
       "    .dataframe tbody tr th:only-of-type {\n",
       "        vertical-align: middle;\n",
       "    }\n",
       "\n",
       "    .dataframe tbody tr th {\n",
       "        vertical-align: top;\n",
       "    }\n",
       "\n",
       "    .dataframe thead th {\n",
       "        text-align: right;\n",
       "    }\n",
       "</style>\n",
       "<table border=\"1\" class=\"dataframe\">\n",
       "  <thead>\n",
       "    <tr style=\"text-align: right;\">\n",
       "      <th></th>\n",
       "      <th>id</th>\n",
       "      <th>code</th>\n",
       "      <th>label</th>\n",
       "    </tr>\n",
       "  </thead>\n",
       "  <tbody>\n",
       "    <tr>\n",
       "      <th>0</th>\n",
       "      <td>0</td>\n",
       "      <td>int main()\\n{\\n\\tint a;\\n\\tint bai,wushi,ershi...</td>\n",
       "      <td>97</td>\n",
       "    </tr>\n",
       "    <tr>\n",
       "      <th>1</th>\n",
       "      <td>1</td>\n",
       "      <td>int main()\\n{\\n    int m,x100,x50,x20,x10,x5,x...</td>\n",
       "      <td>97</td>\n",
       "    </tr>\n",
       "    <tr>\n",
       "      <th>2</th>\n",
       "      <td>2</td>\n",
       "      <td>int main()\\n{\\n    int n,i,shuzu[111],count1=0...</td>\n",
       "      <td>97</td>\n",
       "    </tr>\n",
       "    <tr>\n",
       "      <th>3</th>\n",
       "      <td>3</td>\n",
       "      <td>int main()\\n{\\n\\tint n,a1=0,a2=0,a3=0,a4=0,a5=...</td>\n",
       "      <td>97</td>\n",
       "    </tr>\n",
       "    <tr>\n",
       "      <th>4</th>\n",
       "      <td>4</td>\n",
       "      <td>int main()\\n{\\n\\tint n,a,b,c,d,e,f;\\n\\ta=0;b=0...</td>\n",
       "      <td>97</td>\n",
       "    </tr>\n",
       "    <tr>\n",
       "      <th>...</th>\n",
       "      <td>...</td>\n",
       "      <td>...</td>\n",
       "      <td>...</td>\n",
       "    </tr>\n",
       "    <tr>\n",
       "      <th>51996</th>\n",
       "      <td>51996</td>\n",
       "      <td>int topjudge(int a[][20],int m,int n,int p,int...</td>\n",
       "      <td>72</td>\n",
       "    </tr>\n",
       "    <tr>\n",
       "      <th>51997</th>\n",
       "      <td>51997</td>\n",
       "      <td>int main()\\n{\\n    int m,n;\\n    cin&gt;&gt;m&gt;&gt;n;\\n ...</td>\n",
       "      <td>72</td>\n",
       "    </tr>\n",
       "    <tr>\n",
       "      <th>51998</th>\n",
       "      <td>51998</td>\n",
       "      <td>void sort (int *data,int n)\\n{\\n     int i,j,*...</td>\n",
       "      <td>72</td>\n",
       "    </tr>\n",
       "    <tr>\n",
       "      <th>51999</th>\n",
       "      <td>51999</td>\n",
       "      <td>void main()\\n{\\n\\tint m,n,i,j,a[20][20],b[20][...</td>\n",
       "      <td>72</td>\n",
       "    </tr>\n",
       "    <tr>\n",
       "      <th>52000</th>\n",
       "      <td>52000</td>\n",
       "      <td>int main()\\n{\\n\\tint s[100][100],m,n,i,j,k,l;\\...</td>\n",
       "      <td>72</td>\n",
       "    </tr>\n",
       "  </tbody>\n",
       "</table>\n",
       "<p>52001 rows × 3 columns</p>\n",
       "</div>"
      ],
      "text/plain": [
       "          id                                               code  label\n",
       "0          0  int main()\\n{\\n\\tint a;\\n\\tint bai,wushi,ershi...     97\n",
       "1          1  int main()\\n{\\n    int m,x100,x50,x20,x10,x5,x...     97\n",
       "2          2  int main()\\n{\\n    int n,i,shuzu[111],count1=0...     97\n",
       "3          3  int main()\\n{\\n\\tint n,a1=0,a2=0,a3=0,a4=0,a5=...     97\n",
       "4          4  int main()\\n{\\n\\tint n,a,b,c,d,e,f;\\n\\ta=0;b=0...     97\n",
       "...      ...                                                ...    ...\n",
       "51996  51996  int topjudge(int a[][20],int m,int n,int p,int...     72\n",
       "51997  51997  int main()\\n{\\n    int m,n;\\n    cin>>m>>n;\\n ...     72\n",
       "51998  51998  void sort (int *data,int n)\\n{\\n     int i,j,*...     72\n",
       "51999  51999  void main()\\n{\\n\\tint m,n,i,j,a[20][20],b[20][...     72\n",
       "52000  52000  int main()\\n{\\n\\tint s[100][100],m,n,i,j,k,l;\\...     72\n",
       "\n",
       "[52001 rows x 3 columns]"
      ]
     },
     "execution_count": 16,
     "metadata": {},
     "output_type": "execute_result"
    }
   ],
   "source": [
    "mydf2.columns = ['id','code','label']\n",
    "mydf2"
   ]
  },
  {
   "cell_type": "code",
   "execution_count": 17,
   "metadata": {},
   "outputs": [
    {
     "data": {
      "text/plain": [
       "'int main()\\n{\\n    int m,x100,x50,x20,x10,x5,x1;\\n    cin>>m;\\n    for(x100=1;m>=100;x100++)\\n    {\\n                    m=m-100;\\n    }\\n    \\n    for(x50=1;m>=50;x50++)\\n    {\\n                    m=m-50;\\n    }\\n    \\n    for(x20=1;m>=20;x20++)\\n    {\\n                    m=m-20;\\n    }\\n    \\n    for(x10=1;m>=10;x10++)\\n    {\\n                    m=m-10;\\n    }\\n    \\n    for(x5=1;m>=5;x5++)\\n    {\\n                    m=m-5;\\n    }\\n   \\n    x1=m;\\n    \\n    cout<<x100-1<<endl;\\n    cout<<x50-1<<endl<<x20-1<<endl<<x10-1<<endl<<x5-1<<endl<<x1;\\n                    \\n\\n   return 0;\\n}\\n'"
      ]
     },
     "execution_count": 17,
     "metadata": {},
     "output_type": "execute_result"
    }
   ],
   "source": [
    "mydf2.iloc[1,1]"
   ]
  },
  {
   "cell_type": "code",
   "execution_count": 100,
   "metadata": {},
   "outputs": [
    {
     "name": "stdout",
     "output_type": "stream",
     "text": [
      "Number of labels:\n"
     ]
    },
    {
     "data": {
      "text/plain": [
       "0    46714\n",
       "1     3286\n",
       "Name: label, dtype: int64"
      ]
     },
     "execution_count": 100,
     "metadata": {},
     "output_type": "execute_result"
    }
   ],
   "source": [
    "print(\"Number of labels:\")\n",
    "mydf.iloc[:,2].value_counts()"
   ]
  },
  {
   "cell_type": "code",
   "execution_count": 103,
   "metadata": {},
   "outputs": [
    {
     "data": {
      "text/plain": [
       "<BarContainer object of 2 artists>"
      ]
     },
     "execution_count": 103,
     "metadata": {},
     "output_type": "execute_result"
    },
    {
     "data": {
      "image/png": "[encoded data removed]",
      "text/plain": [
       "<Figure size 432x288 with 1 Axes>"
      ]
     },
     "metadata": {
      "needs_background": "light"
     },
     "output_type": "display_data"
    }
   ],
   "source": [
    "plt.bar(mydf.iloc[:,2].value_counts().index.values.astype('str'),mydf.iloc[:,2].value_counts().values)"
   ]
  },
  {
   "cell_type": "markdown",
   "metadata": {},
   "source": [
    "#### Java data (Big Code Bench Dataset)"
   ]
  },
  {
   "cell_type": "code",
   "execution_count": 78,
   "metadata": {},
   "outputs": [],
   "source": [
    "jdf = pd.read_csv('astnn/clone/data/java/bcb_funcs_all.tsv',delimiter='\\t',header=None)"
   ]
  },
  {
   "cell_type": "code",
   "execution_count": 79,
   "metadata": {},
   "outputs": [
    {
     "data": {
      "text/html": [
       "<div>\n",
       "<style scoped>\n",
       "    .dataframe tbody tr th:only-of-type {\n",
       "        vertical-align: middle;\n",
       "    }\n",
       "\n",
       "    .dataframe tbody tr th {\n",
       "        vertical-align: top;\n",
       "    }\n",
       "\n",
       "    .dataframe thead th {\n",
       "        text-align: right;\n",
       "    }\n",
       "</style>\n",
       "<table border=\"1\" class=\"dataframe\">\n",
       "  <thead>\n",
       "    <tr style=\"text-align: right;\">\n",
       "      <th></th>\n",
       "      <th>0</th>\n",
       "      <th>1</th>\n",
       "    </tr>\n",
       "  </thead>\n",
       "  <tbody>\n",
       "    <tr>\n",
       "      <th>0</th>\n",
       "      <td>74</td>\n",
       "      <td>static void copy(String src, String dest) ...</td>\n",
       "    </tr>\n",
       "    <tr>\n",
       "      <th>1</th>\n",
       "      <td>661</td>\n",
       "      <td>public void convert(File src, File dest) t...</td>\n",
       "    </tr>\n",
       "    <tr>\n",
       "      <th>2</th>\n",
       "      <td>1362</td>\n",
       "      <td>public static int[] bubbleSort(int... a) {...</td>\n",
       "    </tr>\n",
       "    <tr>\n",
       "      <th>3</th>\n",
       "      <td>1363</td>\n",
       "      <td>public static int[] bubbleSortOtimizado(in...</td>\n",
       "    </tr>\n",
       "    <tr>\n",
       "      <th>4</th>\n",
       "      <td>2450</td>\n",
       "      <td>public void process(String dir) {\\n       ...</td>\n",
       "    </tr>\n",
       "    <tr>\n",
       "      <th>...</th>\n",
       "      <td>...</td>\n",
       "      <td>...</td>\n",
       "    </tr>\n",
       "    <tr>\n",
       "      <th>59613</th>\n",
       "      <td>23653940</td>\n",
       "      <td>JarAgletClassLoader(URL codebase, Certific...</td>\n",
       "    </tr>\n",
       "    <tr>\n",
       "      <th>59614</th>\n",
       "      <td>23655348</td>\n",
       "      <td>public boolean fileCompare(String from, St...</td>\n",
       "    </tr>\n",
       "    <tr>\n",
       "      <th>59615</th>\n",
       "      <td>23672349</td>\n",
       "      <td>public static byte[] calculateMD4(byte[] d...</td>\n",
       "    </tr>\n",
       "    <tr>\n",
       "      <th>59616</th>\n",
       "      <td>23672350</td>\n",
       "      <td>public static byte[] calculateMD5(byte[] d...</td>\n",
       "    </tr>\n",
       "    <tr>\n",
       "      <th>59617</th>\n",
       "      <td>23672354</td>\n",
       "      <td>public static byte[] calculateSHA1(byte[] ...</td>\n",
       "    </tr>\n",
       "  </tbody>\n",
       "</table>\n",
       "<p>59618 rows × 2 columns</p>\n",
       "</div>"
      ],
      "text/plain": [
       "              0                                                  1\n",
       "0            74      static void copy(String src, String dest) ...\n",
       "1           661      public void convert(File src, File dest) t...\n",
       "2          1362      public static int[] bubbleSort(int... a) {...\n",
       "3          1363      public static int[] bubbleSortOtimizado(in...\n",
       "4          2450      public void process(String dir) {\\n       ...\n",
       "...         ...                                                ...\n",
       "59613  23653940      JarAgletClassLoader(URL codebase, Certific...\n",
       "59614  23655348      public boolean fileCompare(String from, St...\n",
       "59615  23672349      public static byte[] calculateMD4(byte[] d...\n",
       "59616  23672350      public static byte[] calculateMD5(byte[] d...\n",
       "59617  23672354      public static byte[] calculateSHA1(byte[] ...\n",
       "\n",
       "[59618 rows x 2 columns]"
      ]
     },
     "execution_count": 79,
     "metadata": {},
     "output_type": "execute_result"
    }
   ],
   "source": [
    "jdf"
   ]
  },
  {
   "cell_type": "code",
   "execution_count": 83,
   "metadata": {},
   "outputs": [
    {
     "data": {
      "text/plain": [
       "'    public void convert(File src, File dest) throws IOException {\\n        InputStream in = new BufferedInputStream(new FileInputStream(src));\\n        DcmParser p = pfact.newDcmParser(in);\\n        Dataset ds = fact.newDataset();\\n        p.setDcmHandler(ds.getDcmHandler());\\n        try {\\n            FileFormat format = p.detectFileFormat();\\n            if (format != FileFormat.ACRNEMA_STREAM) {\\n                System.out.println(\"\\\\n\" + src + \": not an ACRNEMA stream!\");\\n                return;\\n            }\\n            p.parseDcmFile(format, Tags.PixelData);\\n            if (ds.contains(Tags.StudyInstanceUID) || ds.contains(Tags.SeriesInstanceUID) || ds.contains(Tags.SOPInstanceUID) || ds.contains(Tags.SOPClassUID)) {\\n                System.out.println(\"\\\\n\" + src + \": contains UIDs!\" + \" => probable already DICOM - do not convert\");\\n                return;\\n            }\\n            boolean hasPixelData = p.getReadTag() == Tags.PixelData;\\n            boolean inflate = hasPixelData && ds.getInt(Tags.BitsAllocated, 0) == 12;\\n            int pxlen = p.getReadLength();\\n            if (hasPixelData) {\\n                if (inflate) {\\n                    ds.putUS(Tags.BitsAllocated, 16);\\n                    pxlen = pxlen * 4 / 3;\\n                }\\n                if (pxlen != (ds.getInt(Tags.BitsAllocated, 0) >>> 3) * ds.getInt(Tags.Rows, 0) * ds.getInt(Tags.Columns, 0) * ds.getInt(Tags.NumberOfFrames, 1) * ds.getInt(Tags.NumberOfSamples, 1)) {\\n                    System.out.println(\"\\\\n\" + src + \": mismatch pixel data length!\" + \" => do not convert\");\\n                    return;\\n                }\\n            }\\n            ds.putUI(Tags.StudyInstanceUID, uid(studyUID));\\n            ds.putUI(Tags.SeriesInstanceUID, uid(seriesUID));\\n            ds.putUI(Tags.SOPInstanceUID, uid(instUID));\\n            ds.putUI(Tags.SOPClassUID, classUID);\\n            if (!ds.contains(Tags.NumberOfSamples)) {\\n                ds.putUS(Tags.NumberOfSamples, 1);\\n            }\\n            if (!ds.contains(Tags.PhotometricInterpretation)) {\\n                ds.putCS(Tags.PhotometricInterpretation, \"MONOCHROME2\");\\n            }\\n            if (fmi) {\\n                ds.setFileMetaInfo(fact.newFileMetaInfo(ds, UIDs.ImplicitVRLittleEndian));\\n            }\\n            OutputStream out = new BufferedOutputStream(new FileOutputStream(dest));\\n            try {\\n            } finally {\\n                ds.writeFile(out, encodeParam());\\n                if (hasPixelData) {\\n                    if (!skipGroupLen) {\\n                        out.write(PXDATA_GROUPLEN);\\n                        int grlen = pxlen + 8;\\n                        out.write((byte) grlen);\\n                        out.write((byte) (grlen >> 8));\\n                        out.write((byte) (grlen >> 16));\\n                        out.write((byte) (grlen >> 24));\\n                    }\\n                    out.write(PXDATA_TAG);\\n                    out.write((byte) pxlen);\\n                    out.write((byte) (pxlen >> 8));\\n                    out.write((byte) (pxlen >> 16));\\n                    out.write((byte) (pxlen >> 24));\\n                }\\n                if (inflate) {\\n                    int b2, b3;\\n                    for (; pxlen > 0; pxlen -= 3) {\\n                        out.write(in.read());\\n                        b2 = in.read();\\n                        b3 = in.read();\\n                        out.write(b2 & 0x0f);\\n                        out.write(b2 >> 4 | ((b3 & 0x0f) << 4));\\n                        out.write(b3 >> 4);\\n                    }\\n                } else {\\n                    for (; pxlen > 0; --pxlen) {\\n                        out.write(in.read());\\n                    }\\n                }\\n                out.close();\\n            }\\n            System.out.print(\\'.\\');\\n        } finally {\\n            in.close();\\n        }\\n    }\\n'"
      ]
     },
     "execution_count": 83,
     "metadata": {},
     "output_type": "execute_result"
    }
   ],
   "source": [
    "jdf.iloc[1,1]"
   ]
  },
  {
   "cell_type": "code",
   "execution_count": 80,
   "metadata": {},
   "outputs": [],
   "source": [
    "jdf2 = pd.read_pickle('astnn/clone/data/java/bcb_pair_ids.pkl')"
   ]
  },
  {
   "cell_type": "code",
   "execution_count": 93,
   "metadata": {},
   "outputs": [
    {
     "data": {
      "text/html": [
       "<div>\n",
       "<style scoped>\n",
       "    .dataframe tbody tr th:only-of-type {\n",
       "        vertical-align: middle;\n",
       "    }\n",
       "\n",
       "    .dataframe tbody tr th {\n",
       "        vertical-align: top;\n",
       "    }\n",
       "\n",
       "    .dataframe thead th {\n",
       "        text-align: right;\n",
       "    }\n",
       "</style>\n",
       "<table border=\"1\" class=\"dataframe\">\n",
       "  <thead>\n",
       "    <tr style=\"text-align: right;\">\n",
       "      <th></th>\n",
       "      <th>id1</th>\n",
       "      <th>id2</th>\n",
       "      <th>label</th>\n",
       "    </tr>\n",
       "  </thead>\n",
       "  <tbody>\n",
       "    <tr>\n",
       "      <th>0</th>\n",
       "      <td>3024986</td>\n",
       "      <td>3024993</td>\n",
       "      <td>2</td>\n",
       "    </tr>\n",
       "    <tr>\n",
       "      <th>1</th>\n",
       "      <td>308643</td>\n",
       "      <td>727183</td>\n",
       "      <td>1</td>\n",
       "    </tr>\n",
       "    <tr>\n",
       "      <th>2</th>\n",
       "      <td>308643</td>\n",
       "      <td>587124</td>\n",
       "      <td>1</td>\n",
       "    </tr>\n",
       "    <tr>\n",
       "      <th>3</th>\n",
       "      <td>308643</td>\n",
       "      <td>481939</td>\n",
       "      <td>1</td>\n",
       "    </tr>\n",
       "    <tr>\n",
       "      <th>4</th>\n",
       "      <td>210006</td>\n",
       "      <td>308643</td>\n",
       "      <td>1</td>\n",
       "    </tr>\n",
       "    <tr>\n",
       "      <th>...</th>\n",
       "      <td>...</td>\n",
       "      <td>...</td>\n",
       "      <td>...</td>\n",
       "    </tr>\n",
       "    <tr>\n",
       "      <th>97530</th>\n",
       "      <td>20502118</td>\n",
       "      <td>23677111</td>\n",
       "      <td>0</td>\n",
       "    </tr>\n",
       "    <tr>\n",
       "      <th>97531</th>\n",
       "      <td>1468160</td>\n",
       "      <td>23677115</td>\n",
       "      <td>0</td>\n",
       "    </tr>\n",
       "    <tr>\n",
       "      <th>97532</th>\n",
       "      <td>8232818</td>\n",
       "      <td>23677118</td>\n",
       "      <td>0</td>\n",
       "    </tr>\n",
       "    <tr>\n",
       "      <th>97533</th>\n",
       "      <td>98304</td>\n",
       "      <td>23677118</td>\n",
       "      <td>0</td>\n",
       "    </tr>\n",
       "    <tr>\n",
       "      <th>97534</th>\n",
       "      <td>22503546</td>\n",
       "      <td>23677112</td>\n",
       "      <td>0</td>\n",
       "    </tr>\n",
       "  </tbody>\n",
       "</table>\n",
       "<p>97535 rows × 3 columns</p>\n",
       "</div>"
      ],
      "text/plain": [
       "            id1       id2 label\n",
       "0       3024986   3024993     2\n",
       "1        308643    727183     1\n",
       "2        308643    587124     1\n",
       "3        308643    481939     1\n",
       "4        210006    308643     1\n",
       "...         ...       ...   ...\n",
       "97530  20502118  23677111     0\n",
       "97531   1468160  23677115     0\n",
       "97532   8232818  23677118     0\n",
       "97533     98304  23677118     0\n",
       "97534  22503546  23677112     0\n",
       "\n",
       "[97535 rows x 3 columns]"
      ]
     },
     "execution_count": 93,
     "metadata": {},
     "output_type": "execute_result"
    }
   ],
   "source": [
    "jdf2"
   ]
  },
  {
   "cell_type": "code",
   "execution_count": 95,
   "metadata": {},
   "outputs": [
    {
     "name": "stdout",
     "output_type": "stream",
     "text": [
      "Number of labels:\n"
     ]
    },
    {
     "data": {
      "text/plain": [
       "5    20000\n",
       "4    20000\n",
       "0    20000\n",
       "3    18317\n",
       "1    15555\n",
       "2     3663\n",
       "Name: label, dtype: int64"
      ]
     },
     "execution_count": 95,
     "metadata": {},
     "output_type": "execute_result"
    }
   ],
   "source": [
    "print(\"Number of labels:\")\n",
    "jdf2.iloc[:,2].value_counts()"
   ]
  },
  {
   "cell_type": "code",
   "execution_count": 99,
   "metadata": {},
   "outputs": [
    {
     "data": {
      "text/plain": [
       "<BarContainer object of 6 artists>"
      ]
     },
     "execution_count": 99,
     "metadata": {},
     "output_type": "execute_result"
    },
    {
     "data": {
      "image/png": "[encoded data removed]",
      "text/plain": [
       "<Figure size 432x288 with 1 Axes>"
      ]
     },
     "metadata": {
      "needs_background": "light"
     },
     "output_type": "display_data"
    }
   ],
   "source": [
    "plt.bar(jdf2.iloc[:,2].value_counts().index.values,jdf2.iloc[:,2].value_counts().values)"
   ]
  },
  {
   "cell_type": "code",
   "execution_count": null,
   "metadata": {},
   "outputs": [],
   "source": []
  }
 ],
 "metadata": {
  "kernelspec": {
   "display_name": "Python 3",
   "language": "python",
   "name": "python3"
  },
  "language_info": {
   "codemirror_mode": {
    "name": "ipython",
    "version": 3
   },
   "file_extension": ".py",
   "mimetype": "text/x-python",
   "name": "python",
   "nbconvert_exporter": "python",
   "pygments_lexer": "ipython3",
   "version": "3.6.9"
  }
 },
 "nbformat": 4,
 "nbformat_minor": 4
}
