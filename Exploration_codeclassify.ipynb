{
 "cells": [
  {
   "cell_type": "markdown",
   "metadata": {},
   "source": [
    "# Exploration of the Data Provided by Zhang et. al (2019)"
   ]
  },
  {
   "cell_type": "markdown",
   "metadata": {},
   "source": [
    "## Source code classification (Open Judge)"
   ]
  },
  {
   "cell_type": "code",
   "execution_count": 12,
   "metadata": {},
   "outputs": [],
   "source": [
    "## Import libraries\n",
    "\n",
    "import pandas as pd"
   ]
  },
  {
   "cell_type": "code",
   "execution_count": 3,
   "metadata": {},
   "outputs": [],
   "source": [
    "mydf = pd.read_pickle('astnn/data/programs.pkl')"
   ]
  },
  {
   "cell_type": "code",
   "execution_count": 4,
   "metadata": {},
   "outputs": [
    {
     "data": {
      "text/html": [
       "<div>\n",
       "<style scoped>\n",
       "    .dataframe tbody tr th:only-of-type {\n",
       "        vertical-align: middle;\n",
       "    }\n",
       "\n",
       "    .dataframe tbody tr th {\n",
       "        vertical-align: top;\n",
       "    }\n",
       "\n",
       "    .dataframe thead th {\n",
       "        text-align: right;\n",
       "    }\n",
       "</style>\n",
       "<table border=\"1\" class=\"dataframe\">\n",
       "  <thead>\n",
       "    <tr style=\"text-align: right;\">\n",
       "      <th></th>\n",
       "      <th>0</th>\n",
       "      <th>1</th>\n",
       "      <th>2</th>\n",
       "    </tr>\n",
       "  </thead>\n",
       "  <tbody>\n",
       "    <tr>\n",
       "      <th>0</th>\n",
       "      <td>0</td>\n",
       "      <td>int main()\\n{\\n\\tint a;\\n\\tint bai,wushi,ershi...</td>\n",
       "      <td>97</td>\n",
       "    </tr>\n",
       "    <tr>\n",
       "      <th>1</th>\n",
       "      <td>1</td>\n",
       "      <td>int main()\\n{\\n    int m,x100,x50,x20,x10,x5,x...</td>\n",
       "      <td>97</td>\n",
       "    </tr>\n",
       "    <tr>\n",
       "      <th>2</th>\n",
       "      <td>2</td>\n",
       "      <td>int main()\\n{\\n    int n,i,shuzu[111],count1=0...</td>\n",
       "      <td>97</td>\n",
       "    </tr>\n",
       "    <tr>\n",
       "      <th>3</th>\n",
       "      <td>3</td>\n",
       "      <td>int main()\\n{\\n\\tint n,a1=0,a2=0,a3=0,a4=0,a5=...</td>\n",
       "      <td>97</td>\n",
       "    </tr>\n",
       "    <tr>\n",
       "      <th>4</th>\n",
       "      <td>4</td>\n",
       "      <td>int main()\\n{\\n\\tint n,a,b,c,d,e,f;\\n\\ta=0;b=0...</td>\n",
       "      <td>97</td>\n",
       "    </tr>\n",
       "  </tbody>\n",
       "</table>\n",
       "</div>"
      ],
      "text/plain": [
       "   0                                                  1   2\n",
       "0  0  int main()\\n{\\n\\tint a;\\n\\tint bai,wushi,ershi...  97\n",
       "1  1  int main()\\n{\\n    int m,x100,x50,x20,x10,x5,x...  97\n",
       "2  2  int main()\\n{\\n    int n,i,shuzu[111],count1=0...  97\n",
       "3  3  int main()\\n{\\n\\tint n,a1=0,a2=0,a3=0,a4=0,a5=...  97\n",
       "4  4  int main()\\n{\\n\\tint n,a,b,c,d,e,f;\\n\\ta=0;b=0...  97"
      ]
     },
     "execution_count": 4,
     "metadata": {},
     "output_type": "execute_result"
    }
   ],
   "source": [
    "mydf.head()"
   ]
  },
  {
   "cell_type": "code",
   "execution_count": 114,
   "metadata": {},
   "outputs": [
    {
     "data": {
      "text/plain": [
       "pandas.core.series.Series"
      ]
     },
     "execution_count": 114,
     "metadata": {},
     "output_type": "execute_result"
    }
   ],
   "source": [
    "type(mydf.iloc[:,1])"
   ]
  },
  {
   "cell_type": "code",
   "execution_count": 49,
   "metadata": {},
   "outputs": [
    {
     "data": {
      "text/plain": [
       "0            0\n",
       "1            1\n",
       "2            2\n",
       "3            3\n",
       "4            4\n",
       "         ...  \n",
       "51996    51996\n",
       "51997    51997\n",
       "51998    51998\n",
       "51999    51999\n",
       "52000    52000\n",
       "Name: 0, Length: 52001, dtype: int64"
      ]
     },
     "execution_count": 49,
     "metadata": {},
     "output_type": "execute_result"
    }
   ],
   "source": [
    "mydf.iloc[:,0]"
   ]
  },
  {
   "cell_type": "markdown",
   "metadata": {},
   "source": [
    "Check the structure of single data from a single row"
   ]
  },
  {
   "cell_type": "code",
   "execution_count": 25,
   "metadata": {},
   "outputs": [
    {
     "data": {
      "text/plain": [
       "'int main()\\n{\\n\\tint a;\\n\\tint bai,wushi,ershi,shi,wu,yi;\\n\\tcin>>a;\\n\\tbai=a/100;\\n\\ta=a%100;\\n\\twushi=a/50;\\n\\ta=a%50;\\n\\tershi=a/20;\\n\\ta=a%20;\\n\\tshi=a/10;\\n\\ta=a%10;\\n\\twu=a/5;\\n\\ta=a%5;\\n\\tyi=a;\\n\\tcout<<bai<<endl;\\n\\tcout<<wushi<<endl;\\n\\tcout<<ershi<<endl;\\n\\tcout<<shi<<endl;\\n\\tcout<<wu<<endl;\\n\\tcout<<yi<<endl;\\n\\treturn 0;\\n}'"
      ]
     },
     "execution_count": 25,
     "metadata": {},
     "output_type": "execute_result"
    }
   ],
   "source": [
    "mydf.iloc[0,1]"
   ]
  },
  {
   "cell_type": "markdown",
   "metadata": {},
   "source": [
    "So the data provided is one function per row."
   ]
  },
  {
   "cell_type": "markdown",
   "metadata": {},
   "source": [
    "How many labels? "
   ]
  },
  {
   "cell_type": "code",
   "execution_count": 10,
   "metadata": {},
   "outputs": [
    {
     "data": {
      "text/plain": [
       "104"
      ]
     },
     "execution_count": 10,
     "metadata": {},
     "output_type": "execute_result"
    }
   ],
   "source": [
    "len(mydf.iloc[:,2].value_counts().index)"
   ]
  },
  {
   "cell_type": "markdown",
   "metadata": {},
   "source": [
    "Distribution of data across labels:"
   ]
  },
  {
   "cell_type": "code",
   "execution_count": 11,
   "metadata": {},
   "outputs": [
    {
     "data": {
      "text/plain": [
       "1     501\n",
       "95    500\n",
       "10    500\n",
       "39    500\n",
       "71    500\n",
       "     ... \n",
       "53    500\n",
       "85    500\n",
       "22    500\n",
       "54    500\n",
       "32    500\n",
       "Name: 2, Length: 104, dtype: int64"
      ]
     },
     "execution_count": 11,
     "metadata": {},
     "output_type": "execute_result"
    }
   ],
   "source": [
    "mydf.iloc[:,2].value_counts()"
   ]
  },
  {
   "cell_type": "code",
   "execution_count": 14,
   "metadata": {},
   "outputs": [
    {
     "data": {
      "text/plain": [
       "array([501, 500, 500, 500, 500, 500, 500, 500, 500, 500, 500, 500, 500,\n",
       "       500, 500, 500, 500, 500, 500, 500, 500, 500, 500, 500, 500, 500,\n",
       "       500, 500, 500, 500, 500, 500, 500, 500, 500, 500, 500, 500, 500,\n",
       "       500, 500, 500, 500, 500, 500, 500, 500, 500, 500, 500, 500, 500,\n",
       "       500, 500, 500, 500, 500, 500, 500, 500, 500, 500, 500, 500, 500,\n",
       "       500, 500, 500, 500, 500, 500, 500, 500, 500, 500, 500, 500, 500,\n",
       "       500, 500, 500, 500, 500, 500, 500, 500, 500, 500, 500, 500, 500,\n",
       "       500, 500, 500, 500, 500, 500, 500, 500, 500, 500, 500, 500, 500])"
      ]
     },
     "execution_count": 14,
     "metadata": {},
     "output_type": "execute_result"
    }
   ],
   "source": [
    "mydf.iloc[:,2].value_counts().values"
   ]
  },
  {
   "cell_type": "markdown",
   "metadata": {},
   "source": [
    "It is quite evenly distributed with ~500 datapoints/observations for each label"
   ]
  },
  {
   "cell_type": "markdown",
   "metadata": {},
   "source": [
    "### Question: Can the software vulnerability detection dataset from Russell et al (2018) fit into the structure of this dataset?"
   ]
  },
  {
   "cell_type": "code",
   "execution_count": 78,
   "metadata": {},
   "outputs": [],
   "source": [
    "val = pd.read_pickle('data/newval.pickle')"
   ]
  },
  {
   "cell_type": "code",
   "execution_count": 79,
   "metadata": {},
   "outputs": [
    {
     "data": {
      "text/html": [
       "<div>\n",
       "<style scoped>\n",
       "    .dataframe tbody tr th:only-of-type {\n",
       "        vertical-align: middle;\n",
       "    }\n",
       "\n",
       "    .dataframe tbody tr th {\n",
       "        vertical-align: top;\n",
       "    }\n",
       "\n",
       "    .dataframe thead th {\n",
       "        text-align: right;\n",
       "    }\n",
       "</style>\n",
       "<table border=\"1\" class=\"dataframe\">\n",
       "  <thead>\n",
       "    <tr style=\"text-align: right;\">\n",
       "      <th></th>\n",
       "      <th>functionSource</th>\n",
       "      <th>CWE-119</th>\n",
       "      <th>CWE-120</th>\n",
       "      <th>CWE-469</th>\n",
       "      <th>CWE-476</th>\n",
       "      <th>CWE-other</th>\n",
       "      <th>combine</th>\n",
       "    </tr>\n",
       "  </thead>\n",
       "  <tbody>\n",
       "    <tr>\n",
       "      <th>0</th>\n",
       "      <td>gwy_resource_class_mkdir(GwyResourceClass *kla...</td>\n",
       "      <td>False</td>\n",
       "      <td>False</td>\n",
       "      <td>False</td>\n",
       "      <td>False</td>\n",
       "      <td>False</td>\n",
       "      <td>False</td>\n",
       "    </tr>\n",
       "    <tr>\n",
       "      <th>1</th>\n",
       "      <td>SetIgnoredFields( const char **papszFields )\\n...</td>\n",
       "      <td>False</td>\n",
       "      <td>False</td>\n",
       "      <td>False</td>\n",
       "      <td>False</td>\n",
       "      <td>False</td>\n",
       "      <td>False</td>\n",
       "    </tr>\n",
       "    <tr>\n",
       "      <th>2</th>\n",
       "      <td>timeoutProtoDisplays(void)\\n{\\n    struct prot...</td>\n",
       "      <td>False</td>\n",
       "      <td>False</td>\n",
       "      <td>False</td>\n",
       "      <td>False</td>\n",
       "      <td>False</td>\n",
       "      <td>False</td>\n",
       "    </tr>\n",
       "    <tr>\n",
       "      <th>3</th>\n",
       "      <td>SelectViewsOf (GraphicComp* comp, Editor* ed) ...</td>\n",
       "      <td>False</td>\n",
       "      <td>False</td>\n",
       "      <td>False</td>\n",
       "      <td>False</td>\n",
       "      <td>False</td>\n",
       "      <td>False</td>\n",
       "    </tr>\n",
       "    <tr>\n",
       "      <th>4</th>\n",
       "      <td>multi_get_bool(bool &amp;value)\\n{\\n\\tif (!Multi_s...</td>\n",
       "      <td>False</td>\n",
       "      <td>False</td>\n",
       "      <td>False</td>\n",
       "      <td>False</td>\n",
       "      <td>False</td>\n",
       "      <td>False</td>\n",
       "    </tr>\n",
       "  </tbody>\n",
       "</table>\n",
       "</div>"
      ],
      "text/plain": [
       "                                      functionSource  CWE-119  CWE-120  \\\n",
       "0  gwy_resource_class_mkdir(GwyResourceClass *kla...    False    False   \n",
       "1  SetIgnoredFields( const char **papszFields )\\n...    False    False   \n",
       "2  timeoutProtoDisplays(void)\\n{\\n    struct prot...    False    False   \n",
       "3  SelectViewsOf (GraphicComp* comp, Editor* ed) ...    False    False   \n",
       "4  multi_get_bool(bool &value)\\n{\\n\\tif (!Multi_s...    False    False   \n",
       "\n",
       "   CWE-469  CWE-476  CWE-other  combine  \n",
       "0    False    False      False    False  \n",
       "1    False    False      False    False  \n",
       "2    False    False      False    False  \n",
       "3    False    False      False    False  \n",
       "4    False    False      False    False  "
      ]
     },
     "execution_count": 79,
     "metadata": {},
     "output_type": "execute_result"
    }
   ],
   "source": [
    "val.head()"
   ]
  },
  {
   "cell_type": "code",
   "execution_count": 80,
   "metadata": {},
   "outputs": [
    {
     "data": {
      "text/plain": [
       "'gwy_resource_class_mkdir(GwyResourceClass *klass)\\n{\\n    gchar *path;\\n    gint ok;\\n\\n    g_return_val_if_fail(GWY_IS_RESOURCE_CLASS(klass), FALSE);\\n\\n    path = g_build_filename(gwy_get_user_dir(), klass->name, NULL);\\n    if (g_file_test(path, G_FILE_TEST_IS_DIR)) {\\n        g_free(path);\\n        return TRUE;\\n    }\\n\\n    ok = !g_mkdir(path, 0700);\\n    g_free(path);\\n\\n    return ok;\\n}'"
      ]
     },
     "execution_count": 80,
     "metadata": {},
     "output_type": "execute_result"
    }
   ],
   "source": [
    "val.iloc[0,0]"
   ]
  },
  {
   "cell_type": "markdown",
   "metadata": {},
   "source": [
    "* There's a difference between language.\n",
    "* The vulnerability dataset is in C and C++\n",
    "* The source code classification dataset is in C++ however it is clean code from OJ Bench.\n",
    "* But since they're using `pycparser` as their parser, it should work for both languages"
   ]
  },
  {
   "cell_type": "markdown",
   "metadata": {},
   "source": [
    "Creating the same structure for implementation on the ASTNN architecture"
   ]
  },
  {
   "cell_type": "code",
   "execution_count": 92,
   "metadata": {},
   "outputs": [],
   "source": [
    "newdf = val.iloc[:,[0,6]]"
   ]
  },
  {
   "cell_type": "code",
   "execution_count": null,
   "metadata": {},
   "outputs": [],
   "source": [
    "newdf['id'] = pd.Series(val.index.values)"
   ]
  },
  {
   "cell_type": "code",
   "execution_count": 96,
   "metadata": {},
   "outputs": [],
   "source": [
    "newdf = newdf.iloc[:,[2,0,1]]"
   ]
  },
  {
   "cell_type": "code",
   "execution_count": 101,
   "metadata": {},
   "outputs": [],
   "source": [
    "newdf.iloc[:,2] = newdf.iloc[:,2].map({True:0, False:1})"
   ]
  },
  {
   "cell_type": "code",
   "execution_count": 102,
   "metadata": {},
   "outputs": [
    {
     "data": {
      "text/html": [
       "<div>\n",
       "<style scoped>\n",
       "    .dataframe tbody tr th:only-of-type {\n",
       "        vertical-align: middle;\n",
       "    }\n",
       "\n",
       "    .dataframe tbody tr th {\n",
       "        vertical-align: top;\n",
       "    }\n",
       "\n",
       "    .dataframe thead th {\n",
       "        text-align: right;\n",
       "    }\n",
       "</style>\n",
       "<table border=\"1\" class=\"dataframe\">\n",
       "  <thead>\n",
       "    <tr style=\"text-align: right;\">\n",
       "      <th></th>\n",
       "      <th>id</th>\n",
       "      <th>functionSource</th>\n",
       "      <th>combine</th>\n",
       "    </tr>\n",
       "  </thead>\n",
       "  <tbody>\n",
       "    <tr>\n",
       "      <th>0</th>\n",
       "      <td>0</td>\n",
       "      <td>gwy_resource_class_mkdir(GwyResourceClass *kla...</td>\n",
       "      <td>1</td>\n",
       "    </tr>\n",
       "    <tr>\n",
       "      <th>1</th>\n",
       "      <td>1</td>\n",
       "      <td>SetIgnoredFields( const char **papszFields )\\n...</td>\n",
       "      <td>1</td>\n",
       "    </tr>\n",
       "    <tr>\n",
       "      <th>2</th>\n",
       "      <td>2</td>\n",
       "      <td>timeoutProtoDisplays(void)\\n{\\n    struct prot...</td>\n",
       "      <td>1</td>\n",
       "    </tr>\n",
       "    <tr>\n",
       "      <th>3</th>\n",
       "      <td>3</td>\n",
       "      <td>SelectViewsOf (GraphicComp* comp, Editor* ed) ...</td>\n",
       "      <td>1</td>\n",
       "    </tr>\n",
       "    <tr>\n",
       "      <th>4</th>\n",
       "      <td>4</td>\n",
       "      <td>multi_get_bool(bool &amp;value)\\n{\\n\\tif (!Multi_s...</td>\n",
       "      <td>1</td>\n",
       "    </tr>\n",
       "    <tr>\n",
       "      <th>...</th>\n",
       "      <td>...</td>\n",
       "      <td>...</td>\n",
       "      <td>...</td>\n",
       "    </tr>\n",
       "    <tr>\n",
       "      <th>127471</th>\n",
       "      <td>127471</td>\n",
       "      <td>Java_org_gdal_gdal_gdalJNI_Band_1GetHistogram_...</td>\n",
       "      <td>0</td>\n",
       "    </tr>\n",
       "    <tr>\n",
       "      <th>127472</th>\n",
       "      <td>127472</td>\n",
       "      <td>rb_singleton_class(VALUE obj)\\n{\\n    VALUE kl...</td>\n",
       "      <td>1</td>\n",
       "    </tr>\n",
       "    <tr>\n",
       "      <th>127473</th>\n",
       "      <td>127473</td>\n",
       "      <td>clutter_text_set_justify (ClutterText *self,\\n...</td>\n",
       "      <td>1</td>\n",
       "    </tr>\n",
       "    <tr>\n",
       "      <th>127474</th>\n",
       "      <td>127474</td>\n",
       "      <td>set_sensitive_animation()\\n{\\n\\tGtkWidget *rot...</td>\n",
       "      <td>1</td>\n",
       "    </tr>\n",
       "    <tr>\n",
       "      <th>127475</th>\n",
       "      <td>127475</td>\n",
       "      <td>ff_snow_inner_add_yblock_mmx(const uint8_t *ob...</td>\n",
       "      <td>1</td>\n",
       "    </tr>\n",
       "  </tbody>\n",
       "</table>\n",
       "<p>127476 rows × 3 columns</p>\n",
       "</div>"
      ],
      "text/plain": [
       "            id                                     functionSource  combine\n",
       "0            0  gwy_resource_class_mkdir(GwyResourceClass *kla...        1\n",
       "1            1  SetIgnoredFields( const char **papszFields )\\n...        1\n",
       "2            2  timeoutProtoDisplays(void)\\n{\\n    struct prot...        1\n",
       "3            3  SelectViewsOf (GraphicComp* comp, Editor* ed) ...        1\n",
       "4            4  multi_get_bool(bool &value)\\n{\\n\\tif (!Multi_s...        1\n",
       "...        ...                                                ...      ...\n",
       "127471  127471  Java_org_gdal_gdal_gdalJNI_Band_1GetHistogram_...        0\n",
       "127472  127472  rb_singleton_class(VALUE obj)\\n{\\n    VALUE kl...        1\n",
       "127473  127473  clutter_text_set_justify (ClutterText *self,\\n...        1\n",
       "127474  127474  set_sensitive_animation()\\n{\\n\\tGtkWidget *rot...        1\n",
       "127475  127475  ff_snow_inner_add_yblock_mmx(const uint8_t *ob...        1\n",
       "\n",
       "[127476 rows x 3 columns]"
      ]
     },
     "execution_count": 102,
     "metadata": {},
     "output_type": "execute_result"
    }
   ],
   "source": [
    "newdf"
   ]
  },
  {
   "cell_type": "code",
   "execution_count": 187,
   "metadata": {},
   "outputs": [],
   "source": [
    "from pycparser import c_parser, parse_file\n",
    "import re"
   ]
  },
  {
   "cell_type": "code",
   "execution_count": 104,
   "metadata": {},
   "outputs": [],
   "source": [
    "parser = c_parser.CParser()"
   ]
  },
  {
   "cell_type": "code",
   "execution_count": 190,
   "metadata": {},
   "outputs": [],
   "source": [
    "k = newdf.iloc[0,1]"
   ]
  },
  {
   "cell_type": "code",
   "execution_count": 210,
   "metadata": {},
   "outputs": [
    {
     "data": {
      "text/plain": [
       "'int main()\\n{\\n\\tint n,i=0,j=2,p,q,r;\\n\\tint m[100],t[100];\\n\\tscanf(\"%d\\\\n\",&n);\\n\\tfor(i=0;i<n-1;i++)\\n\\t{\\n\\t\\tscanf(\"%d\\\\n\",&m[i]);\\n\\t}\\n\\tscanf(\"%d\",&m[n-1]);\\n\\ti=0;\\n\\tfor(i=0;i<n;i++)\\n\\t{\\n\\t\\tif(m[i]==1||m[i]==2)\\n\\t\\t{\\n\\t\\t\\tt[i]=1;\\n\\t\\t}\\n\\t\\tif(m[i]>2)\\n\\t\\t{\\n\\t\\t\\tp=1;\\n\\t\\t\\tq=1;\\n\\t\\t\\tfor(j=2;j<m[i];j++)\\n\\t\\t\\t{\\n\\t\\t\\t\\tr=q;\\n\\t\\t\\t\\tq=p+q;\\n\\t\\t\\t\\tp=r;\\n\\t\\t\\t}\\n\\t\\t\\tt[i]=q;\\n\\t\\t\\tj=2;\\n\\t\\t}\\n\\t}\\n\\ti=0;\\n\\tfor(i=0;i<n-1;i++)\\n\\t{\\n\\t\\tprintf(\"%d\\\\n\",t[i]);\\n\\t}\\n\\tprintf(\"%d\",t[n-1]);\\n\\treturn 0;\\n}'"
      ]
     },
     "execution_count": 210,
     "metadata": {},
     "output_type": "execute_result"
    }
   ],
   "source": [
    "mydf.iloc[14321,1]"
   ]
  },
  {
   "cell_type": "code",
   "execution_count": 211,
   "metadata": {},
   "outputs": [
    {
     "data": {
      "text/plain": [
       "'_serialize_list (GSList *objects_list, GType g_type)\\n{\\n  JsonArray *json_array = NULL;\\n  JsonNode *list_node = NULL;\\n  GObject *object = NULL;\\n  GSList *item = NULL;\\n  const gchar *id = NULL;\\n\\n  json_array = json_array_new ();\\n  for (item = objects_list; item; item = g_slist_next (item))\\n    {\\n      /* We just serialize the ID of the group / set */\\n      object = G_OBJECT (item->data);\\n      if (g_type == FROGR_TYPE_PHOTOSET)\\n        {\\n          id = frogr_photoset_get_id (FROGR_PHOTOSET (object));\\n          if (!id)\\n            id = frogr_photoset_get_local_id (FROGR_PHOTOSET (object));\\n        }\\n      else if (g_type == FROGR_TYPE_GROUP)\\n        id = frogr_group_get_id (FROGR_GROUP (object));\\n\\n      if (id)\\n        json_array_add_string_element (json_array, id);\\n    }\\n\\n  list_node = json_node_new(JSON_NODE_ARRAY);\\n  json_node_set_array (list_node, json_array);\\n\\n  return list_node;\\n}'"
      ]
     },
     "execution_count": 211,
     "metadata": {},
     "output_type": "execute_result"
    }
   ],
   "source": [
    "newdf.iloc[2134,1]"
   ]
  },
  {
   "cell_type": "code",
   "execution_count": 207,
   "metadata": {},
   "outputs": [],
   "source": [
    "k = 'gwy_resource_class_mkdir(GwyResourceClass)\\n{\\n    char *path;\\n    int ok;\\n\\n    g_return_val_if_fail(GWY_IS_RESOURCE_CLASS(klass), FALSE);\\n\\n    path = g_build_filename(gwy_get_user_dir(), klass->name, NULL);\\n    if (g_file_test(path, G_FILE_TEST_IS_DIR)) {\\n        g_free(path);\\n        return TRUE;\\n    }\\n\\n    ok = !g_mkdir(path, 0700);\\n    g_free(path);\\n\\n    return ok;\\n}'"
   ]
  },
  {
   "cell_type": "code",
   "execution_count": 208,
   "metadata": {},
   "outputs": [
    {
     "data": {
      "text/plain": [
       "FileAST(ext=[FuncDef(decl=Decl(name='gwy_resource_class_mkdir',\n",
       "                               quals=[\n",
       "                                     ],\n",
       "                               storage=[\n",
       "                                       ],\n",
       "                               funcspec=[\n",
       "                                        ],\n",
       "                               type=FuncDecl(args=ParamList(params=[ID(name='GwyResourceClass'\n",
       "                                                                       )\n",
       "                                                                   ]\n",
       "                                                            ),\n",
       "                                             type=TypeDecl(declname='gwy_resource_class_mkdir',\n",
       "                                                           quals=[\n",
       "                                                                 ],\n",
       "                                                           type=IdentifierType(names=['int'\n",
       "                                                                                     ]\n",
       "                                                                               )\n",
       "                                                           )\n",
       "                                             ),\n",
       "                               init=None,\n",
       "                               bitsize=None\n",
       "                               ),\n",
       "                     param_decls=None,\n",
       "                     body=Compound(block_items=[Decl(name='path',\n",
       "                                                     quals=[\n",
       "                                                           ],\n",
       "                                                     storage=[\n",
       "                                                             ],\n",
       "                                                     funcspec=[\n",
       "                                                              ],\n",
       "                                                     type=PtrDecl(quals=[\n",
       "                                                                        ],\n",
       "                                                                  type=TypeDecl(declname='path',\n",
       "                                                                                quals=[\n",
       "                                                                                      ],\n",
       "                                                                                type=IdentifierType(names=['char'\n",
       "                                                                                                          ]\n",
       "                                                                                                    )\n",
       "                                                                                )\n",
       "                                                                  ),\n",
       "                                                     init=None,\n",
       "                                                     bitsize=None\n",
       "                                                     ),\n",
       "                                                Decl(name='ok',\n",
       "                                                     quals=[\n",
       "                                                           ],\n",
       "                                                     storage=[\n",
       "                                                             ],\n",
       "                                                     funcspec=[\n",
       "                                                              ],\n",
       "                                                     type=TypeDecl(declname='ok',\n",
       "                                                                   quals=[\n",
       "                                                                         ],\n",
       "                                                                   type=IdentifierType(names=['int'\n",
       "                                                                                             ]\n",
       "                                                                                       )\n",
       "                                                                   ),\n",
       "                                                     init=None,\n",
       "                                                     bitsize=None\n",
       "                                                     ),\n",
       "                                                FuncCall(name=ID(name='g_return_val_if_fail'\n",
       "                                                                 ),\n",
       "                                                         args=ExprList(exprs=[FuncCall(name=ID(name='GWY_IS_RESOURCE_CLASS'\n",
       "                                                                                               ),\n",
       "                                                                                       args=ExprList(exprs=[ID(name='klass'\n",
       "                                                                                                               )\n",
       "                                                                                                           ]\n",
       "                                                                                                     )\n",
       "                                                                                       ),\n",
       "                                                                              ID(name='FALSE'\n",
       "                                                                                 )\n",
       "                                                                             ]\n",
       "                                                                       )\n",
       "                                                         ),\n",
       "                                                Assignment(op='=',\n",
       "                                                           lvalue=ID(name='path'\n",
       "                                                                     ),\n",
       "                                                           rvalue=FuncCall(name=ID(name='g_build_filename'\n",
       "                                                                                   ),\n",
       "                                                                           args=ExprList(exprs=[FuncCall(name=ID(name='gwy_get_user_dir'\n",
       "                                                                                                                 ),\n",
       "                                                                                                         args=None\n",
       "                                                                                                         ),\n",
       "                                                                                                StructRef(name=ID(name='klass'\n",
       "                                                                                                                  ),\n",
       "                                                                                                          type='->',\n",
       "                                                                                                          field=ID(name='name'\n",
       "                                                                                                                   )\n",
       "                                                                                                          ),\n",
       "                                                                                                ID(name='NULL'\n",
       "                                                                                                   )\n",
       "                                                                                               ]\n",
       "                                                                                         )\n",
       "                                                                           )\n",
       "                                                           ),\n",
       "                                                If(cond=FuncCall(name=ID(name='g_file_test'\n",
       "                                                                         ),\n",
       "                                                                 args=ExprList(exprs=[ID(name='path'\n",
       "                                                                                         ),\n",
       "                                                                                      ID(name='G_FILE_TEST_IS_DIR'\n",
       "                                                                                         )\n",
       "                                                                                     ]\n",
       "                                                                               )\n",
       "                                                                 ),\n",
       "                                                   iftrue=Compound(block_items=[FuncCall(name=ID(name='g_free'\n",
       "                                                                                                 ),\n",
       "                                                                                         args=ExprList(exprs=[ID(name='path'\n",
       "                                                                                                                 )\n",
       "                                                                                                             ]\n",
       "                                                                                                       )\n",
       "                                                                                         ),\n",
       "                                                                                Return(expr=ID(name='TRUE'\n",
       "                                                                                               )\n",
       "                                                                                       )\n",
       "                                                                               ]\n",
       "                                                                   ),\n",
       "                                                   iffalse=None\n",
       "                                                   ),\n",
       "                                                Assignment(op='=',\n",
       "                                                           lvalue=ID(name='ok'\n",
       "                                                                     ),\n",
       "                                                           rvalue=UnaryOp(op='!',\n",
       "                                                                          expr=FuncCall(name=ID(name='g_mkdir'\n",
       "                                                                                                ),\n",
       "                                                                                        args=ExprList(exprs=[ID(name='path'\n",
       "                                                                                                                ),\n",
       "                                                                                                             Constant(type='int',\n",
       "                                                                                                                      value='0700'\n",
       "                                                                                                                      )\n",
       "                                                                                                            ]\n",
       "                                                                                                      )\n",
       "                                                                                        )\n",
       "                                                                          )\n",
       "                                                           ),\n",
       "                                                FuncCall(name=ID(name='g_free'\n",
       "                                                                 ),\n",
       "                                                         args=ExprList(exprs=[ID(name='path'\n",
       "                                                                                 )\n",
       "                                                                             ]\n",
       "                                                                       )\n",
       "                                                         ),\n",
       "                                                Return(expr=ID(name='ok'\n",
       "                                                               )\n",
       "                                                       )\n",
       "                                               ]\n",
       "                                   )\n",
       "                     )\n",
       "            ]\n",
       "        )"
      ]
     },
     "execution_count": 208,
     "metadata": {},
     "output_type": "execute_result"
    }
   ],
   "source": [
    "parser.parse(k)"
   ]
  },
  {
   "cell_type": "code",
   "execution_count": 204,
   "metadata": {},
   "outputs": [
    {
     "ename": "ParseError",
     "evalue": "test.c:4:10: before: ok",
     "output_type": "error",
     "traceback": [
      "\u001b[0;31m---------------------------------------------------------------------------\u001b[0m",
      "\u001b[0;31mParseError\u001b[0m                                Traceback (most recent call last)",
      "\u001b[0;32m<ipython-input-204-c2804b34e5e9>\u001b[0m in \u001b[0;36m<module>\u001b[0;34m\u001b[0m\n\u001b[0;32m----> 1\u001b[0;31m \u001b[0mparse_file\u001b[0m\u001b[0;34m(\u001b[0m\u001b[0;34m'test.c'\u001b[0m\u001b[0;34m,\u001b[0m\u001b[0muse_cpp\u001b[0m\u001b[0;34m=\u001b[0m\u001b[0;32mTrue\u001b[0m\u001b[0;34m)\u001b[0m\u001b[0;34m\u001b[0m\u001b[0;34m\u001b[0m\u001b[0m\n\u001b[0m",
      "\u001b[0;32m/data/anaconda3/envs/tensorflow/lib/python3.6/site-packages/pycparser/__init__.py\u001b[0m in \u001b[0;36mparse_file\u001b[0;34m(filename, use_cpp, cpp_path, cpp_args, parser)\u001b[0m\n\u001b[1;32m     88\u001b[0m     \u001b[0;32mif\u001b[0m \u001b[0mparser\u001b[0m \u001b[0;32mis\u001b[0m \u001b[0;32mNone\u001b[0m\u001b[0;34m:\u001b[0m\u001b[0;34m\u001b[0m\u001b[0;34m\u001b[0m\u001b[0m\n\u001b[1;32m     89\u001b[0m         \u001b[0mparser\u001b[0m \u001b[0;34m=\u001b[0m \u001b[0mCParser\u001b[0m\u001b[0;34m(\u001b[0m\u001b[0;34m)\u001b[0m\u001b[0;34m\u001b[0m\u001b[0;34m\u001b[0m\u001b[0m\n\u001b[0;32m---> 90\u001b[0;31m     \u001b[0;32mreturn\u001b[0m \u001b[0mparser\u001b[0m\u001b[0;34m.\u001b[0m\u001b[0mparse\u001b[0m\u001b[0;34m(\u001b[0m\u001b[0mtext\u001b[0m\u001b[0;34m,\u001b[0m \u001b[0mfilename\u001b[0m\u001b[0;34m)\u001b[0m\u001b[0;34m\u001b[0m\u001b[0;34m\u001b[0m\u001b[0m\n\u001b[0m",
      "\u001b[0;32m/data/anaconda3/envs/tensorflow/lib/python3.6/site-packages/pycparser/c_parser.py\u001b[0m in \u001b[0;36mparse\u001b[0;34m(self, text, filename, debuglevel)\u001b[0m\n\u001b[1;32m    150\u001b[0m                 \u001b[0minput\u001b[0m\u001b[0;34m=\u001b[0m\u001b[0mtext\u001b[0m\u001b[0;34m,\u001b[0m\u001b[0;34m\u001b[0m\u001b[0;34m\u001b[0m\u001b[0m\n\u001b[1;32m    151\u001b[0m                 \u001b[0mlexer\u001b[0m\u001b[0;34m=\u001b[0m\u001b[0mself\u001b[0m\u001b[0;34m.\u001b[0m\u001b[0mclex\u001b[0m\u001b[0;34m,\u001b[0m\u001b[0;34m\u001b[0m\u001b[0;34m\u001b[0m\u001b[0m\n\u001b[0;32m--> 152\u001b[0;31m                 debug=debuglevel)\n\u001b[0m\u001b[1;32m    153\u001b[0m \u001b[0;34m\u001b[0m\u001b[0m\n\u001b[1;32m    154\u001b[0m     \u001b[0;31m######################--   PRIVATE   --######################\u001b[0m\u001b[0;34m\u001b[0m\u001b[0;34m\u001b[0m\u001b[0;34m\u001b[0m\u001b[0m\n",
      "\u001b[0;32m/data/anaconda3/envs/tensorflow/lib/python3.6/site-packages/pycparser/ply/yacc.py\u001b[0m in \u001b[0;36mparse\u001b[0;34m(self, input, lexer, debug, tracking, tokenfunc)\u001b[0m\n\u001b[1;32m    329\u001b[0m             \u001b[0;32mreturn\u001b[0m \u001b[0mself\u001b[0m\u001b[0;34m.\u001b[0m\u001b[0mparseopt\u001b[0m\u001b[0;34m(\u001b[0m\u001b[0minput\u001b[0m\u001b[0;34m,\u001b[0m \u001b[0mlexer\u001b[0m\u001b[0;34m,\u001b[0m \u001b[0mdebug\u001b[0m\u001b[0;34m,\u001b[0m \u001b[0mtracking\u001b[0m\u001b[0;34m,\u001b[0m \u001b[0mtokenfunc\u001b[0m\u001b[0;34m)\u001b[0m\u001b[0;34m\u001b[0m\u001b[0;34m\u001b[0m\u001b[0m\n\u001b[1;32m    330\u001b[0m         \u001b[0;32melse\u001b[0m\u001b[0;34m:\u001b[0m\u001b[0;34m\u001b[0m\u001b[0;34m\u001b[0m\u001b[0m\n\u001b[0;32m--> 331\u001b[0;31m             \u001b[0;32mreturn\u001b[0m \u001b[0mself\u001b[0m\u001b[0;34m.\u001b[0m\u001b[0mparseopt_notrack\u001b[0m\u001b[0;34m(\u001b[0m\u001b[0minput\u001b[0m\u001b[0;34m,\u001b[0m \u001b[0mlexer\u001b[0m\u001b[0;34m,\u001b[0m \u001b[0mdebug\u001b[0m\u001b[0;34m,\u001b[0m \u001b[0mtracking\u001b[0m\u001b[0;34m,\u001b[0m \u001b[0mtokenfunc\u001b[0m\u001b[0;34m)\u001b[0m\u001b[0;34m\u001b[0m\u001b[0;34m\u001b[0m\u001b[0m\n\u001b[0m\u001b[1;32m    332\u001b[0m \u001b[0;34m\u001b[0m\u001b[0m\n\u001b[1;32m    333\u001b[0m \u001b[0;34m\u001b[0m\u001b[0m\n",
      "\u001b[0;32m/data/anaconda3/envs/tensorflow/lib/python3.6/site-packages/pycparser/ply/yacc.py\u001b[0m in \u001b[0;36mparseopt_notrack\u001b[0;34m(self, input, lexer, debug, tracking, tokenfunc)\u001b[0m\n\u001b[1;32m   1197\u001b[0m                             \u001b[0merrtoken\u001b[0m\u001b[0;34m.\u001b[0m\u001b[0mlexer\u001b[0m \u001b[0;34m=\u001b[0m \u001b[0mlexer\u001b[0m\u001b[0;34m\u001b[0m\u001b[0;34m\u001b[0m\u001b[0m\n\u001b[1;32m   1198\u001b[0m                         \u001b[0mself\u001b[0m\u001b[0;34m.\u001b[0m\u001b[0mstate\u001b[0m \u001b[0;34m=\u001b[0m \u001b[0mstate\u001b[0m\u001b[0;34m\u001b[0m\u001b[0;34m\u001b[0m\u001b[0m\n\u001b[0;32m-> 1199\u001b[0;31m                         \u001b[0mtok\u001b[0m \u001b[0;34m=\u001b[0m \u001b[0mcall_errorfunc\u001b[0m\u001b[0;34m(\u001b[0m\u001b[0mself\u001b[0m\u001b[0;34m.\u001b[0m\u001b[0merrorfunc\u001b[0m\u001b[0;34m,\u001b[0m \u001b[0merrtoken\u001b[0m\u001b[0;34m,\u001b[0m \u001b[0mself\u001b[0m\u001b[0;34m)\u001b[0m\u001b[0;34m\u001b[0m\u001b[0;34m\u001b[0m\u001b[0m\n\u001b[0m\u001b[1;32m   1200\u001b[0m                         \u001b[0;32mif\u001b[0m \u001b[0mself\u001b[0m\u001b[0;34m.\u001b[0m\u001b[0merrorok\u001b[0m\u001b[0;34m:\u001b[0m\u001b[0;34m\u001b[0m\u001b[0;34m\u001b[0m\u001b[0m\n\u001b[1;32m   1201\u001b[0m                             \u001b[0;31m# User must have done some kind of panic\u001b[0m\u001b[0;34m\u001b[0m\u001b[0;34m\u001b[0m\u001b[0;34m\u001b[0m\u001b[0m\n",
      "\u001b[0;32m/data/anaconda3/envs/tensorflow/lib/python3.6/site-packages/pycparser/ply/yacc.py\u001b[0m in \u001b[0;36mcall_errorfunc\u001b[0;34m(errorfunc, token, parser)\u001b[0m\n\u001b[1;32m    191\u001b[0m     \u001b[0m_token\u001b[0m \u001b[0;34m=\u001b[0m \u001b[0mparser\u001b[0m\u001b[0;34m.\u001b[0m\u001b[0mtoken\u001b[0m\u001b[0;34m\u001b[0m\u001b[0;34m\u001b[0m\u001b[0m\n\u001b[1;32m    192\u001b[0m     \u001b[0m_restart\u001b[0m \u001b[0;34m=\u001b[0m \u001b[0mparser\u001b[0m\u001b[0;34m.\u001b[0m\u001b[0mrestart\u001b[0m\u001b[0;34m\u001b[0m\u001b[0;34m\u001b[0m\u001b[0m\n\u001b[0;32m--> 193\u001b[0;31m     \u001b[0mr\u001b[0m \u001b[0;34m=\u001b[0m \u001b[0merrorfunc\u001b[0m\u001b[0;34m(\u001b[0m\u001b[0mtoken\u001b[0m\u001b[0;34m)\u001b[0m\u001b[0;34m\u001b[0m\u001b[0;34m\u001b[0m\u001b[0m\n\u001b[0m\u001b[1;32m    194\u001b[0m     \u001b[0;32mtry\u001b[0m\u001b[0;34m:\u001b[0m\u001b[0;34m\u001b[0m\u001b[0;34m\u001b[0m\u001b[0m\n\u001b[1;32m    195\u001b[0m         \u001b[0;32mdel\u001b[0m \u001b[0m_errok\u001b[0m\u001b[0;34m,\u001b[0m \u001b[0m_token\u001b[0m\u001b[0;34m,\u001b[0m \u001b[0m_restart\u001b[0m\u001b[0;34m\u001b[0m\u001b[0;34m\u001b[0m\u001b[0m\n",
      "\u001b[0;32m/data/anaconda3/envs/tensorflow/lib/python3.6/site-packages/pycparser/c_parser.py\u001b[0m in \u001b[0;36mp_error\u001b[0;34m(self, p)\u001b[0m\n\u001b[1;32m   1846\u001b[0m                 \u001b[0;34m'before: %s'\u001b[0m \u001b[0;34m%\u001b[0m \u001b[0mp\u001b[0m\u001b[0;34m.\u001b[0m\u001b[0mvalue\u001b[0m\u001b[0;34m,\u001b[0m\u001b[0;34m\u001b[0m\u001b[0;34m\u001b[0m\u001b[0m\n\u001b[1;32m   1847\u001b[0m                 self._coord(lineno=p.lineno,\n\u001b[0;32m-> 1848\u001b[0;31m                             column=self.clex.find_tok_column(p)))\n\u001b[0m\u001b[1;32m   1849\u001b[0m         \u001b[0;32melse\u001b[0m\u001b[0;34m:\u001b[0m\u001b[0;34m\u001b[0m\u001b[0;34m\u001b[0m\u001b[0m\n\u001b[1;32m   1850\u001b[0m             \u001b[0mself\u001b[0m\u001b[0;34m.\u001b[0m\u001b[0m_parse_error\u001b[0m\u001b[0;34m(\u001b[0m\u001b[0;34m'At end of input'\u001b[0m\u001b[0;34m,\u001b[0m \u001b[0mself\u001b[0m\u001b[0;34m.\u001b[0m\u001b[0mclex\u001b[0m\u001b[0;34m.\u001b[0m\u001b[0mfilename\u001b[0m\u001b[0;34m)\u001b[0m\u001b[0;34m\u001b[0m\u001b[0;34m\u001b[0m\u001b[0m\n",
      "\u001b[0;32m/data/anaconda3/envs/tensorflow/lib/python3.6/site-packages/pycparser/plyparser.py\u001b[0m in \u001b[0;36m_parse_error\u001b[0;34m(self, msg, coord)\u001b[0m\n\u001b[1;32m     65\u001b[0m \u001b[0;34m\u001b[0m\u001b[0m\n\u001b[1;32m     66\u001b[0m     \u001b[0;32mdef\u001b[0m \u001b[0m_parse_error\u001b[0m\u001b[0;34m(\u001b[0m\u001b[0mself\u001b[0m\u001b[0;34m,\u001b[0m \u001b[0mmsg\u001b[0m\u001b[0;34m,\u001b[0m \u001b[0mcoord\u001b[0m\u001b[0;34m)\u001b[0m\u001b[0;34m:\u001b[0m\u001b[0;34m\u001b[0m\u001b[0;34m\u001b[0m\u001b[0m\n\u001b[0;32m---> 67\u001b[0;31m         \u001b[0;32mraise\u001b[0m \u001b[0mParseError\u001b[0m\u001b[0;34m(\u001b[0m\u001b[0;34m\"%s: %s\"\u001b[0m \u001b[0;34m%\u001b[0m \u001b[0;34m(\u001b[0m\u001b[0mcoord\u001b[0m\u001b[0;34m,\u001b[0m \u001b[0mmsg\u001b[0m\u001b[0;34m)\u001b[0m\u001b[0;34m)\u001b[0m\u001b[0;34m\u001b[0m\u001b[0;34m\u001b[0m\u001b[0m\n\u001b[0m\u001b[1;32m     68\u001b[0m \u001b[0;34m\u001b[0m\u001b[0m\n\u001b[1;32m     69\u001b[0m \u001b[0;34m\u001b[0m\u001b[0m\n",
      "\u001b[0;31mParseError\u001b[0m: test.c:4:10: before: ok"
     ]
    }
   ],
   "source": [
    "parse_file('test.c',use_cpp=True)"
   ]
  },
  {
   "cell_type": "code",
   "execution_count": 129,
   "metadata": {},
   "outputs": [],
   "source": [
    "z = pd.read_pickle('astnn/data/test/test_.pkl')"
   ]
  },
  {
   "cell_type": "code",
   "execution_count": 130,
   "metadata": {},
   "outputs": [
    {
     "data": {
      "text/html": [
       "<div>\n",
       "<style scoped>\n",
       "    .dataframe tbody tr th:only-of-type {\n",
       "        vertical-align: middle;\n",
       "    }\n",
       "\n",
       "    .dataframe tbody tr th {\n",
       "        vertical-align: top;\n",
       "    }\n",
       "\n",
       "    .dataframe thead th {\n",
       "        text-align: right;\n",
       "    }\n",
       "</style>\n",
       "<table border=\"1\" class=\"dataframe\">\n",
       "  <thead>\n",
       "    <tr style=\"text-align: right;\">\n",
       "      <th></th>\n",
       "      <th>id</th>\n",
       "      <th>code</th>\n",
       "      <th>label</th>\n",
       "    </tr>\n",
       "  </thead>\n",
       "  <tbody>\n",
       "    <tr>\n",
       "      <th>45281</th>\n",
       "      <td>45281</td>\n",
       "      <td>FileAST(ext=[FuncDef(decl=Decl(name='main',\\n ...</td>\n",
       "      <td>3</td>\n",
       "    </tr>\n",
       "    <tr>\n",
       "      <th>40377</th>\n",
       "      <td>40377</td>\n",
       "      <td>FileAST(ext=[Decl(name='s',\\n                 ...</td>\n",
       "      <td>64</td>\n",
       "    </tr>\n",
       "    <tr>\n",
       "      <th>3220</th>\n",
       "      <td>3220</td>\n",
       "      <td>FileAST(ext=[Decl(name='B',\\n                 ...</td>\n",
       "      <td>90</td>\n",
       "    </tr>\n",
       "    <tr>\n",
       "      <th>20981</th>\n",
       "      <td>20981</td>\n",
       "      <td>FileAST(ext=[FuncDef(decl=Decl(name='main',\\n ...</td>\n",
       "      <td>98</td>\n",
       "    </tr>\n",
       "    <tr>\n",
       "      <th>36621</th>\n",
       "      <td>36621</td>\n",
       "      <td>FileAST(ext=[FuncDef(decl=Decl(name='main',\\n ...</td>\n",
       "      <td>26</td>\n",
       "    </tr>\n",
       "  </tbody>\n",
       "</table>\n",
       "</div>"
      ],
      "text/plain": [
       "          id                                               code  label\n",
       "45281  45281  FileAST(ext=[FuncDef(decl=Decl(name='main',\\n ...      3\n",
       "40377  40377  FileAST(ext=[Decl(name='s',\\n                 ...     64\n",
       "3220    3220  FileAST(ext=[Decl(name='B',\\n                 ...     90\n",
       "20981  20981  FileAST(ext=[FuncDef(decl=Decl(name='main',\\n ...     98\n",
       "36621  36621  FileAST(ext=[FuncDef(decl=Decl(name='main',\\n ...     26"
      ]
     },
     "execution_count": 130,
     "metadata": {},
     "output_type": "execute_result"
    }
   ],
   "source": [
    "z.head()"
   ]
  },
  {
   "cell_type": "code",
   "execution_count": 131,
   "metadata": {},
   "outputs": [
    {
     "data": {
      "text/plain": [
       "FileAST(ext=[FuncDef(decl=Decl(name='main',\n",
       "                               quals=[\n",
       "                                     ],\n",
       "                               storage=[\n",
       "                                       ],\n",
       "                               funcspec=[\n",
       "                                        ],\n",
       "                               type=FuncDecl(args=None,\n",
       "                                             type=TypeDecl(declname='main',\n",
       "                                                           quals=[\n",
       "                                                                 ],\n",
       "                                                           type=IdentifierType(names=['int'\n",
       "                                                                                     ]\n",
       "                                                                               )\n",
       "                                                           )\n",
       "                                             ),\n",
       "                               init=None,\n",
       "                               bitsize=None\n",
       "                               ),\n",
       "                     param_decls=None,\n",
       "                     body=Compound(block_items=[Decl(name='n',\n",
       "                                                     quals=[\n",
       "                                                           ],\n",
       "                                                     storage=[\n",
       "                                                             ],\n",
       "                                                     funcspec=[\n",
       "                                                              ],\n",
       "                                                     type=TypeDecl(declname='n',\n",
       "                                                                   quals=[\n",
       "                                                                         ],\n",
       "                                                                   type=IdentifierType(names=['int'\n",
       "                                                                                             ]\n",
       "                                                                                       )\n",
       "                                                                   ),\n",
       "                                                     init=None,\n",
       "                                                     bitsize=None\n",
       "                                                     ),\n",
       "                                                Decl(name='k',\n",
       "                                                     quals=[\n",
       "                                                           ],\n",
       "                                                     storage=[\n",
       "                                                             ],\n",
       "                                                     funcspec=[\n",
       "                                                              ],\n",
       "                                                     type=TypeDecl(declname='k',\n",
       "                                                                   quals=[\n",
       "                                                                         ],\n",
       "                                                                   type=IdentifierType(names=['int'\n",
       "                                                                                             ]\n",
       "                                                                                       )\n",
       "                                                                   ),\n",
       "                                                     init=None,\n",
       "                                                     bitsize=None\n",
       "                                                     ),\n",
       "                                                Decl(name='m',\n",
       "                                                     quals=[\n",
       "                                                           ],\n",
       "                                                     storage=[\n",
       "                                                             ],\n",
       "                                                     funcspec=[\n",
       "                                                              ],\n",
       "                                                     type=ArrayDecl(type=TypeDecl(declname='m',\n",
       "                                                                                  quals=[\n",
       "                                                                                        ],\n",
       "                                                                                  type=IdentifierType(names=['int'\n",
       "                                                                                                            ]\n",
       "                                                                                                      )\n",
       "                                                                                  ),\n",
       "                                                                    dim=Constant(type='int',\n",
       "                                                                                 value='1000'\n",
       "                                                                                 ),\n",
       "                                                                    dim_quals=[\n",
       "                                                                              ]\n",
       "                                                                    ),\n",
       "                                                     init=None,\n",
       "                                                     bitsize=None\n",
       "                                                     ),\n",
       "                                                Decl(name='i',\n",
       "                                                     quals=[\n",
       "                                                           ],\n",
       "                                                     storage=[\n",
       "                                                             ],\n",
       "                                                     funcspec=[\n",
       "                                                              ],\n",
       "                                                     type=TypeDecl(declname='i',\n",
       "                                                                   quals=[\n",
       "                                                                         ],\n",
       "                                                                   type=IdentifierType(names=['int'\n",
       "                                                                                             ]\n",
       "                                                                                       )\n",
       "                                                                   ),\n",
       "                                                     init=None,\n",
       "                                                     bitsize=None\n",
       "                                                     ),\n",
       "                                                Decl(name='j',\n",
       "                                                     quals=[\n",
       "                                                           ],\n",
       "                                                     storage=[\n",
       "                                                             ],\n",
       "                                                     funcspec=[\n",
       "                                                              ],\n",
       "                                                     type=TypeDecl(declname='j',\n",
       "                                                                   quals=[\n",
       "                                                                         ],\n",
       "                                                                   type=IdentifierType(names=['int'\n",
       "                                                                                             ]\n",
       "                                                                                       )\n",
       "                                                                   ),\n",
       "                                                     init=None,\n",
       "                                                     bitsize=None\n",
       "                                                     ),\n",
       "                                                FuncCall(name=ID(name='scanf'\n",
       "                                                                 ),\n",
       "                                                         args=ExprList(exprs=[Constant(type='string',\n",
       "                                                                                       value='\"%d%d\"'\n",
       "                                                                                       ),\n",
       "                                                                              UnaryOp(op='&',\n",
       "                                                                                      expr=ID(name='n'\n",
       "                                                                                              )\n",
       "                                                                                      ),\n",
       "                                                                              UnaryOp(op='&',\n",
       "                                                                                      expr=ID(name='k'\n",
       "                                                                                              )\n",
       "                                                                                      )\n",
       "                                                                             ]\n",
       "                                                                       )\n",
       "                                                         ),\n",
       "                                                For(init=Assignment(op='=',\n",
       "                                                                    lvalue=ID(name='i'\n",
       "                                                                              ),\n",
       "                                                                    rvalue=Constant(type='int',\n",
       "                                                                                    value='0'\n",
       "                                                                                    )\n",
       "                                                                    ),\n",
       "                                                    cond=BinaryOp(op='<',\n",
       "                                                                  left=ID(name='i'\n",
       "                                                                          ),\n",
       "                                                                  right=ID(name='n'\n",
       "                                                                           )\n",
       "                                                                  ),\n",
       "                                                    next=UnaryOp(op='p++',\n",
       "                                                                 expr=ID(name='i'\n",
       "                                                                         )\n",
       "                                                                 ),\n",
       "                                                    stmt=FuncCall(name=ID(name='scanf'\n",
       "                                                                          ),\n",
       "                                                                  args=ExprList(exprs=[Constant(type='string',\n",
       "                                                                                                value='\"%d\"'\n",
       "                                                                                                ),\n",
       "                                                                                       UnaryOp(op='&',\n",
       "                                                                                               expr=ArrayRef(name=ID(name='m'\n",
       "                                                                                                                     ),\n",
       "                                                                                                             subscript=ID(name='i'\n",
       "                                                                                                                          )\n",
       "                                                                                                             )\n",
       "                                                                                               )\n",
       "                                                                                      ]\n",
       "                                                                                )\n",
       "                                                                  )\n",
       "                                                    ),\n",
       "                                                For(init=Assignment(op='=',\n",
       "                                                                    lvalue=ID(name='i'\n",
       "                                                                              ),\n",
       "                                                                    rvalue=Constant(type='int',\n",
       "                                                                                    value='0'\n",
       "                                                                                    )\n",
       "                                                                    ),\n",
       "                                                    cond=BinaryOp(op='<',\n",
       "                                                                  left=ID(name='i'\n",
       "                                                                          ),\n",
       "                                                                  right=ID(name='n'\n",
       "                                                                           )\n",
       "                                                                  ),\n",
       "                                                    next=UnaryOp(op='p++',\n",
       "                                                                 expr=ID(name='i'\n",
       "                                                                         )\n",
       "                                                                 ),\n",
       "                                                    stmt=Compound(block_items=[For(init=Assignment(op='=',\n",
       "                                                                                                   lvalue=ID(name='j'\n",
       "                                                                                                             ),\n",
       "                                                                                                   rvalue=BinaryOp(op='+',\n",
       "                                                                                                                   left=ID(name='i'\n",
       "                                                                                                                           ),\n",
       "                                                                                                                   right=Constant(type='int',\n",
       "                                                                                                                                  value='1'\n",
       "                                                                                                                                  )\n",
       "                                                                                                                   )\n",
       "                                                                                                   ),\n",
       "                                                                                   cond=BinaryOp(op='<',\n",
       "                                                                                                 left=ID(name='j'\n",
       "                                                                                                         ),\n",
       "                                                                                                 right=ID(name='n'\n",
       "                                                                                                          )\n",
       "                                                                                                 ),\n",
       "                                                                                   next=UnaryOp(op='p++',\n",
       "                                                                                                expr=ID(name='j'\n",
       "                                                                                                        )\n",
       "                                                                                                ),\n",
       "                                                                                   stmt=If(cond=BinaryOp(op='==',\n",
       "                                                                                                         left=BinaryOp(op='+',\n",
       "                                                                                                                       left=ArrayRef(name=ID(name='m'\n",
       "                                                                                                                                             ),\n",
       "                                                                                                                                     subscript=ID(name='i'\n",
       "                                                                                                                                                  )\n",
       "                                                                                                                                     ),\n",
       "                                                                                                                       right=ArrayRef(name=ID(name='m'\n",
       "                                                                                                                                              ),\n",
       "                                                                                                                                      subscript=ID(name='j'\n",
       "                                                                                                                                                   )\n",
       "                                                                                                                                      )\n",
       "                                                                                                                       ),\n",
       "                                                                                                         right=ID(name='k'\n",
       "                                                                                                                  )\n",
       "                                                                                                         ),\n",
       "                                                                                           iftrue=Break(),\n",
       "                                                                                           iffalse=None\n",
       "                                                                                           )\n",
       "                                                                                   ),\n",
       "                                                                               If(cond=BinaryOp(op='!=',\n",
       "                                                                                                left=ID(name='j'\n",
       "                                                                                                        ),\n",
       "                                                                                                right=ID(name='n'\n",
       "                                                                                                         )\n",
       "                                                                                                ),\n",
       "                                                                                  iftrue=Break(),\n",
       "                                                                                  iffalse=None\n",
       "                                                                                  )\n",
       "                                                                              ]\n",
       "                                                                  )\n",
       "                                                    ),\n",
       "                                                If(cond=BinaryOp(op='==',\n",
       "                                                                 left=ID(name='i'\n",
       "                                                                         ),\n",
       "                                                                 right=ID(name='n'\n",
       "                                                                          )\n",
       "                                                                 ),\n",
       "                                                   iftrue=FuncCall(name=ID(name='printf'\n",
       "                                                                           ),\n",
       "                                                                   args=ExprList(exprs=[Constant(type='string',\n",
       "                                                                                                 value='\"no\"'\n",
       "                                                                                                 )\n",
       "                                                                                       ]\n",
       "                                                                                 )\n",
       "                                                                   ),\n",
       "                                                   iffalse=FuncCall(name=ID(name='printf'\n",
       "                                                                            ),\n",
       "                                                                    args=ExprList(exprs=[Constant(type='string',\n",
       "                                                                                                  value='\"yes\"'\n",
       "                                                                                                  )\n",
       "                                                                                        ]\n",
       "                                                                                  )\n",
       "                                                                    )\n",
       "                                                   ),\n",
       "                                                Return(expr=Constant(type='int',\n",
       "                                                                     value='0'\n",
       "                                                                     )\n",
       "                                                       )\n",
       "                                               ]\n",
       "                                   )\n",
       "                     )\n",
       "            ]\n",
       "        )"
      ]
     },
     "execution_count": 131,
     "metadata": {},
     "output_type": "execute_result"
    }
   ],
   "source": [
    "z.iloc[0,1]"
   ]
  },
  {
   "cell_type": "code",
   "execution_count": null,
   "metadata": {},
   "outputs": [],
   "source": []
  }
 ],
 "metadata": {
  "kernelspec": {
   "display_name": "Python 3",
   "language": "python",
   "name": "python3"
  },
  "language_info": {
   "codemirror_mode": {
    "name": "ipython",
    "version": 3
   },
   "file_extension": ".py",
   "mimetype": "text/x-python",
   "name": "python",
   "nbconvert_exporter": "python",
   "pygments_lexer": "ipython3",
   "version": "3.6.9"
  }
 },
 "nbformat": 4,
 "nbformat_minor": 4
}
